{
 "cells": [
  {
   "cell_type": "code",
   "execution_count": 1,
   "id": "43171561-b365-4e82-a7a9-724578fbafa8",
   "metadata": {},
   "outputs": [
    {
     "name": "stderr",
     "output_type": "stream",
     "text": [
      "2024-07-09 14:22:38.260784: I tensorflow/core/util/port.cc:111] oneDNN custom operations are on. You may see slightly different numerical results due to floating-point round-off errors from different computation orders. To turn them off, set the environment variable `TF_ENABLE_ONEDNN_OPTS=0`.\n",
      "2024-07-09 14:22:38.300025: E tensorflow/compiler/xla/stream_executor/cuda/cuda_dnn.cc:9342] Unable to register cuDNN factory: Attempting to register factory for plugin cuDNN when one has already been registered\n",
      "2024-07-09 14:22:38.300056: E tensorflow/compiler/xla/stream_executor/cuda/cuda_fft.cc:609] Unable to register cuFFT factory: Attempting to register factory for plugin cuFFT when one has already been registered\n",
      "2024-07-09 14:22:38.300080: E tensorflow/compiler/xla/stream_executor/cuda/cuda_blas.cc:1518] Unable to register cuBLAS factory: Attempting to register factory for plugin cuBLAS when one has already been registered\n",
      "2024-07-09 14:22:38.308334: I tensorflow/core/platform/cpu_feature_guard.cc:182] This TensorFlow binary is optimized to use available CPU instructions in performance-critical operations.\n",
      "To enable the following instructions: AVX2 AVX512F AVX512_VNNI FMA, in other operations, rebuild TensorFlow with the appropriate compiler flags.\n",
      "2024-07-09 14:22:39.561345: W tensorflow/compiler/tf2tensorrt/utils/py_utils.cc:38] TF-TRT Warning: Could not find TensorRT\n"
     ]
    }
   ],
   "source": [
    "%load_ext autoreload\n",
    "%autoreload 2\n",
    "\n",
    "import numpy as np\n",
    "import matplotlib.pyplot as plt\n",
    "import matplotlib.font_manager\n",
    "import pandas as pd\n",
    "import torch\n",
    "import pickle\n",
    "import math\n",
    "import prior.CustomDistribution as custom\n",
    "import config\n",
    "import time\n",
    "import IPython.display as IPd\n",
    "import warnings\n",
    "\n",
    "from forward import Forward\n",
    "from survey import Survey\n",
    "\n",
    "from sbi import utils as utils\n",
    "from sbi.utils import user_input_checks as uic\n",
    "\n",
    "from util import *\n",
    "from block_utils import *\n",
    "from pygimli_utils import *\n",
    "from polynomials import *\n",
    "\n",
    "from sklearn.metrics import mean_squared_error\n",
    "\n",
    "_ = torch.manual_seed(0)"
   ]
  },
  {
   "cell_type": "code",
   "execution_count": 2,
   "id": "437c628f-d7d8-4dd2-a89a-fc70e667b2ef",
   "metadata": {},
   "outputs": [],
   "source": [
    "max_depth = 23.5\n",
    "step_size = 0.5\n",
    "num_points = int(max_depth / step_size) + 1\n",
    "max_resistivity = 1000\n",
    "min_resistivity = 1\n",
    "num_measurements = 23\n",
    "num_dim = 48\n",
    "\n",
    "depths = np.linspace(0, max_depth, num=num_dim)\n",
    "thicknesses = torch.ones(num_dim) * 0.5"
   ]
  },
  {
   "cell_type": "code",
   "execution_count": 3,
   "id": "ef26651e-9f18-4257-b3fd-d6b7c8deeeec",
   "metadata": {},
   "outputs": [],
   "source": [
    "# Survey Setup and Forward Model Setup\n",
    "\n",
    "survey, electrode_spacing = Survey(num_measurements, min_ab_distance=2, max_ab_distance=100).schlumberger_survey()\n",
    "forward = Forward(thicknesses, survey)"
   ]
  },
  {
   "cell_type": "markdown",
   "id": "fc424ccb-8af3-480b-9d64-0ad11331c9fb",
   "metadata": {
    "jp-MarkdownHeadingCollapsed": true
   },
   "source": [
    "## Load all prior distributions"
   ]
  },
  {
   "cell_type": "code",
   "execution_count": 4,
   "id": "0aef0b92-565f-4e39-b855-6d2d75b22d5d",
   "metadata": {},
   "outputs": [
    {
     "name": "stderr",
     "output_type": "stream",
     "text": [
      "/opt/bwhpc/common/jupyter/tensorflow/2023-10-10/lib/python3.9/site-packages/torch/distributions/distribution.py:53: UserWarning: <class 'prior.CustomDistribution.CustomDistribution'> does not define `arg_constraints`. Please set `arg_constraints = {}` or initialize the distribution with `validate_args=False` to turn off validation.\n",
      "  warnings.warn(\n"
     ]
    }
   ],
   "source": [
    "# **** Step prior\n",
    "custom_prior = custom.CustomDistribution(low=min_resistivity, high=max_resistivity, dimension=num_dim)\n",
    "prior_step, *_ = uic.process_prior(custom_prior,\n",
    "                                   custom_prior_wrapper_kwargs=dict(\n",
    "                                       lower_bound=torch.tensor([custom_prior.low] * custom_prior.dimension),\n",
    "                                       upper_bound=torch.tensor([custom_prior.high] * custom_prior.dimension)\n",
    "                                   )\n",
    "                                   )\n",
    "\n",
    "# **** Independent Step Prior\n",
    "# Prior Setup\n",
    "prior_min = torch.as_tensor([min_resistivity] * num_dim)\n",
    "prior_max = torch.as_tensor([max_resistivity] * num_dim)\n",
    "prior_ind_step = utils.BoxUniform(low=prior_min * torch.ones(num_dim), high=prior_max * torch.ones(num_dim))\n",
    "\n",
    "# **** Block Prior \n",
    "n_blocks = 4\n",
    "res_prior_min = torch.as_tensor([min_resistivity] * n_blocks)\n",
    "res_prior_max = torch.as_tensor([max_resistivity] * n_blocks)\n",
    "\n",
    "n_thickness = 3\n",
    "min_thickness = 0.1\n",
    "max_thickness = 20.0\n",
    "thickness_prior_min = torch.as_tensor([min_thickness] * n_thickness)\n",
    "thickness_prior_max = torch.as_tensor([max_thickness] * n_thickness)\n",
    "\n",
    "prior_min = torch.cat([res_prior_min, thickness_prior_min])\n",
    "prior_max = torch.cat([res_prior_max, thickness_prior_max])\n",
    "\n",
    "prior_block = utils.BoxUniform(low=prior_min, high=prior_max)\n",
    "\n",
    "# **** Polynomial Prior\n",
    "num_dim_prior = 5\n",
    "prior_min = torch.as_tensor([-1] * num_dim_prior)\n",
    "prior_max = torch.as_tensor([1] * num_dim_prior)\n",
    "prior_poly = utils.BoxUniform(low=prior_min * torch.ones(num_dim_prior), high=prior_max * torch.ones(num_dim_prior))\n"
   ]
  },
  {
   "cell_type": "markdown",
   "id": "1612c619-cc03-4d59-9dc5-4e7548b61156",
   "metadata": {},
   "source": [
    "## Load all the helper functions and simulators for the models"
   ]
  },
  {
   "cell_type": "markdown",
   "id": "43ed6cf3-00e0-4e45-a402-c32a0e386067",
   "metadata": {},
   "source": [
    "#### Step Model"
   ]
  },
  {
   "cell_type": "code",
   "execution_count": 5,
   "id": "44cf1334-a691-4ba9-9622-522fc18cb599",
   "metadata": {},
   "outputs": [],
   "source": [
    "# Helper functions for the Step Model \n",
    "\n",
    "def steps_forward_model_no_noise(res):\n",
    "    ''' Noiseless forward simulator for the step prior '''\n",
    "    return forward.dc_forward_model(res)\n",
    "\n",
    "\n",
    "def steps_forward_model_base_noise_5(res):\n",
    "    ''' Forward simulator for the step prior adding white noise (of magnitude 5 \\Omega m) to the simulations '''\n",
    "    if (np.any([res < 0])):\n",
    "        nan_array = np.empty((num_measurements,))\n",
    "        nan_array[:] = np.nan\n",
    "        return nan_array\n",
    "    return forward.dc_forward_model_base_noise(res, 5)\n",
    "\n",
    "\n",
    "def rmse(sample, gt):\n",
    "    return np.sqrt(mean_squared_error(gt, sample))\n",
    "\n",
    "\n",
    "def compute_avg_rmse_and_map_rsme_from_step_posterior_sammples(gt_res, gt_app_res):\n",
    "    '''\n",
    "    Computation of error metrics: \n",
    "    The posterior ist samples 10,000 times from which 1,000 samples are evaluated under the forward model. \n",
    "    Among the 1,000 posterior predictive samples the minimal RMSE is assessed. \n",
    "    The respective RMSE of the posterior sample that belongs to the minimal RMSE prediction is caluculated.\n",
    "    The average error over all posterior samples and posterior predictive samples is computed. \n",
    "\n",
    "    For comparison with the minimal RMSEs the MAP sample and it's prediction is computed and the RMSEs are calculated.\n",
    "\n",
    "    returns all error metrics\n",
    "    '''\n",
    "\n",
    "    posterior_sample_size = 10_000\n",
    "    simulation_sample_size = 1_000\n",
    "    percentiles = config.percentiles\n",
    "\n",
    "    posterior_step.set_default_x(gt_app_res)\n",
    "    # Sample from Step posterior\n",
    "    posterior_samples_step = posterior_step.sample((posterior_sample_size,), show_progress_bars=True)\n",
    "\n",
    "    # Get random samples form the posterior samples\n",
    "    perm = torch.randperm(posterior_sample_size)\n",
    "    idx = perm[:simulation_sample_size]\n",
    "    random_post_samples = posterior_samples_step[idx]\n",
    "\n",
    "    # Simulate the Apparent Resistivity from the samples\n",
    "    sim_apparent_resistivities = []\n",
    "    min_rmse_ar = np.infty\n",
    "    min_rmse_res = np.infty\n",
    "\n",
    "    # Compute the minimal RMSE of the posterior predictive samples\n",
    "    for sample in random_post_samples:\n",
    "        app_res = steps_forward_model_no_noise(np.array(sample))\n",
    "        rmse_value_ar = rmse(app_res, gt_app_res)\n",
    "\n",
    "        if rmse_value_ar <= min_rmse_ar:\n",
    "            min_rmse_ar = rmse_value_ar\n",
    "            min_rmse_res = rmse(sample, gt_res)\n",
    "        sim_apparent_resistivities.append(app_res)\n",
    "\n",
    "    print(\"Min RMSE is: \", min_rmse_ar)\n",
    "    mean_res = np.nanmean(random_post_samples, axis=0)\n",
    "    mean_ar = np.nanmean(sim_apparent_resistivities, axis=0)\n",
    "\n",
    "    avg_rmse_param = avg_rmse(gt_res, random_post_samples)\n",
    "    avg_rmse_obs = avg_rmse(gt_app_res, sim_apparent_resistivities)\n",
    "\n",
    "    # Compute the MAP RMSE in obsrevation and parameter space\n",
    "    map = posterior_step.map()[0]\n",
    "    map_app_res = steps_forward_model_no_noise(np.array(map))\n",
    "\n",
    "    map_rmse_res = rmse(map, gt_res)\n",
    "    map_rmse_app_res = rmse(map_app_res, gt_app_res)\n",
    "\n",
    "    return min_rmse_ar, min_rmse_res, mean_res, mean_ar, avg_rmse_param, avg_rmse_obs, map, map_app_res, map_rmse_res, map_rmse_app_res"
   ]
  },
  {
   "cell_type": "markdown",
   "id": "c94f3e0a-b998-4af0-87f3-5b359f8d6b31",
   "metadata": {},
   "source": [
    "#### Polynomial Model"
   ]
  },
  {
   "cell_type": "code",
   "execution_count": 6,
   "id": "c7896d8d-1ebb-4c7f-bc72-18b865de12b6",
   "metadata": {},
   "outputs": [],
   "source": [
    "polynomial = Polynomial(max_depth=max_depth, num_dim=num_dim, max_res=max_resistivity,\n",
    "                        num_measurements=num_measurements)\n",
    "\n",
    "\n",
    "def legendre_forward_nan(coefficients):\n",
    "    ''' \n",
    "    Forward Simulator for the Polynomial Prior \n",
    "    Polymomials that exceed the range of [-1,1] are excluded by outputting an array of nan values. \n",
    "    This is to ensure that samples are within the well-defined range of Legendre Polynoms.  \n",
    "\n",
    "    retturns the apparent resistivity signal from the polynomial depth profile\n",
    "    '''\n",
    "    poly = polynomial.legendre_polynomial_nan(coefficients)\n",
    "    if np.any((poly < -1) | (poly > 1)):\n",
    "        return np.full((num_measurements,), np.nan)\n",
    "    else:\n",
    "        # Shift from [-1,1] interval to [0,2]\n",
    "        # Then multiply by max_resistivity/2 value to cover the resistivity value range [0, max_resistivity]\n",
    "        res = polynomial.poly_to_resistivity(poly)\n",
    "        return forward.dc_forward_model(res)\n",
    "\n",
    "\n",
    "# Interpolate Legendre polynomial coefficients and remove invalid simulations by substitue with nan values\n",
    "def legendre_forward_nan_noise_5(coefficients):\n",
    "    ''' \n",
    "    Forward Simulator for the Polynomial Prior that includes white noise (of magnitude 5 \\Omega m) to the simulations\n",
    "    Polymomials that exceed the range of [-1,1] are excluded by outputting an array of nan values. \n",
    "    This is to ensure that samples are within the well-defined range of Legendre Polynoms.  \n",
    "\n",
    "    returns the apparent resistivity signal from the polynomial depth profile\n",
    "    '''\n",
    "    poly = polynomial.legendre_polynomial_nan(coefficients)\n",
    "    if np.any((poly < -1) | (poly > 1)):\n",
    "        return np.full((num_measurements,), np.nan)\n",
    "    else:\n",
    "        # Shift from [-1,1] interval to [0,2]\n",
    "        # Then multiply by max_resistivity/2 value to cover the resistivity value range [0, max_resistivity]\n",
    "        res = polynomial.poly_to_resistivity(poly)\n",
    "        return forward.dc_forward_model_base_noise(res, 5)\n",
    "\n",
    "\n",
    "def compute_avg_rmse_and_map_rsme_from_poly_posterior_sammples(gt_res, gt_app_res):\n",
    "    '''\n",
    "    Computation of error metrics: \n",
    "    The posterior is sampled 10,000 times from which 1,000 samples are evaluated under the forward model. \n",
    "    Among the 1,000 posterior predictive samples the minimal RMSE is assessed. \n",
    "    The respective RMSE of the posterior sample that belongs to the minimal RMSE prediction is caluculated.\n",
    "    The average error over all posterior samples and posterior predictive samples is computed. \n",
    "\n",
    "    For comparison with the minimal RMSEs the MAP sample and it's prediction is computed and the RMSEs are calculated.\n",
    "\n",
    "    returns all error metrics\n",
    "    '''\n",
    "\n",
    "    posterior_sample_size = 10_000\n",
    "    simulation_sample_size = 1_000\n",
    "    percentiles = config.percentiles\n",
    "\n",
    "    posterior_poly.set_default_x(gt_app_res)\n",
    "    # Sample from Step posterior\n",
    "    posterior_samples_poly = posterior_poly.sample((posterior_sample_size,), show_progress_bars=True)\n",
    "\n",
    "    # Get random samples form the posterior samples\n",
    "    perm = torch.randperm(posterior_sample_size)\n",
    "    idx = perm[:simulation_sample_size]\n",
    "    random_post_samples = posterior_samples_poly[idx]\n",
    "\n",
    "    # Simulate the Apparent Resistivity from the samples\n",
    "    post_resistivities = []\n",
    "    sim_apparent_resistivities = []\n",
    "    min_rmse_ar = np.infty\n",
    "    min_rmse_res = np.infty\n",
    "\n",
    "    # Compute the minimal RMSE of the posterior predictive samples\n",
    "    for sample in random_post_samples:\n",
    "        app_res = legendre_forward_nan(np.array(sample))\n",
    "        if np.isnan(app_res).all():\n",
    "            continue\n",
    "\n",
    "        post_resistivities.append(polynomial.coefficients_to_resistivity(sample))\n",
    "        rmse_value_ar = rmse(app_res, gt_app_res)\n",
    "\n",
    "        if rmse_value_ar <= min_rmse_ar:\n",
    "            min_rmse_ar = rmse_value_ar\n",
    "            min_rmse_res = rmse(polynomial.coefficients_to_resistivity(sample), gt_res)\n",
    "        sim_apparent_resistivities.append(app_res)\n",
    "\n",
    "    print(\"Min RMSE is: \", min_rmse_ar)\n",
    "    mean_res = np.nanmean(random_post_samples, axis=0)\n",
    "    mean_ar = np.nanmean(sim_apparent_resistivities, axis=0)\n",
    "\n",
    "    avg_rmse_param = avg_rmse(gt_res, post_resistivities)\n",
    "    avg_rmse_obs = avg_rmse(gt_app_res, sim_apparent_resistivities)\n",
    "\n",
    "    # Compute the MAP RMSE in observation and parameter space check for potential invalid MAP estimate that exceeds the polynomial inverval of [-1,1]\n",
    "    map = posterior_poly.map()[0]\n",
    "    res_map = polynomial.coefficients_to_resistivity(map)\n",
    "\n",
    "    if not np.isnan(res_map).all():\n",
    "        map_rmse_res = rmse(polynomial.coefficients_to_resistivity(map), gt_res)\n",
    "    else:\n",
    "        map_rmse_res = np.nan\n",
    "\n",
    "    map_app_res = legendre_forward_nan(np.array(map))\n",
    "    if not np.isnan(map_app_res).all():\n",
    "        map_rmse_app_res = rmse(map_app_res, gt_app_res)\n",
    "    else:\n",
    "        map_rmse_app_res = np.nan\n",
    "\n",
    "    return min_rmse_ar, min_rmse_res, mean_res, mean_ar, avg_rmse_param, avg_rmse_obs, map, map_app_res, map_rmse_res, map_rmse_app_res\n"
   ]
  },
  {
   "cell_type": "markdown",
   "id": "58ec1827-162d-4198-8e8e-8b4c520474fa",
   "metadata": {},
   "source": [
    "#### Independent Step Model"
   ]
  },
  {
   "cell_type": "code",
   "execution_count": 13,
   "id": "d443d76a-53c8-452b-b469-7b21940e594e",
   "metadata": {},
   "outputs": [],
   "source": [
    "def compute_avg_rmse_and_map_rsme_from_ind_step_posterior_sammples(gt_res, gt_app_res):\n",
    "    '''\n",
    "    Computation of error metrics: \n",
    "    The posterior is sampled 2,000 times from which 1,000 samples are evaluated under the forward model. \n",
    "    I sampled only 2,000 times due to the longer simulation time of that prior, as some of the \n",
    "    Among the 1,000 posterior predictive samples the minimal RMSE is assessed. \n",
    "    The respective RMSE of the posterior sample that belongs to the minimal RMSE prediction is caluculated.\n",
    "    The average error over all posterior samples and posterior predictive samples is computed. \n",
    "\n",
    "    For comparison with the minimal RMSEs the MAP sample and it's prediction is computed and the RMSEs are calculated.\n",
    "\n",
    "    returns all error metrics\n",
    "    '''\n",
    "\n",
    "    posterior_sample_size = 2_000\n",
    "    simulation_sample_size = 1_000\n",
    "\n",
    "    posterior_ind_step.set_default_x(gt_app_res)\n",
    "    # Sample from Step posterior\n",
    "    posterior_samples_ind_step = posterior_ind_step.sample((posterior_sample_size,), show_progress_bars=True)\n",
    "\n",
    "    # Get random samples form the posterior samples\n",
    "    perm = torch.randperm(posterior_sample_size)\n",
    "    idx = perm[:simulation_sample_size]\n",
    "    random_post_samples = posterior_samples_ind_step[idx]\n",
    "\n",
    "    # Simulate the Apparent Resistivity from the samples\n",
    "    sim_apparent_resistivities = []\n",
    "    min_rmse_ar = np.infty\n",
    "    min_rmse_res = np.infty\n",
    "\n",
    "    # Compute the minimal RMSE of the posterior predictive samples\n",
    "    for sample in random_post_samples:\n",
    "        app_res = steps_forward_model_no_noise(np.array(sample))\n",
    "        rmse_value_ar = rmse(app_res, gt_app_res)\n",
    "\n",
    "        if rmse_value_ar <= min_rmse_ar:\n",
    "            min_rmse_ar = rmse_value_ar\n",
    "            min_rmse_res = rmse(sample, gt_res)\n",
    "        sim_apparent_resistivities.append(app_res)\n",
    "\n",
    "    print(\"Min RMSE is: \", min_rmse_ar)\n",
    "    mean_res = np.nanmean(random_post_samples, axis=0)\n",
    "    mean_ar = np.nanmean(sim_apparent_resistivities, axis=0)\n",
    "\n",
    "    avg_rmse_param = avg_rmse(gt_res, random_post_samples)\n",
    "    avg_rmse_obs = avg_rmse(gt_app_res, sim_apparent_resistivities)\n",
    "\n",
    "    # Compute the MAP RMSE in obsrevation and parameter space\n",
    "    map = posterior_ind_step.map()[0]\n",
    "    map_app_res = steps_forward_model_no_noise(np.array(map))\n",
    "\n",
    "    map_rmse_res = rmse(map, gt_res)\n",
    "    map_rmse_app_res = rmse(map_app_res, gt_app_res)\n",
    "\n",
    "    return min_rmse_ar, min_rmse_res, mean_res, mean_ar, avg_rmse_param, avg_rmse_obs, map, map_app_res, map_rmse_res, map_rmse_app_res\n"
   ]
  },
  {
   "cell_type": "markdown",
   "id": "e60a0537-ae6c-479a-aac3-203529812c8c",
   "metadata": {},
   "source": [
    "#### Block Model"
   ]
  },
  {
   "cell_type": "code",
   "execution_count": 12,
   "id": "e6cae264-4a6b-4261-9dac-bd0daa7136e6",
   "metadata": {},
   "outputs": [],
   "source": [
    "def split_params(res_n_depth):\n",
    "    ''' \n",
    "    Split a block sample into its resistivity values and the layer thicknesses\n",
    "    '''\n",
    "    number_of_layers = int((len(res_n_depth) + 1) / 2)\n",
    "\n",
    "    # First half of parameters is resistivities\n",
    "    resistivities = res_n_depth[:number_of_layers]\n",
    "\n",
    "    # Second half of parameters are thicknesses\n",
    "    thicknesses = res_n_depth[number_of_layers:]\n",
    "    return resistivities, thicknesses\n",
    "\n",
    "\n",
    "def thickness_to_depth(t):\n",
    "    ''' \n",
    "    Convert the individual layer thicknesses to a depth profile as the layers are stacked on top of each other\n",
    "    '''\n",
    "    last_layer_tickness = torch.tensor([1.0])\n",
    "    thickness_to_depth = np.cumsum(torch.cat((t, last_layer_tickness)))\n",
    "    return thickness_to_depth\n",
    "\n",
    "\n",
    "def dc_forward_block_noise(res_n_depth):\n",
    "    '''\n",
    "    Simulator used for generating the training set (noise level 5 \\Omega m)\n",
    "    returns the apparent resistiviy values from  a block sample. \n",
    "    '''\n",
    "    resistivities, thicknesses = split_params(res_n_depth)\n",
    "    forward = Forward(thicknesses, survey)\n",
    "\n",
    "    return forward.dc_forward_model_base_noise(resistivities, 5)\n",
    "\n",
    "\n",
    "def dc_forward_block_no_noise(res_n_depth):\n",
    "    '''\n",
    "    Noiseless Simulator\n",
    "    returns the apparent resistiviy values from  a block sample. \n",
    "    '''\n",
    "    resistivities, thicknesses = split_params(res_n_depth)\n",
    "    forward = Forward(thicknesses, survey)\n",
    "\n",
    "    return forward.dc_forward_model(resistivities)\n",
    "\n",
    "\n",
    "def ensure_48_points(block_res):\n",
    "    '''    \n",
    "    Check if the depth profile has 48 values. If depth profile is too short, extend the last layers -> used for plotting\n",
    "    in case the model has 48 points it is not modified. If it has less, the resistivity values of the last layer are appenden to ensure 48 points.\n",
    "    return block resistivities\n",
    "    '''\n",
    "\n",
    "    # Check if the array has less than 48 values\n",
    "    while len(block_res) < 48:\n",
    "        # Append the last value to the array until it has 48 values\n",
    "        block_res.append(block_res[-1])\n",
    "    return np.array(block_res)\n",
    "\n",
    "\n",
    "def block_sample_to_resistivity(sample):\n",
    "    '''\n",
    "    Transforms a block prior or posterior sample into the resistivity depth profile\n",
    "    returns the \n",
    "    '''\n",
    "    inv_res_thick_depth, max_depth = transfrom_and_find_max_reached_depth([sample])\n",
    "    mapped_sample = map_resistivities_to_depth(inv_res_thick_depth, max_depth)\n",
    "    low_res_sample = transform_to_lower_res_samples(mapped_sample)[0]\n",
    "    return ensure_48_points(low_res_sample)\n",
    "\n",
    "\n",
    "def compute_avg_rmse_and_map_rsme_from_block_posterior_sammples(gt_res, gt_app_res):\n",
    "    '''\n",
    "    Computation of error metrics: \n",
    "    The posterior ist samples 10,000 times from which 1,000 samples are evaluated under the forward model. \n",
    "    Among the 1,000 posterior predictive samples the minimal RMSE is assessed. \n",
    "    The respective RMSE of the posterior sample that belongs to the minimal RMSE prediction is caluculated.\n",
    "    The average error over all posterior samples and posterior predictive samples is computed. \n",
    "\n",
    "    For comparison with the minimal RMSEs the MAP sample and it's prediction is computed and the RMSEs are calculated.\n",
    "\n",
    "    returns all error metrics\n",
    "    '''\n",
    "\n",
    "    posterior_sample_size = 10_000\n",
    "    simulation_sample_size = 1_000\n",
    "    percentiles = config.percentiles\n",
    "\n",
    "    posterior_block.set_default_x(gt_app_res)\n",
    "    # Sample from Step posterior\n",
    "    posterior_samples_block = posterior_block.sample((posterior_sample_size,), show_progress_bars=True)\n",
    "\n",
    "    # Get random samples form the posterior samples\n",
    "    perm = torch.randperm(posterior_sample_size)\n",
    "    idx = perm[:simulation_sample_size]\n",
    "    random_post_samples = posterior_samples_block[idx]\n",
    "\n",
    "    # Simulate the Apparent Resistivity from the samples\n",
    "    post_resistivities = []\n",
    "    sim_apparent_resistivities = []\n",
    "    min_rmse_ar = np.infty\n",
    "    min_rmse_res = np.infty\n",
    "\n",
    "    for sample in random_post_samples:\n",
    "        app_res = dc_forward_block_no_noise(np.array(sample))\n",
    "        res = block_sample_to_resistivity(sample)\n",
    "        rmse_value_ar = rmse(app_res, gt_app_res)\n",
    "\n",
    "        if rmse_value_ar <= min_rmse_ar:\n",
    "            min_rmse_ar = rmse_value_ar\n",
    "            min_rmse_res = rmse(res, gt_res)\n",
    "        sim_apparent_resistivities.append(app_res)\n",
    "        post_resistivities.append(res)\n",
    "\n",
    "    print(\"Min RMSE is: \", min_rmse_ar)\n",
    "    mean_res = np.nanmean(post_resistivities, axis=0)\n",
    "    mean_ar = np.nanmean(sim_apparent_resistivities, axis=0)\n",
    "\n",
    "    avg_rmse_param = avg_rmse(gt_res, post_resistivities)\n",
    "    avg_rmse_obs = avg_rmse(gt_app_res, sim_apparent_resistivities)\n",
    "\n",
    "    # Compute the MAP RMSE in observation and parameter space \n",
    "    map = posterior_block.map()[0]\n",
    "    map_app_res = dc_forward_block_no_noise(np.array(map))\n",
    "\n",
    "    map_rmse_res = rmse(block_sample_to_resistivity(map), gt_res)\n",
    "    map_rmse_app_res = rmse(map_app_res, gt_app_res)\n",
    "\n",
    "    return min_rmse_ar, min_rmse_res, mean_res, mean_ar, avg_rmse_param, avg_rmse_obs, map, map_app_res, map_rmse_res, map_rmse_app_res"
   ]
  },
  {
   "cell_type": "markdown",
   "id": "1fed3b01-d4f0-458e-bb2b-78fb5a234fc4",
   "metadata": {
    "jp-MarkdownHeadingCollapsed": true
   },
   "source": [
    "## Load all posterior models"
   ]
  },
  {
   "cell_type": "code",
   "execution_count": 9,
   "id": "31c3e00f-ffce-4152-b530-b9d04a1ccc19",
   "metadata": {},
   "outputs": [],
   "source": [
    "# **** Step prior\n",
    "filename_step_model = \"pickled_objects/steps_100k_1000_ohm_48points_new.pkl\"\n",
    "inference_step, posterior_step = unpickle_objects(filename_step_model)\n",
    "\n",
    "# **** Polynomial Prior\n",
    "filename_legendre_model = \"pickled_objects/legendre_100k_1000_ohm_48points_new.pkl\"\n",
    "inference_poly, posterior_poly = unpickle_objects(filename_legendre_model)\n",
    "\n",
    "# **** Independent Step Prior\n",
    "filename_ind_steps_model = \"pickled_objects/ind_steps_500k_1000_ohm_48points.pkl\"\n",
    "inference_ind_step, posterior_ind_step = unpickle_objects(filename_ind_steps_model)\n",
    "\n",
    "# **** Block Prior \n",
    "filename_block_model = \"pickled_objects/block_100k_1000_ohm_48points.pkl\"\n",
    "inference_block, posterior_block = unpickle_objects(filename_block_model)"
   ]
  },
  {
   "cell_type": "markdown",
   "id": "495292cd-e666-4d36-9658-0b686c771944",
   "metadata": {
    "jp-MarkdownHeadingCollapsed": true
   },
   "source": [
    "## Generate 10 samples for each prior"
   ]
  },
  {
   "cell_type": "code",
   "execution_count": 10,
   "id": "43961d53-a1ca-414b-9c18-fcfe120dcec4",
   "metadata": {},
   "outputs": [],
   "source": [
    "filename_step = 'data/prior_samples/step_samples.pkl'\n",
    "filename_poly = 'data/prior_samples/poly_samples.pkl'\n",
    "filename_block = 'data/prior_samples/block_samples.pkl'\n",
    "filename_ind_step = 'data/prior_samples/ind_step_samples.pkl'\n",
    "\n",
    "generate_samples = False\n",
    "\n",
    "if generate_samples:\n",
    "    num_samples = 10\n",
    "\n",
    "    prior_samples_step = prior_step.sample((num_samples,))\n",
    "    prior_samples_poly = prior_poly.sample(\n",
    "        (num_samples * num_samples,))  # Here we sample more to ensure that at least 10 valid samples are contained\n",
    "    prior_samples_block = prior_block.sample((num_samples,))\n",
    "    prior_samples_ind_step = prior_ind_step.sample((num_samples,))\n",
    "\n",
    "    # Step Prior Predictive Samples\n",
    "    app_res_samples_step = []\n",
    "    for sample in prior_samples_step:\n",
    "        app_res_sample = steps_forward_model_base_noise_5(sample)\n",
    "        app_res_samples_step.append(app_res_sample)\n",
    "\n",
    "    # Poly Prior Predictive Samples\n",
    "    app_res_samples_poly = []\n",
    "    valid_prior_samples_poly = []\n",
    "    valid_samples = 0\n",
    "    for sample in prior_samples_poly:\n",
    "        app_res_sample = legendre_forward_nan_noise_5(sample)\n",
    "        if not np.isnan(app_res_sample).all():\n",
    "            app_res_samples_poly.append(app_res_sample)\n",
    "            valid_prior_samples_poly.append(sample)\n",
    "            valid_samples += 1\n",
    "        if valid_samples >= num_samples:\n",
    "            break\n",
    "    prior_samples_poly = valid_prior_samples_poly\n",
    "\n",
    "    # Block Prior Predictive Samples\n",
    "    app_res_samples_block = []\n",
    "    for sample in prior_samples_block:\n",
    "        app_res_sample = dc_forward_block_noise(sample)\n",
    "        app_res_samples_block.append(app_res_sample)\n",
    "\n",
    "    # Ind. Step Predictive Samples\n",
    "    app_res_samples_ind_step = []\n",
    "    for sample in prior_samples_ind_step:\n",
    "        app_res_sample = steps_forward_model_base_noise_5(sample)\n",
    "        app_res_samples_ind_step.append(app_res_sample)\n",
    "\n",
    "    pickle_objects([app_res_samples_step, prior_samples_step], filename=filename_step)\n",
    "    pickle_objects([app_res_samples_poly, prior_samples_poly], filename=filename_poly)\n",
    "    pickle_objects([app_res_samples_block, prior_samples_block], filename=filename_block)\n",
    "    pickle_objects([app_res_samples_ind_step, prior_samples_ind_step], filename=filename_ind_step)\n",
    "\n",
    "else:\n",
    "\n",
    "    (app_res_samples_step, prior_samples_step) = unpickle_objects(filename_step)\n",
    "    (app_res_samples_poly, prior_samples_poly) = unpickle_objects(filename_poly)\n",
    "    (app_res_samples_block, prior_samples_block) = unpickle_objects(filename_block)\n",
    "    (app_res_samples_ind_step, prior_samples_ind_step) = unpickle_objects(filename_ind_step)"
   ]
  },
  {
   "cell_type": "markdown",
   "id": "8981ed6d-2008-4016-9d7e-b72e35fde271",
   "metadata": {},
   "source": [
    "## Evaluate the samples on the different posterior models"
   ]
  },
  {
   "cell_type": "markdown",
   "id": "f02c1b48-e900-47cd-9098-5602b2b03f91",
   "metadata": {
    "jp-MarkdownHeadingCollapsed": true
   },
   "source": [
    "### Step model "
   ]
  },
  {
   "cell_type": "code",
   "execution_count": 61,
   "id": "a12f141d-e71a-4d81-9998-905915f892b7",
   "metadata": {
    "scrolled": true
   },
   "outputs": [
    {
     "data": {
      "application/vnd.jupyter.widget-view+json": {
       "model_id": "0954a0a9eeb340beb51d6c5bca4a45e0",
       "version_major": 2,
       "version_minor": 0
      },
      "text/plain": [
       "Drawing 10000 posterior samples:   0%|          | 0/10000 [00:00<?, ?it/s]"
      ]
     },
     "metadata": {},
     "output_type": "display_data"
    },
    {
     "name": "stdout",
     "output_type": "stream",
     "text": [
      "Min RMSE is:  1.9724422359627791\n"
     ]
    },
    {
     "data": {
      "application/vnd.jupyter.widget-view+json": {
       "model_id": "8f4b5e4a15454eba8d1eaf55d5835974",
       "version_major": 2,
       "version_minor": 0
      },
      "text/plain": [
       "Drawing 1000 posterior samples:   0%|          | 0/1000 [00:00<?, ?it/s]"
      ]
     },
     "metadata": {},
     "output_type": "display_data"
    },
    {
     "data": {
      "application/vnd.jupyter.widget-view+json": {
       "model_id": "facce6eb7fb64fbc8e7a7258159f726f",
       "version_major": 2,
       "version_minor": 0
      },
      "text/plain": [
       "Drawing 10000 posterior samples:   0%|          | 0/10000 [00:00<?, ?it/s]"
      ]
     },
     "metadata": {},
     "output_type": "display_data"
    },
    {
     "name": "stdout",
     "output_type": "stream",
     "text": [
      "Min RMSE is:  2.3239031224858087\n"
     ]
    },
    {
     "data": {
      "application/vnd.jupyter.widget-view+json": {
       "model_id": "81b1b56448cf40a596d685cd99ba8c30",
       "version_major": 2,
       "version_minor": 0
      },
      "text/plain": [
       "Drawing 1000 posterior samples:   0%|          | 0/1000 [00:00<?, ?it/s]"
      ]
     },
     "metadata": {},
     "output_type": "display_data"
    },
    {
     "data": {
      "application/vnd.jupyter.widget-view+json": {
       "model_id": "88dbd4a3079a4eadb8673fbbebed5d40",
       "version_major": 2,
       "version_minor": 0
      },
      "text/plain": [
       "Drawing 10000 posterior samples:   0%|          | 0/10000 [00:00<?, ?it/s]"
      ]
     },
     "metadata": {},
     "output_type": "display_data"
    },
    {
     "name": "stdout",
     "output_type": "stream",
     "text": [
      "Min RMSE is:  3.303611851512359\n"
     ]
    },
    {
     "data": {
      "application/vnd.jupyter.widget-view+json": {
       "model_id": "6b674b5a618c43ccb9fc985a23ef0244",
       "version_major": 2,
       "version_minor": 0
      },
      "text/plain": [
       "Drawing 1000 posterior samples:   0%|          | 0/1000 [00:00<?, ?it/s]"
      ]
     },
     "metadata": {},
     "output_type": "display_data"
    },
    {
     "data": {
      "application/vnd.jupyter.widget-view+json": {
       "model_id": "50221dd3eb6d421d83ea8cd5a8930f0a",
       "version_major": 2,
       "version_minor": 0
      },
      "text/plain": [
       "Drawing 10000 posterior samples:   0%|          | 0/10000 [00:00<?, ?it/s]"
      ]
     },
     "metadata": {},
     "output_type": "display_data"
    },
    {
     "name": "stdout",
     "output_type": "stream",
     "text": [
      "Min RMSE is:  2.08494610738178\n"
     ]
    },
    {
     "data": {
      "application/vnd.jupyter.widget-view+json": {
       "model_id": "247cfa6624274023ba1efeb68780dbdf",
       "version_major": 2,
       "version_minor": 0
      },
      "text/plain": [
       "Drawing 1000 posterior samples:   0%|          | 0/1000 [00:00<?, ?it/s]"
      ]
     },
     "metadata": {},
     "output_type": "display_data"
    },
    {
     "data": {
      "application/vnd.jupyter.widget-view+json": {
       "model_id": "bd8a5a2a33f04ee2b1d9fa14573c074f",
       "version_major": 2,
       "version_minor": 0
      },
      "text/plain": [
       "Drawing 10000 posterior samples:   0%|          | 0/10000 [00:00<?, ?it/s]"
      ]
     },
     "metadata": {},
     "output_type": "display_data"
    },
    {
     "name": "stdout",
     "output_type": "stream",
     "text": [
      "Min RMSE is:  2.7847594487757337\n"
     ]
    },
    {
     "data": {
      "application/vnd.jupyter.widget-view+json": {
       "model_id": "9051630679c0462e8cebb68772026445",
       "version_major": 2,
       "version_minor": 0
      },
      "text/plain": [
       "Drawing 1000 posterior samples:   0%|          | 0/1000 [00:00<?, ?it/s]"
      ]
     },
     "metadata": {},
     "output_type": "display_data"
    },
    {
     "data": {
      "application/vnd.jupyter.widget-view+json": {
       "model_id": "0a95a0ac7645407f9130ac6ee4b43c39",
       "version_major": 2,
       "version_minor": 0
      },
      "text/plain": [
       "Drawing 10000 posterior samples:   0%|          | 0/10000 [00:00<?, ?it/s]"
      ]
     },
     "metadata": {},
     "output_type": "display_data"
    },
    {
     "name": "stdout",
     "output_type": "stream",
     "text": [
      "Min RMSE is:  2.147922124841352\n"
     ]
    },
    {
     "data": {
      "application/vnd.jupyter.widget-view+json": {
       "model_id": "9c0d60839b494fe2b9dc9543b8e98ae0",
       "version_major": 2,
       "version_minor": 0
      },
      "text/plain": [
       "Drawing 1000 posterior samples:   0%|          | 0/1000 [00:00<?, ?it/s]"
      ]
     },
     "metadata": {},
     "output_type": "display_data"
    },
    {
     "data": {
      "application/vnd.jupyter.widget-view+json": {
       "model_id": "eaa93d0f441f4260b4b9367e855b7031",
       "version_major": 2,
       "version_minor": 0
      },
      "text/plain": [
       "Drawing 10000 posterior samples:   0%|          | 0/10000 [00:00<?, ?it/s]"
      ]
     },
     "metadata": {},
     "output_type": "display_data"
    },
    {
     "name": "stdout",
     "output_type": "stream",
     "text": [
      "Min RMSE is:  2.02709531807123\n"
     ]
    },
    {
     "data": {
      "application/vnd.jupyter.widget-view+json": {
       "model_id": "18b6b6e15d484651a8f380af63b428b0",
       "version_major": 2,
       "version_minor": 0
      },
      "text/plain": [
       "Drawing 1000 posterior samples:   0%|          | 0/1000 [00:00<?, ?it/s]"
      ]
     },
     "metadata": {},
     "output_type": "display_data"
    },
    {
     "data": {
      "application/vnd.jupyter.widget-view+json": {
       "model_id": "ad5bef8a48934f6b8216e1d8cfb81a72",
       "version_major": 2,
       "version_minor": 0
      },
      "text/plain": [
       "Drawing 10000 posterior samples:   0%|          | 0/10000 [00:00<?, ?it/s]"
      ]
     },
     "metadata": {},
     "output_type": "display_data"
    },
    {
     "name": "stdout",
     "output_type": "stream",
     "text": [
      "Min RMSE is:  1.727978674205699\n"
     ]
    },
    {
     "data": {
      "application/vnd.jupyter.widget-view+json": {
       "model_id": "d8a2b462231642808de66cd7302da9f6",
       "version_major": 2,
       "version_minor": 0
      },
      "text/plain": [
       "Drawing 1000 posterior samples:   0%|          | 0/1000 [00:00<?, ?it/s]"
      ]
     },
     "metadata": {},
     "output_type": "display_data"
    },
    {
     "data": {
      "application/vnd.jupyter.widget-view+json": {
       "model_id": "c11003afdeff421eb792195b7a0aac9b",
       "version_major": 2,
       "version_minor": 0
      },
      "text/plain": [
       "Drawing 10000 posterior samples:   0%|          | 0/10000 [00:00<?, ?it/s]"
      ]
     },
     "metadata": {},
     "output_type": "display_data"
    },
    {
     "name": "stdout",
     "output_type": "stream",
     "text": [
      "Min RMSE is:  2.792332521625606\n"
     ]
    },
    {
     "data": {
      "application/vnd.jupyter.widget-view+json": {
       "model_id": "2955b12ea8274267a1ad5fffc1d44f5e",
       "version_major": 2,
       "version_minor": 0
      },
      "text/plain": [
       "Drawing 1000 posterior samples:   0%|          | 0/1000 [00:00<?, ?it/s]"
      ]
     },
     "metadata": {},
     "output_type": "display_data"
    },
    {
     "data": {
      "application/vnd.jupyter.widget-view+json": {
       "model_id": "99a0f6a1c81744f091e69c1bf74dcaf8",
       "version_major": 2,
       "version_minor": 0
      },
      "text/plain": [
       "Drawing 10000 posterior samples:   0%|          | 0/10000 [00:00<?, ?it/s]"
      ]
     },
     "metadata": {},
     "output_type": "display_data"
    },
    {
     "name": "stdout",
     "output_type": "stream",
     "text": [
      "Min RMSE is:  1.786514764438931\n"
     ]
    },
    {
     "data": {
      "application/vnd.jupyter.widget-view+json": {
       "model_id": "161bc1cb75514264bcf1c737b4f4a90f",
       "version_major": 2,
       "version_minor": 0
      },
      "text/plain": [
       "Drawing 1000 posterior samples:   0%|          | 0/1000 [00:00<?, ?it/s]"
      ]
     },
     "metadata": {},
     "output_type": "display_data"
    }
   ],
   "source": [
    "# On Step Samples\n",
    "\n",
    "rmse_info_step_on_step = []\n",
    "for sample, ar_sample in zip(prior_samples_step, app_res_samples_step):\n",
    "    (min_rmse_ar, min_rmse_res, mean_res, mean_ar, avg_rmse_param, avg_rmse_obs, map, map_app_res, map_rmse_res,\n",
    "     map_rmse_app_res) = compute_avg_rmse_and_map_rsme_from_step_posterior_sammples(sample, ar_sample)\n",
    "    rmse_info_step_on_step.append((min_rmse_ar, min_rmse_res, mean_res, mean_ar, avg_rmse_param, avg_rmse_obs, map,\n",
    "                                   map_app_res, map_rmse_res, map_rmse_app_res))"
   ]
  },
  {
   "cell_type": "code",
   "execution_count": 78,
   "id": "a4e89257-43d0-4129-8ddd-4a512aa9842f",
   "metadata": {},
   "outputs": [
    {
     "name": "stdout",
     "output_type": "stream",
     "text": [
      "min_rsme_values_res 2.2951506169301275\n",
      "min_rsme_values_app_res 81.00451\n"
     ]
    }
   ],
   "source": [
    "min_rsme_values_res = [item[0] for item in rmse_info_step_on_step]\n",
    "min_rsme_values_app_res = [item[1] for item in rmse_info_step_on_step]\n",
    "print(\"min_rsme_values_res\", np.average(min_rsme_values_res))\n",
    "print(\"min_rsme_values_app_res\", np.average(min_rsme_values_app_res))"
   ]
  },
  {
   "cell_type": "code",
   "execution_count": 17,
   "id": "60344765-c366-41c3-b146-0307cbe31599",
   "metadata": {
    "scrolled": true
   },
   "outputs": [
    {
     "data": {
      "application/vnd.jupyter.widget-view+json": {
       "model_id": "33219242d5244a73a7f4c7273ecddb28",
       "version_major": 2,
       "version_minor": 0
      },
      "text/plain": [
       "Drawing 10000 posterior samples:   0%|          | 0/10000 [00:00<?, ?it/s]"
      ]
     },
     "metadata": {},
     "output_type": "display_data"
    },
    {
     "name": "stdout",
     "output_type": "stream",
     "text": [
      "Min RMSE is:  2.506885448810622\n"
     ]
    },
    {
     "data": {
      "application/vnd.jupyter.widget-view+json": {
       "model_id": "219e5aa96e6e4cff8019b4fd0187c040",
       "version_major": 2,
       "version_minor": 0
      },
      "text/plain": [
       "Drawing 1000 posterior samples:   0%|          | 0/1000 [00:00<?, ?it/s]"
      ]
     },
     "metadata": {},
     "output_type": "display_data"
    },
    {
     "data": {
      "application/vnd.jupyter.widget-view+json": {
       "model_id": "bd1d1d6240eb42f799ffdb6cd891c79c",
       "version_major": 2,
       "version_minor": 0
      },
      "text/plain": [
       "Drawing 10000 posterior samples:   0%|          | 0/10000 [00:00<?, ?it/s]"
      ]
     },
     "metadata": {},
     "output_type": "display_data"
    },
    {
     "name": "stdout",
     "output_type": "stream",
     "text": [
      "Min RMSE is:  2.9683222965760416\n"
     ]
    },
    {
     "data": {
      "application/vnd.jupyter.widget-view+json": {
       "model_id": "f78bb0db06a3431fa26f6a38d046c892",
       "version_major": 2,
       "version_minor": 0
      },
      "text/plain": [
       "Drawing 1000 posterior samples:   0%|          | 0/1000 [00:00<?, ?it/s]"
      ]
     },
     "metadata": {},
     "output_type": "display_data"
    },
    {
     "data": {
      "application/vnd.jupyter.widget-view+json": {
       "model_id": "7c7c6e03dfdd4b5693c4a76b6f3f980e",
       "version_major": 2,
       "version_minor": 0
      },
      "text/plain": [
       "Drawing 10000 posterior samples:   0%|          | 0/10000 [00:00<?, ?it/s]"
      ]
     },
     "metadata": {},
     "output_type": "display_data"
    },
    {
     "name": "stdout",
     "output_type": "stream",
     "text": [
      "Min RMSE is:  4.949401362952397\n"
     ]
    },
    {
     "data": {
      "application/vnd.jupyter.widget-view+json": {
       "model_id": "05112671ccfb40009d96c57076caae6d",
       "version_major": 2,
       "version_minor": 0
      },
      "text/plain": [
       "Drawing 1000 posterior samples:   0%|          | 0/1000 [00:00<?, ?it/s]"
      ]
     },
     "metadata": {},
     "output_type": "display_data"
    },
    {
     "data": {
      "application/vnd.jupyter.widget-view+json": {
       "model_id": "645534eb2de1416fbc1cb35e2b93b1de",
       "version_major": 2,
       "version_minor": 0
      },
      "text/plain": [
       "Drawing 10000 posterior samples:   0%|          | 0/10000 [00:00<?, ?it/s]"
      ]
     },
     "metadata": {},
     "output_type": "display_data"
    },
    {
     "name": "stdout",
     "output_type": "stream",
     "text": [
      "Min RMSE is:  2.261052906608797\n"
     ]
    },
    {
     "data": {
      "application/vnd.jupyter.widget-view+json": {
       "model_id": "bfb78449218e454a87001cc5f52b8909",
       "version_major": 2,
       "version_minor": 0
      },
      "text/plain": [
       "Drawing 1000 posterior samples:   0%|          | 0/1000 [00:00<?, ?it/s]"
      ]
     },
     "metadata": {},
     "output_type": "display_data"
    },
    {
     "data": {
      "application/vnd.jupyter.widget-view+json": {
       "model_id": "1d5c8da127994ad6a62290309a8a5953",
       "version_major": 2,
       "version_minor": 0
      },
      "text/plain": [
       "Drawing 10000 posterior samples:   0%|          | 0/10000 [00:00<?, ?it/s]"
      ]
     },
     "metadata": {},
     "output_type": "display_data"
    },
    {
     "name": "stdout",
     "output_type": "stream",
     "text": [
      "Min RMSE is:  2.825188187014405\n"
     ]
    },
    {
     "data": {
      "application/vnd.jupyter.widget-view+json": {
       "model_id": "ca86ea2d2b2f4334962137749cc9564d",
       "version_major": 2,
       "version_minor": 0
      },
      "text/plain": [
       "Drawing 1000 posterior samples:   0%|          | 0/1000 [00:00<?, ?it/s]"
      ]
     },
     "metadata": {},
     "output_type": "display_data"
    },
    {
     "data": {
      "application/vnd.jupyter.widget-view+json": {
       "model_id": "d2005c6987d14118bb831ff16a73c41b",
       "version_major": 2,
       "version_minor": 0
      },
      "text/plain": [
       "Drawing 10000 posterior samples:   0%|          | 0/10000 [00:00<?, ?it/s]"
      ]
     },
     "metadata": {},
     "output_type": "display_data"
    },
    {
     "name": "stdout",
     "output_type": "stream",
     "text": [
      "Min RMSE is:  1.8844537236130714\n"
     ]
    },
    {
     "data": {
      "application/vnd.jupyter.widget-view+json": {
       "model_id": "e996991a29574e04a0a50a8cb483329d",
       "version_major": 2,
       "version_minor": 0
      },
      "text/plain": [
       "Drawing 1000 posterior samples:   0%|          | 0/1000 [00:00<?, ?it/s]"
      ]
     },
     "metadata": {},
     "output_type": "display_data"
    },
    {
     "data": {
      "application/vnd.jupyter.widget-view+json": {
       "model_id": "a1d275a4222842c48459110a5ec28455",
       "version_major": 2,
       "version_minor": 0
      },
      "text/plain": [
       "Drawing 10000 posterior samples:   0%|          | 0/10000 [00:00<?, ?it/s]"
      ]
     },
     "metadata": {},
     "output_type": "display_data"
    },
    {
     "name": "stdout",
     "output_type": "stream",
     "text": [
      "Min RMSE is:  2.607280351120197\n"
     ]
    },
    {
     "data": {
      "application/vnd.jupyter.widget-view+json": {
       "model_id": "3bd5b9603d4d4fd8a204fc4bc5030d04",
       "version_major": 2,
       "version_minor": 0
      },
      "text/plain": [
       "Drawing 1000 posterior samples:   0%|          | 0/1000 [00:00<?, ?it/s]"
      ]
     },
     "metadata": {},
     "output_type": "display_data"
    },
    {
     "data": {
      "application/vnd.jupyter.widget-view+json": {
       "model_id": "4ff2ce4935fa4a23ae2307966a1cd563",
       "version_major": 2,
       "version_minor": 0
      },
      "text/plain": [
       "Drawing 10000 posterior samples:   0%|          | 0/10000 [00:00<?, ?it/s]"
      ]
     },
     "metadata": {},
     "output_type": "display_data"
    },
    {
     "name": "stdout",
     "output_type": "stream",
     "text": [
      "Min RMSE is:  2.3926136036258168\n"
     ]
    },
    {
     "data": {
      "application/vnd.jupyter.widget-view+json": {
       "model_id": "ca15a47f8f8542dca102a5064a00f0d0",
       "version_major": 2,
       "version_minor": 0
      },
      "text/plain": [
       "Drawing 1000 posterior samples:   0%|          | 0/1000 [00:00<?, ?it/s]"
      ]
     },
     "metadata": {},
     "output_type": "display_data"
    },
    {
     "data": {
      "application/vnd.jupyter.widget-view+json": {
       "model_id": "c0523d22348749e4ba0fb0494851983a",
       "version_major": 2,
       "version_minor": 0
      },
      "text/plain": [
       "Drawing 10000 posterior samples:   0%|          | 0/10000 [00:00<?, ?it/s]"
      ]
     },
     "metadata": {},
     "output_type": "display_data"
    },
    {
     "name": "stdout",
     "output_type": "stream",
     "text": [
      "Min RMSE is:  2.8925932290840946\n"
     ]
    },
    {
     "data": {
      "application/vnd.jupyter.widget-view+json": {
       "model_id": "ff2a4a9fd9ad4f5389b08f88664a660a",
       "version_major": 2,
       "version_minor": 0
      },
      "text/plain": [
       "Drawing 1000 posterior samples:   0%|          | 0/1000 [00:00<?, ?it/s]"
      ]
     },
     "metadata": {},
     "output_type": "display_data"
    },
    {
     "data": {
      "application/vnd.jupyter.widget-view+json": {
       "model_id": "0362606cc36f4f79a62f47384c3217d9",
       "version_major": 2,
       "version_minor": 0
      },
      "text/plain": [
       "Drawing 10000 posterior samples:   0%|          | 0/10000 [00:00<?, ?it/s]"
      ]
     },
     "metadata": {},
     "output_type": "display_data"
    },
    {
     "name": "stdout",
     "output_type": "stream",
     "text": [
      "Min RMSE is:  3.1371094293451987\n"
     ]
    },
    {
     "data": {
      "application/vnd.jupyter.widget-view+json": {
       "model_id": "a162d5aa0a124cb4b9492cfddbd4a3af",
       "version_major": 2,
       "version_minor": 0
      },
      "text/plain": [
       "Drawing 1000 posterior samples:   0%|          | 0/1000 [00:00<?, ?it/s]"
      ]
     },
     "metadata": {},
     "output_type": "display_data"
    }
   ],
   "source": [
    "# On Poly Samples\n",
    "\n",
    "rmse_info_step_on_poly = []\n",
    "for sample, ar_sample in zip(prior_samples_poly, app_res_samples_poly):\n",
    "    res_sample = polynomial.coefficients_to_resistivity(sample)\n",
    "\n",
    "    (min_rmse_ar, min_rmse_res, mean_res, mean_ar, avg_rmse_param, avg_rmse_obs, map, map_app_res, map_rmse_res,\n",
    "     map_rmse_app_res) = compute_avg_rmse_and_map_rsme_from_step_posterior_sammples(res_sample, ar_sample)\n",
    "    rmse_info_step_on_poly.append((min_rmse_ar, min_rmse_res, mean_res, mean_ar, avg_rmse_param, avg_rmse_obs, map,\n",
    "                                   map_app_res, map_rmse_res, map_rmse_app_res))\n",
    "\n"
   ]
  },
  {
   "cell_type": "code",
   "execution_count": 18,
   "id": "4a91b931-fa94-4630-bc97-cca22ad5e8a8",
   "metadata": {},
   "outputs": [
    {
     "name": "stdout",
     "output_type": "stream",
     "text": [
      "min_rsme_values_res 2.842490053875064\n",
      "min_rsme_values_app_res 83.45431352177198\n"
     ]
    }
   ],
   "source": [
    "min_rsme_values_res = [item[0] for item in rmse_info_step_on_poly]\n",
    "min_rsme_values_app_res = [item[1] for item in rmse_info_step_on_poly]\n",
    "print(\"min_rsme_values_res\", np.average(min_rsme_values_res))\n",
    "print(\"min_rsme_values_app_res\", np.average(min_rsme_values_app_res))"
   ]
  },
  {
   "cell_type": "code",
   "execution_count": 19,
   "id": "b0355e35-62ee-4f7e-af26-d7e8cf953799",
   "metadata": {
    "scrolled": true
   },
   "outputs": [
    {
     "data": {
      "application/vnd.jupyter.widget-view+json": {
       "model_id": "e07fb69b8e25459796b0fed31724628c",
       "version_major": 2,
       "version_minor": 0
      },
      "text/plain": [
       "Drawing 10000 posterior samples:   0%|          | 0/10000 [00:00<?, ?it/s]"
      ]
     },
     "metadata": {},
     "output_type": "display_data"
    },
    {
     "name": "stdout",
     "output_type": "stream",
     "text": [
      "Min RMSE is:  29.04259438496528\n"
     ]
    },
    {
     "data": {
      "application/vnd.jupyter.widget-view+json": {
       "model_id": "bc6e695abbcb40bf9d5735098927f0ba",
       "version_major": 2,
       "version_minor": 0
      },
      "text/plain": [
       "Drawing 1000 posterior samples:   0%|          | 0/1000 [00:00<?, ?it/s]"
      ]
     },
     "metadata": {},
     "output_type": "display_data"
    },
    {
     "data": {
      "application/vnd.jupyter.widget-view+json": {
       "model_id": "f9baeb7d6eb44d588b41c429ea4eb21c",
       "version_major": 2,
       "version_minor": 0
      },
      "text/plain": [
       "Drawing 10000 posterior samples:   0%|          | 0/10000 [00:00<?, ?it/s]"
      ]
     },
     "metadata": {},
     "output_type": "display_data"
    },
    {
     "name": "stdout",
     "output_type": "stream",
     "text": [
      "Min RMSE is:  2.106472468897799\n"
     ]
    },
    {
     "data": {
      "application/vnd.jupyter.widget-view+json": {
       "model_id": "be0a8cf5895344cb86805d32bb65e657",
       "version_major": 2,
       "version_minor": 0
      },
      "text/plain": [
       "Drawing 1000 posterior samples:   0%|          | 0/1000 [00:00<?, ?it/s]"
      ]
     },
     "metadata": {},
     "output_type": "display_data"
    },
    {
     "data": {
      "application/vnd.jupyter.widget-view+json": {
       "model_id": "e04d41eb6df6428099efbbc038786af5",
       "version_major": 2,
       "version_minor": 0
      },
      "text/plain": [
       "Drawing 10000 posterior samples:   0%|          | 0/10000 [00:00<?, ?it/s]"
      ]
     },
     "metadata": {},
     "output_type": "display_data"
    },
    {
     "name": "stdout",
     "output_type": "stream",
     "text": [
      "Min RMSE is:  4.921664640190677\n"
     ]
    },
    {
     "data": {
      "application/vnd.jupyter.widget-view+json": {
       "model_id": "5ac9f5badb1e4683ba3187c1b6e8826b",
       "version_major": 2,
       "version_minor": 0
      },
      "text/plain": [
       "Drawing 1000 posterior samples:   0%|          | 0/1000 [00:00<?, ?it/s]"
      ]
     },
     "metadata": {},
     "output_type": "display_data"
    },
    {
     "data": {
      "application/vnd.jupyter.widget-view+json": {
       "model_id": "f334e31c1100421e864fa7cde0374677",
       "version_major": 2,
       "version_minor": 0
      },
      "text/plain": [
       "Drawing 10000 posterior samples:   0%|          | 0/10000 [00:00<?, ?it/s]"
      ]
     },
     "metadata": {},
     "output_type": "display_data"
    },
    {
     "name": "stdout",
     "output_type": "stream",
     "text": [
      "Min RMSE is:  2.573283568770119\n"
     ]
    },
    {
     "data": {
      "application/vnd.jupyter.widget-view+json": {
       "model_id": "8b05667d85b74a1bb7c35a49af740088",
       "version_major": 2,
       "version_minor": 0
      },
      "text/plain": [
       "Drawing 1000 posterior samples:   0%|          | 0/1000 [00:00<?, ?it/s]"
      ]
     },
     "metadata": {},
     "output_type": "display_data"
    },
    {
     "data": {
      "application/vnd.jupyter.widget-view+json": {
       "model_id": "ec2751a7637e43d58d09709f10c003d5",
       "version_major": 2,
       "version_minor": 0
      },
      "text/plain": [
       "Drawing 10000 posterior samples:   0%|          | 0/10000 [00:00<?, ?it/s]"
      ]
     },
     "metadata": {},
     "output_type": "display_data"
    },
    {
     "name": "stdout",
     "output_type": "stream",
     "text": [
      "Min RMSE is:  3.324045940357639\n"
     ]
    },
    {
     "data": {
      "application/vnd.jupyter.widget-view+json": {
       "model_id": "ec715f0838cc4ec8be8475354dca8c36",
       "version_major": 2,
       "version_minor": 0
      },
      "text/plain": [
       "Drawing 1000 posterior samples:   0%|          | 0/1000 [00:00<?, ?it/s]"
      ]
     },
     "metadata": {},
     "output_type": "display_data"
    },
    {
     "data": {
      "application/vnd.jupyter.widget-view+json": {
       "model_id": "c4e23e5f6edd444fa283728df9877e33",
       "version_major": 2,
       "version_minor": 0
      },
      "text/plain": [
       "Drawing 10000 posterior samples:   0%|          | 0/10000 [00:00<?, ?it/s]"
      ]
     },
     "metadata": {},
     "output_type": "display_data"
    },
    {
     "name": "stdout",
     "output_type": "stream",
     "text": [
      "Min RMSE is:  3.3721412049768777\n"
     ]
    },
    {
     "data": {
      "application/vnd.jupyter.widget-view+json": {
       "model_id": "3139071301d3468290c1cf9c9d7be3cf",
       "version_major": 2,
       "version_minor": 0
      },
      "text/plain": [
       "Drawing 1000 posterior samples:   0%|          | 0/1000 [00:00<?, ?it/s]"
      ]
     },
     "metadata": {},
     "output_type": "display_data"
    },
    {
     "data": {
      "application/vnd.jupyter.widget-view+json": {
       "model_id": "13937682ad664ebcb35143cb73d336a6",
       "version_major": 2,
       "version_minor": 0
      },
      "text/plain": [
       "Drawing 10000 posterior samples:   0%|          | 0/10000 [00:00<?, ?it/s]"
      ]
     },
     "metadata": {},
     "output_type": "display_data"
    },
    {
     "name": "stdout",
     "output_type": "stream",
     "text": [
      "Min RMSE is:  3.97237962920688\n"
     ]
    },
    {
     "data": {
      "application/vnd.jupyter.widget-view+json": {
       "model_id": "dac554a9163e4e9faca326ef4b88f13f",
       "version_major": 2,
       "version_minor": 0
      },
      "text/plain": [
       "Drawing 1000 posterior samples:   0%|          | 0/1000 [00:00<?, ?it/s]"
      ]
     },
     "metadata": {},
     "output_type": "display_data"
    },
    {
     "data": {
      "application/vnd.jupyter.widget-view+json": {
       "model_id": "0507a4dbb4cb4e7ca60f0dacf3a6f5bb",
       "version_major": 2,
       "version_minor": 0
      },
      "text/plain": [
       "Drawing 10000 posterior samples:   0%|          | 0/10000 [00:00<?, ?it/s]"
      ]
     },
     "metadata": {},
     "output_type": "display_data"
    },
    {
     "name": "stdout",
     "output_type": "stream",
     "text": [
      "Min RMSE is:  2.709045325180704\n"
     ]
    },
    {
     "data": {
      "application/vnd.jupyter.widget-view+json": {
       "model_id": "16bc4eeb9c134f3c97e63669cdab2e30",
       "version_major": 2,
       "version_minor": 0
      },
      "text/plain": [
       "Drawing 1000 posterior samples:   0%|          | 0/1000 [00:00<?, ?it/s]"
      ]
     },
     "metadata": {},
     "output_type": "display_data"
    },
    {
     "data": {
      "application/vnd.jupyter.widget-view+json": {
       "model_id": "774c9721dcf24424b2947891342225f6",
       "version_major": 2,
       "version_minor": 0
      },
      "text/plain": [
       "Drawing 10000 posterior samples:   0%|          | 0/10000 [00:00<?, ?it/s]"
      ]
     },
     "metadata": {},
     "output_type": "display_data"
    },
    {
     "name": "stdout",
     "output_type": "stream",
     "text": [
      "Min RMSE is:  3.742570296138903\n"
     ]
    },
    {
     "data": {
      "application/vnd.jupyter.widget-view+json": {
       "model_id": "2c8c5f11cbee4272a3dd06227a1707d3",
       "version_major": 2,
       "version_minor": 0
      },
      "text/plain": [
       "Drawing 1000 posterior samples:   0%|          | 0/1000 [00:00<?, ?it/s]"
      ]
     },
     "metadata": {},
     "output_type": "display_data"
    },
    {
     "data": {
      "application/vnd.jupyter.widget-view+json": {
       "model_id": "741fb8c8306747189bbb751723caa1b8",
       "version_major": 2,
       "version_minor": 0
      },
      "text/plain": [
       "Drawing 10000 posterior samples:   0%|          | 0/10000 [00:00<?, ?it/s]"
      ]
     },
     "metadata": {},
     "output_type": "display_data"
    },
    {
     "name": "stdout",
     "output_type": "stream",
     "text": [
      "Min RMSE is:  2.7225978298836506\n"
     ]
    },
    {
     "data": {
      "application/vnd.jupyter.widget-view+json": {
       "model_id": "0104b20cd2764c1bbeb160b295e0a4c5",
       "version_major": 2,
       "version_minor": 0
      },
      "text/plain": [
       "Drawing 1000 posterior samples:   0%|          | 0/1000 [00:00<?, ?it/s]"
      ]
     },
     "metadata": {},
     "output_type": "display_data"
    }
   ],
   "source": [
    "# On Block Samples\n",
    "\n",
    "rmse_info_step_on_block = []\n",
    "for sample, ar_sample in zip(prior_samples_block, app_res_samples_block):\n",
    "    res_sample = block_sample_to_resistivity(sample)\n",
    "    (min_rmse_ar, min_rmse_res, mean_res, mean_ar, avg_rmse_param, avg_rmse_obs, map, map_app_res, map_rmse_res,\n",
    "     map_rmse_app_res) = compute_avg_rmse_and_map_rsme_from_step_posterior_sammples(res_sample, ar_sample)\n",
    "    rmse_info_step_on_block.append((min_rmse_ar, min_rmse_res, mean_res, mean_ar, avg_rmse_param, avg_rmse_obs, map,\n",
    "                                    map_app_res, map_rmse_res, map_rmse_app_res))"
   ]
  },
  {
   "cell_type": "code",
   "execution_count": 20,
   "id": "86fb27c3-d569-42e2-8ef8-8fb8703cb47f",
   "metadata": {},
   "outputs": [
    {
     "name": "stdout",
     "output_type": "stream",
     "text": [
      "min_rsme_values_res 5.848679528856853\n",
      "min_rsme_values_app_res 152.68843084255238\n"
     ]
    }
   ],
   "source": [
    "min_rsme_values_res = [item[0] for item in rmse_info_step_on_block]\n",
    "min_rsme_values_app_res = [item[1] for item in rmse_info_step_on_block]\n",
    "print(\"min_rsme_values_res\", np.average(min_rsme_values_res))\n",
    "print(\"min_rsme_values_app_res\", np.average(min_rsme_values_app_res))"
   ]
  },
  {
   "cell_type": "code",
   "execution_count": 79,
   "id": "57dd2f8f-85af-4f16-92a6-7225d9e28d7a",
   "metadata": {
    "scrolled": true
   },
   "outputs": [
    {
     "data": {
      "application/vnd.jupyter.widget-view+json": {
       "model_id": "2d13a0281ec04cdb8a7fd98acad8df6a",
       "version_major": 2,
       "version_minor": 0
      },
      "text/plain": [
       "Drawing 10000 posterior samples:   0%|          | 0/10000 [00:00<?, ?it/s]"
      ]
     },
     "metadata": {},
     "output_type": "display_data"
    },
    {
     "name": "stdout",
     "output_type": "stream",
     "text": [
      "Min RMSE is:  5.093022360917463\n"
     ]
    },
    {
     "data": {
      "application/vnd.jupyter.widget-view+json": {
       "model_id": "2e78749b231d4a78855d7d1ad8c2dbf2",
       "version_major": 2,
       "version_minor": 0
      },
      "text/plain": [
       "Drawing 1000 posterior samples:   0%|          | 0/1000 [00:00<?, ?it/s]"
      ]
     },
     "metadata": {},
     "output_type": "display_data"
    },
    {
     "data": {
      "application/vnd.jupyter.widget-view+json": {
       "model_id": "08be535377344827a2fa28e01c4036fd",
       "version_major": 2,
       "version_minor": 0
      },
      "text/plain": [
       "Drawing 10000 posterior samples:   0%|          | 0/10000 [00:00<?, ?it/s]"
      ]
     },
     "metadata": {},
     "output_type": "display_data"
    },
    {
     "name": "stdout",
     "output_type": "stream",
     "text": [
      "Min RMSE is:  3.380941176810242\n"
     ]
    },
    {
     "data": {
      "application/vnd.jupyter.widget-view+json": {
       "model_id": "6dab49bc3acd48f6b5a1a33e9119d49e",
       "version_major": 2,
       "version_minor": 0
      },
      "text/plain": [
       "Drawing 1000 posterior samples:   0%|          | 0/1000 [00:00<?, ?it/s]"
      ]
     },
     "metadata": {},
     "output_type": "display_data"
    },
    {
     "data": {
      "application/vnd.jupyter.widget-view+json": {
       "model_id": "bf379d7b6434411ba69435909e4e97fe",
       "version_major": 2,
       "version_minor": 0
      },
      "text/plain": [
       "Drawing 10000 posterior samples:   0%|          | 0/10000 [00:00<?, ?it/s]"
      ]
     },
     "metadata": {},
     "output_type": "display_data"
    },
    {
     "name": "stdout",
     "output_type": "stream",
     "text": [
      "Min RMSE is:  3.9867093102193305\n"
     ]
    },
    {
     "data": {
      "application/vnd.jupyter.widget-view+json": {
       "model_id": "b848435306b842238c7e81a7d9dce97e",
       "version_major": 2,
       "version_minor": 0
      },
      "text/plain": [
       "Drawing 1000 posterior samples:   0%|          | 0/1000 [00:00<?, ?it/s]"
      ]
     },
     "metadata": {},
     "output_type": "display_data"
    },
    {
     "data": {
      "application/vnd.jupyter.widget-view+json": {
       "model_id": "4e82a82ea8b04bc983306d6cb17f2ecd",
       "version_major": 2,
       "version_minor": 0
      },
      "text/plain": [
       "Drawing 10000 posterior samples:   0%|          | 0/10000 [00:00<?, ?it/s]"
      ]
     },
     "metadata": {},
     "output_type": "display_data"
    },
    {
     "name": "stdout",
     "output_type": "stream",
     "text": [
      "Min RMSE is:  4.079897900694592\n"
     ]
    },
    {
     "data": {
      "application/vnd.jupyter.widget-view+json": {
       "model_id": "9743e183ff534aacbfdb976e016787b9",
       "version_major": 2,
       "version_minor": 0
      },
      "text/plain": [
       "Drawing 1000 posterior samples:   0%|          | 0/1000 [00:00<?, ?it/s]"
      ]
     },
     "metadata": {},
     "output_type": "display_data"
    },
    {
     "data": {
      "application/vnd.jupyter.widget-view+json": {
       "model_id": "22693b630d404a7a902ef6ba26c32e36",
       "version_major": 2,
       "version_minor": 0
      },
      "text/plain": [
       "Drawing 10000 posterior samples:   0%|          | 0/10000 [00:00<?, ?it/s]"
      ]
     },
     "metadata": {},
     "output_type": "display_data"
    },
    {
     "name": "stdout",
     "output_type": "stream",
     "text": [
      "Min RMSE is:  4.440882135499827\n"
     ]
    },
    {
     "data": {
      "application/vnd.jupyter.widget-view+json": {
       "model_id": "764e65d4ff7a4f2485105f66ff77a9d3",
       "version_major": 2,
       "version_minor": 0
      },
      "text/plain": [
       "Drawing 1000 posterior samples:   0%|          | 0/1000 [00:00<?, ?it/s]"
      ]
     },
     "metadata": {},
     "output_type": "display_data"
    },
    {
     "data": {
      "application/vnd.jupyter.widget-view+json": {
       "model_id": "fb07e566679d47fab0e7ba600fd6c55d",
       "version_major": 2,
       "version_minor": 0
      },
      "text/plain": [
       "Drawing 10000 posterior samples:   0%|          | 0/10000 [00:00<?, ?it/s]"
      ]
     },
     "metadata": {},
     "output_type": "display_data"
    },
    {
     "name": "stdout",
     "output_type": "stream",
     "text": [
      "Min RMSE is:  4.171176518178741\n"
     ]
    },
    {
     "data": {
      "application/vnd.jupyter.widget-view+json": {
       "model_id": "26878d26b5194a899964b83943c6a9c4",
       "version_major": 2,
       "version_minor": 0
      },
      "text/plain": [
       "Drawing 1000 posterior samples:   0%|          | 0/1000 [00:00<?, ?it/s]"
      ]
     },
     "metadata": {},
     "output_type": "display_data"
    },
    {
     "data": {
      "application/vnd.jupyter.widget-view+json": {
       "model_id": "cca085068b85415b857815eead11556d",
       "version_major": 2,
       "version_minor": 0
      },
      "text/plain": [
       "Drawing 10000 posterior samples:   0%|          | 0/10000 [00:00<?, ?it/s]"
      ]
     },
     "metadata": {},
     "output_type": "display_data"
    },
    {
     "name": "stdout",
     "output_type": "stream",
     "text": [
      "Min RMSE is:  3.0107166653892783\n"
     ]
    },
    {
     "data": {
      "application/vnd.jupyter.widget-view+json": {
       "model_id": "a0921d61c2c84949890c2a99b022cb85",
       "version_major": 2,
       "version_minor": 0
      },
      "text/plain": [
       "Drawing 1000 posterior samples:   0%|          | 0/1000 [00:00<?, ?it/s]"
      ]
     },
     "metadata": {},
     "output_type": "display_data"
    },
    {
     "data": {
      "application/vnd.jupyter.widget-view+json": {
       "model_id": "39d7064bc2464d0781c8e9ff64c087af",
       "version_major": 2,
       "version_minor": 0
      },
      "text/plain": [
       "Drawing 10000 posterior samples:   0%|          | 0/10000 [00:00<?, ?it/s]"
      ]
     },
     "metadata": {},
     "output_type": "display_data"
    },
    {
     "name": "stdout",
     "output_type": "stream",
     "text": [
      "Min RMSE is:  5.043906493221727\n"
     ]
    },
    {
     "data": {
      "application/vnd.jupyter.widget-view+json": {
       "model_id": "d281feddb5ef43ea9f85d30ee8d5b59b",
       "version_major": 2,
       "version_minor": 0
      },
      "text/plain": [
       "Drawing 1000 posterior samples:   0%|          | 0/1000 [00:00<?, ?it/s]"
      ]
     },
     "metadata": {},
     "output_type": "display_data"
    },
    {
     "data": {
      "application/vnd.jupyter.widget-view+json": {
       "model_id": "7e8e5cbfe3714a4eb3ceed9938976b34",
       "version_major": 2,
       "version_minor": 0
      },
      "text/plain": [
       "Drawing 10000 posterior samples:   0%|          | 0/10000 [00:00<?, ?it/s]"
      ]
     },
     "metadata": {},
     "output_type": "display_data"
    },
    {
     "name": "stdout",
     "output_type": "stream",
     "text": [
      "Min RMSE is:  3.9923593116448117\n"
     ]
    },
    {
     "data": {
      "application/vnd.jupyter.widget-view+json": {
       "model_id": "e65b9cd6abf04cc4a59c2e403249278e",
       "version_major": 2,
       "version_minor": 0
      },
      "text/plain": [
       "Drawing 1000 posterior samples:   0%|          | 0/1000 [00:00<?, ?it/s]"
      ]
     },
     "metadata": {},
     "output_type": "display_data"
    },
    {
     "data": {
      "application/vnd.jupyter.widget-view+json": {
       "model_id": "b9554124b98f4712985e6a26b8067b0b",
       "version_major": 2,
       "version_minor": 0
      },
      "text/plain": [
       "Drawing 10000 posterior samples:   0%|          | 0/10000 [00:00<?, ?it/s]"
      ]
     },
     "metadata": {},
     "output_type": "display_data"
    },
    {
     "name": "stdout",
     "output_type": "stream",
     "text": [
      "Min RMSE is:  3.3587686282302918\n"
     ]
    },
    {
     "data": {
      "application/vnd.jupyter.widget-view+json": {
       "model_id": "ba452210e0ef421d8250f492c104efe4",
       "version_major": 2,
       "version_minor": 0
      },
      "text/plain": [
       "Drawing 1000 posterior samples:   0%|          | 0/1000 [00:00<?, ?it/s]"
      ]
     },
     "metadata": {},
     "output_type": "display_data"
    }
   ],
   "source": [
    "# On Ind. Step Samples\n",
    "\n",
    "rmse_info_step_ind_step = []\n",
    "for sample, ar_sample in zip(prior_samples_ind_step, app_res_samples_ind_step):\n",
    "    (min_rmse_ar, min_rmse_res, mean_res, mean_ar, avg_rmse_param, avg_rmse_obs, map, map_app_res, map_rmse_res,\n",
    "     map_rmse_app_res) = compute_avg_rmse_and_map_rsme_from_step_posterior_sammples(sample, ar_sample)\n",
    "    rmse_info_step_ind_step.append((min_rmse_ar, min_rmse_res, mean_res, mean_ar, avg_rmse_param, avg_rmse_obs, map,\n",
    "                                    map_app_res, map_rmse_res, map_rmse_app_res))"
   ]
  },
  {
   "cell_type": "code",
   "execution_count": 81,
   "id": "545637e4-cec7-4a62-abf6-8b33b19b3029",
   "metadata": {},
   "outputs": [
    {
     "name": "stdout",
     "output_type": "stream",
     "text": [
      "min_rsme_values_res 4.05583805008063\n",
      "min_rsme_values_app_res 345.066\n"
     ]
    }
   ],
   "source": [
    "min_rsme_values_res = [item[0] for item in rmse_info_step_ind_step]\n",
    "min_rsme_values_app_res = [item[1] for item in rmse_info_step_ind_step]\n",
    "print(\"min_rsme_values_res\", np.average(min_rsme_values_res))\n",
    "print(\"min_rsme_values_app_res\", np.average(min_rsme_values_app_res))"
   ]
  },
  {
   "cell_type": "code",
   "execution_count": null,
   "id": "0792471e-8d75-4e7b-a55c-da5948751bcb",
   "metadata": {},
   "outputs": [],
   "source": [
    "pickle_objects([rmse_info_step_on_step, rmse_info_step_on_poly, rmse_info_step_on_block, rmse_info_step_ind_step],\n",
    "               filename='data/error metrics/errors_step_on_priors.pkl')"
   ]
  },
  {
   "cell_type": "markdown",
   "id": "e9ef55e4-6638-461c-9a6d-69f44969a3cc",
   "metadata": {
    "jp-MarkdownHeadingCollapsed": true
   },
   "source": [
    "### Polynomial model "
   ]
  },
  {
   "cell_type": "code",
   "execution_count": 93,
   "id": "566cde5a-c7a0-4e47-a2f5-939f6aa9eb45",
   "metadata": {
    "scrolled": true
   },
   "outputs": [
    {
     "data": {
      "application/vnd.jupyter.widget-view+json": {
       "model_id": "5bec01c66b504ed78f1625b120e3a0e9",
       "version_major": 2,
       "version_minor": 0
      },
      "text/plain": [
       "Drawing 10000 posterior samples:   0%|          | 0/10000 [00:00<?, ?it/s]"
      ]
     },
     "metadata": {},
     "output_type": "display_data"
    },
    {
     "name": "stdout",
     "output_type": "stream",
     "text": [
      "Min RMSE is:  4.786009491932953\n"
     ]
    },
    {
     "data": {
      "application/vnd.jupyter.widget-view+json": {
       "model_id": "df123690db124c1d8b2ebb0b06d36678",
       "version_major": 2,
       "version_minor": 0
      },
      "text/plain": [
       "Drawing 1000 posterior samples:   0%|          | 0/1000 [00:00<?, ?it/s]"
      ]
     },
     "metadata": {},
     "output_type": "display_data"
    },
    {
     "data": {
      "application/vnd.jupyter.widget-view+json": {
       "model_id": "4b2a834fe1814d18a9f16d74fb30e62c",
       "version_major": 2,
       "version_minor": 0
      },
      "text/plain": [
       "Drawing 10000 posterior samples:   0%|          | 0/10000 [00:00<?, ?it/s]"
      ]
     },
     "metadata": {},
     "output_type": "display_data"
    },
    {
     "name": "stdout",
     "output_type": "stream",
     "text": [
      "Min RMSE is:  9.136195359180151\n"
     ]
    },
    {
     "data": {
      "application/vnd.jupyter.widget-view+json": {
       "model_id": "3e2e8fa7756942818f1d08fefb9fb1ef",
       "version_major": 2,
       "version_minor": 0
      },
      "text/plain": [
       "Drawing 10000 posterior samples:   0%|          | 0/10000 [00:00<?, ?it/s]"
      ]
     },
     "metadata": {},
     "output_type": "display_data"
    },
    {
     "name": "stdout",
     "output_type": "stream",
     "text": [
      "Min RMSE is:  4.183836781963716\n"
     ]
    },
    {
     "data": {
      "application/vnd.jupyter.widget-view+json": {
       "model_id": "888cb8c5a82b4b40b0a77c6fad339fb9",
       "version_major": 2,
       "version_minor": 0
      },
      "text/plain": [
       "Drawing 10000 posterior samples:   0%|          | 0/10000 [00:00<?, ?it/s]"
      ]
     },
     "metadata": {},
     "output_type": "display_data"
    },
    {
     "name": "stdout",
     "output_type": "stream",
     "text": [
      "Min RMSE is:  5.559950078753762\n"
     ]
    },
    {
     "data": {
      "application/vnd.jupyter.widget-view+json": {
       "model_id": "a7d8c1ba663f4162997e829523b11ab1",
       "version_major": 2,
       "version_minor": 0
      },
      "text/plain": [
       "Drawing 10000 posterior samples:   0%|          | 0/10000 [00:00<?, ?it/s]"
      ]
     },
     "metadata": {},
     "output_type": "display_data"
    },
    {
     "name": "stdout",
     "output_type": "stream",
     "text": [
      "Min RMSE is:  5.681084897328812\n"
     ]
    },
    {
     "data": {
      "application/vnd.jupyter.widget-view+json": {
       "model_id": "deed3d4587d342e9bfe3d061b695b45a",
       "version_major": 2,
       "version_minor": 0
      },
      "text/plain": [
       "Drawing 10000 posterior samples:   0%|          | 0/10000 [00:00<?, ?it/s]"
      ]
     },
     "metadata": {},
     "output_type": "display_data"
    },
    {
     "name": "stdout",
     "output_type": "stream",
     "text": [
      "Min RMSE is:  3.1626159473792015\n"
     ]
    },
    {
     "data": {
      "application/vnd.jupyter.widget-view+json": {
       "model_id": "9a95ee62760b42f7b6588f30fa9d442a",
       "version_major": 2,
       "version_minor": 0
      },
      "text/plain": [
       "Drawing 10000 posterior samples:   0%|          | 0/10000 [00:00<?, ?it/s]"
      ]
     },
     "metadata": {},
     "output_type": "display_data"
    },
    {
     "name": "stdout",
     "output_type": "stream",
     "text": [
      "Min RMSE is:  8.14913430185609\n"
     ]
    },
    {
     "data": {
      "application/vnd.jupyter.widget-view+json": {
       "model_id": "0c6c7af7d8014a5ab123355cee62d1fb",
       "version_major": 2,
       "version_minor": 0
      },
      "text/plain": [
       "Drawing 10000 posterior samples:   0%|          | 0/10000 [00:00<?, ?it/s]"
      ]
     },
     "metadata": {},
     "output_type": "display_data"
    },
    {
     "name": "stdout",
     "output_type": "stream",
     "text": [
      "Min RMSE is:  4.30202425747349\n"
     ]
    },
    {
     "data": {
      "application/vnd.jupyter.widget-view+json": {
       "model_id": "1106a75223e646d08261b1b470308e0e",
       "version_major": 2,
       "version_minor": 0
      },
      "text/plain": [
       "Drawing 10000 posterior samples:   0%|          | 0/10000 [00:00<?, ?it/s]"
      ]
     },
     "metadata": {},
     "output_type": "display_data"
    },
    {
     "name": "stdout",
     "output_type": "stream",
     "text": [
      "Min RMSE is:  5.878157814451509\n"
     ]
    }
   ],
   "source": [
    "# On Step Samples\n",
    "\n",
    "rmse_info_poly_on_step = []\n",
    "for sample, ar_sample in zip(prior_samples_step, app_res_samples_step):\n",
    "    (min_rmse_ar, min_rmse_res, mean_res, mean_ar, avg_rmse_param, avg_rmse_obs, map, map_app_res, map_rmse_res,\n",
    "     map_rmse_app_res) = compute_avg_rmse_and_map_rsme_from_poly_posterior_sammples(sample, ar_sample)\n",
    "    rmse_info_poly_on_step.append((min_rmse_ar, min_rmse_res, mean_res, mean_ar, avg_rmse_param, avg_rmse_obs, map,\n",
    "                                   map_app_res, map_rmse_res, map_rmse_app_res))"
   ]
  },
  {
   "cell_type": "code",
   "execution_count": 94,
   "id": "362c920a-3fd9-4c64-b000-2b93734360e5",
   "metadata": {},
   "outputs": [
    {
     "name": "stdout",
     "output_type": "stream",
     "text": [
      "min_rsme_values_res 5.648778770035522\n",
      "min_rsme_values_app_res 352.8436562524123\n"
     ]
    }
   ],
   "source": [
    "min_rsme_values_res = [item[0] for item in rmse_info_poly_on_step]\n",
    "min_rsme_values_app_res = [item[1] for item in rmse_info_poly_on_step]\n",
    "print(\"min_rsme_values_res\", np.average(min_rsme_values_res))\n",
    "print(\"min_rsme_values_app_res\", np.average(min_rsme_values_app_res))"
   ]
  },
  {
   "cell_type": "code",
   "execution_count": 24,
   "id": "2eb73a07-1acc-4c30-83d7-e4bd1539e02d",
   "metadata": {
    "scrolled": true
   },
   "outputs": [
    {
     "data": {
      "application/vnd.jupyter.widget-view+json": {
       "model_id": "796b381e79f94138934ac2f5069bdb1c",
       "version_major": 2,
       "version_minor": 0
      },
      "text/plain": [
       "Drawing 10000 posterior samples:   0%|          | 0/10000 [00:00<?, ?it/s]"
      ]
     },
     "metadata": {},
     "output_type": "display_data"
    },
    {
     "name": "stdout",
     "output_type": "stream",
     "text": [
      "Min RMSE is:  2.6299309462541083\n"
     ]
    },
    {
     "data": {
      "application/vnd.jupyter.widget-view+json": {
       "model_id": "8a567a4e4e7a48bba0cf3a493eedc8a8",
       "version_major": 2,
       "version_minor": 0
      },
      "text/plain": [
       "Drawing 1000 posterior samples:   0%|          | 0/1000 [00:00<?, ?it/s]"
      ]
     },
     "metadata": {},
     "output_type": "display_data"
    },
    {
     "data": {
      "application/vnd.jupyter.widget-view+json": {
       "model_id": "afd6dce949d242838e0d1fa5aa616cc3",
       "version_major": 2,
       "version_minor": 0
      },
      "text/plain": [
       "Drawing 10000 posterior samples:   0%|          | 0/10000 [00:00<?, ?it/s]"
      ]
     },
     "metadata": {},
     "output_type": "display_data"
    },
    {
     "name": "stdout",
     "output_type": "stream",
     "text": [
      "Min RMSE is:  2.839270274394389\n"
     ]
    },
    {
     "data": {
      "application/vnd.jupyter.widget-view+json": {
       "model_id": "801af2bdc3954526b45c21d649e64464",
       "version_major": 2,
       "version_minor": 0
      },
      "text/plain": [
       "Drawing 1000 posterior samples:   0%|          | 0/1000 [00:00<?, ?it/s]"
      ]
     },
     "metadata": {},
     "output_type": "display_data"
    },
    {
     "data": {
      "application/vnd.jupyter.widget-view+json": {
       "model_id": "22dcb3bab4044314822ded18843f01e5",
       "version_major": 2,
       "version_minor": 0
      },
      "text/plain": [
       "Drawing 10000 posterior samples:   0%|          | 0/10000 [00:00<?, ?it/s]"
      ]
     },
     "metadata": {},
     "output_type": "display_data"
    },
    {
     "name": "stdout",
     "output_type": "stream",
     "text": [
      "Min RMSE is:  2.5713327123674317\n"
     ]
    },
    {
     "data": {
      "application/vnd.jupyter.widget-view+json": {
       "model_id": "38cf75338c91406c99ff4bdf5ce7dc25",
       "version_major": 2,
       "version_minor": 0
      },
      "text/plain": [
       "Drawing 1000 posterior samples:   0%|          | 0/1000 [00:00<?, ?it/s]"
      ]
     },
     "metadata": {},
     "output_type": "display_data"
    },
    {
     "data": {
      "application/vnd.jupyter.widget-view+json": {
       "model_id": "9cc5b951e025497d911379621c3d9aeb",
       "version_major": 2,
       "version_minor": 0
      },
      "text/plain": [
       "Drawing 10000 posterior samples:   0%|          | 0/10000 [00:00<?, ?it/s]"
      ]
     },
     "metadata": {},
     "output_type": "display_data"
    },
    {
     "name": "stdout",
     "output_type": "stream",
     "text": [
      "Min RMSE is:  2.4012661572416367\n"
     ]
    },
    {
     "data": {
      "application/vnd.jupyter.widget-view+json": {
       "model_id": "3d767ebffec64eaeb23c7e2113ce6802",
       "version_major": 2,
       "version_minor": 0
      },
      "text/plain": [
       "Drawing 1000 posterior samples:   0%|          | 0/1000 [00:00<?, ?it/s]"
      ]
     },
     "metadata": {},
     "output_type": "display_data"
    },
    {
     "data": {
      "application/vnd.jupyter.widget-view+json": {
       "model_id": "772a1ae99b844609800aa54c07ddcb02",
       "version_major": 2,
       "version_minor": 0
      },
      "text/plain": [
       "Drawing 10000 posterior samples:   0%|          | 0/10000 [00:00<?, ?it/s]"
      ]
     },
     "metadata": {},
     "output_type": "display_data"
    },
    {
     "name": "stdout",
     "output_type": "stream",
     "text": [
      "Min RMSE is:  3.031868992202591\n"
     ]
    },
    {
     "data": {
      "application/vnd.jupyter.widget-view+json": {
       "model_id": "6fe1661600fb4aa386372d36e988c113",
       "version_major": 2,
       "version_minor": 0
      },
      "text/plain": [
       "Drawing 1000 posterior samples:   0%|          | 0/1000 [00:00<?, ?it/s]"
      ]
     },
     "metadata": {},
     "output_type": "display_data"
    },
    {
     "data": {
      "application/vnd.jupyter.widget-view+json": {
       "model_id": "1d89f2e2b4a94f3ca0a2f00893138a04",
       "version_major": 2,
       "version_minor": 0
      },
      "text/plain": [
       "Drawing 10000 posterior samples:   0%|          | 0/10000 [00:00<?, ?it/s]"
      ]
     },
     "metadata": {},
     "output_type": "display_data"
    },
    {
     "name": "stdout",
     "output_type": "stream",
     "text": [
      "Min RMSE is:  1.9928404419414856\n"
     ]
    },
    {
     "data": {
      "application/vnd.jupyter.widget-view+json": {
       "model_id": "1394497d24f4485885bf6669d31b4e0a",
       "version_major": 2,
       "version_minor": 0
      },
      "text/plain": [
       "Drawing 1000 posterior samples:   0%|          | 0/1000 [00:00<?, ?it/s]"
      ]
     },
     "metadata": {},
     "output_type": "display_data"
    },
    {
     "data": {
      "application/vnd.jupyter.widget-view+json": {
       "model_id": "cc03ba299cee4c72a9d517264277e515",
       "version_major": 2,
       "version_minor": 0
      },
      "text/plain": [
       "Drawing 10000 posterior samples:   0%|          | 0/10000 [00:00<?, ?it/s]"
      ]
     },
     "metadata": {},
     "output_type": "display_data"
    },
    {
     "name": "stdout",
     "output_type": "stream",
     "text": [
      "Min RMSE is:  2.312232918491084\n"
     ]
    },
    {
     "data": {
      "application/vnd.jupyter.widget-view+json": {
       "model_id": "71147d421e924d0fb67390120b3f7d83",
       "version_major": 2,
       "version_minor": 0
      },
      "text/plain": [
       "Drawing 1000 posterior samples:   0%|          | 0/1000 [00:00<?, ?it/s]"
      ]
     },
     "metadata": {},
     "output_type": "display_data"
    },
    {
     "data": {
      "application/vnd.jupyter.widget-view+json": {
       "model_id": "8a8d14b5f0964222b4e833be347a045d",
       "version_major": 2,
       "version_minor": 0
      },
      "text/plain": [
       "Drawing 10000 posterior samples:   0%|          | 0/10000 [00:00<?, ?it/s]"
      ]
     },
     "metadata": {},
     "output_type": "display_data"
    },
    {
     "name": "stdout",
     "output_type": "stream",
     "text": [
      "Min RMSE is:  2.4603018072355045\n"
     ]
    },
    {
     "data": {
      "application/vnd.jupyter.widget-view+json": {
       "model_id": "b132efe47947486481161ac36d51eec8",
       "version_major": 2,
       "version_minor": 0
      },
      "text/plain": [
       "Drawing 1000 posterior samples:   0%|          | 0/1000 [00:00<?, ?it/s]"
      ]
     },
     "metadata": {},
     "output_type": "display_data"
    },
    {
     "data": {
      "application/vnd.jupyter.widget-view+json": {
       "model_id": "9de6471179814fdab46baed902570154",
       "version_major": 2,
       "version_minor": 0
      },
      "text/plain": [
       "Drawing 10000 posterior samples:   0%|          | 0/10000 [00:00<?, ?it/s]"
      ]
     },
     "metadata": {},
     "output_type": "display_data"
    },
    {
     "name": "stdout",
     "output_type": "stream",
     "text": [
      "Min RMSE is:  2.453308308937231\n"
     ]
    },
    {
     "data": {
      "application/vnd.jupyter.widget-view+json": {
       "model_id": "a88b4353a5554883aff970341b6eb934",
       "version_major": 2,
       "version_minor": 0
      },
      "text/plain": [
       "Drawing 1000 posterior samples:   0%|          | 0/1000 [00:00<?, ?it/s]"
      ]
     },
     "metadata": {},
     "output_type": "display_data"
    },
    {
     "data": {
      "application/vnd.jupyter.widget-view+json": {
       "model_id": "bd7dee8d6eef4f2280f0f7bba49a9b56",
       "version_major": 2,
       "version_minor": 0
      },
      "text/plain": [
       "Drawing 10000 posterior samples:   0%|          | 0/10000 [00:00<?, ?it/s]"
      ]
     },
     "metadata": {},
     "output_type": "display_data"
    },
    {
     "name": "stdout",
     "output_type": "stream",
     "text": [
      "Min RMSE is:  2.5751339571282013\n"
     ]
    },
    {
     "data": {
      "application/vnd.jupyter.widget-view+json": {
       "model_id": "49300f5c1c3241288c63bf27b2a1a460",
       "version_major": 2,
       "version_minor": 0
      },
      "text/plain": [
       "Drawing 1000 posterior samples:   0%|          | 0/1000 [00:00<?, ?it/s]"
      ]
     },
     "metadata": {},
     "output_type": "display_data"
    }
   ],
   "source": [
    "# On Poly Samples\n",
    "rmse_info_poly_on_poly = []\n",
    "for sample, ar_sample in zip(prior_samples_poly, app_res_samples_poly):\n",
    "    res_sample = polynomial.coefficients_to_resistivity(sample)\n",
    "\n",
    "    (min_rmse_ar, min_rmse_res, mean_res, mean_ar, avg_rmse_param, avg_rmse_obs, map, map_app_res, map_rmse_res,\n",
    "     map_rmse_app_res) = compute_avg_rmse_and_map_rsme_from_poly_posterior_sammples(res_sample, ar_sample)\n",
    "    rmse_info_poly_on_poly.append((min_rmse_ar, min_rmse_res, mean_res, mean_ar, avg_rmse_param, avg_rmse_obs, map,\n",
    "                                   map_app_res, map_rmse_res, map_rmse_app_res))\n",
    "\n"
   ]
  },
  {
   "cell_type": "code",
   "execution_count": 25,
   "id": "8975a5e2-b969-4ddb-8586-d54ca78573f0",
   "metadata": {},
   "outputs": [
    {
     "name": "stdout",
     "output_type": "stream",
     "text": [
      "min_rsme_values_res 2.5267486516193665\n",
      "min_rsme_values_app_res 11.359500231433396\n"
     ]
    }
   ],
   "source": [
    "min_rsme_values_res = [item[0] for item in rmse_info_poly_on_poly]\n",
    "min_rsme_values_app_res = [item[1] for item in rmse_info_poly_on_poly]\n",
    "print(\"min_rsme_values_res\", np.average(min_rsme_values_res))\n",
    "print(\"min_rsme_values_app_res\", np.average(min_rsme_values_app_res))"
   ]
  },
  {
   "cell_type": "code",
   "execution_count": 30,
   "id": "4640287e-4168-4bb0-96b5-b41604aa2bdb",
   "metadata": {
    "scrolled": true
   },
   "outputs": [
    {
     "data": {
      "application/vnd.jupyter.widget-view+json": {
       "model_id": "eb713575183c436ea50fbfe36cb03f46",
       "version_major": 2,
       "version_minor": 0
      },
      "text/plain": [
       "Drawing 10000 posterior samples:   0%|          | 0/10000 [00:00<?, ?it/s]"
      ]
     },
     "metadata": {},
     "output_type": "display_data"
    },
    {
     "name": "stdout",
     "output_type": "stream",
     "text": [
      "Min RMSE is:  2.018621505261236\n"
     ]
    },
    {
     "data": {
      "application/vnd.jupyter.widget-view+json": {
       "model_id": "235233130334403393ee595fc8ce6dd8",
       "version_major": 2,
       "version_minor": 0
      },
      "text/plain": [
       "Drawing 1000 posterior samples:   0%|          | 0/1000 [00:00<?, ?it/s]"
      ]
     },
     "metadata": {},
     "output_type": "display_data"
    },
    {
     "data": {
      "application/vnd.jupyter.widget-view+json": {
       "model_id": "fb6c9908299944829a4426a6d353b730",
       "version_major": 2,
       "version_minor": 0
      },
      "text/plain": [
       "Drawing 10000 posterior samples:   0%|          | 0/10000 [00:00<?, ?it/s]"
      ]
     },
     "metadata": {},
     "output_type": "display_data"
    },
    {
     "name": "stdout",
     "output_type": "stream",
     "text": [
      "Min RMSE is:  5.225007141541075\n"
     ]
    },
    {
     "data": {
      "application/vnd.jupyter.widget-view+json": {
       "model_id": "8d1f2438409a475aa73b327fcd67cde6",
       "version_major": 2,
       "version_minor": 0
      },
      "text/plain": [
       "Drawing 1000 posterior samples:   0%|          | 0/1000 [00:00<?, ?it/s]"
      ]
     },
     "metadata": {},
     "output_type": "display_data"
    },
    {
     "data": {
      "application/vnd.jupyter.widget-view+json": {
       "model_id": "e5e5e9c6aef84d17b6bb70a91d853e09",
       "version_major": 2,
       "version_minor": 0
      },
      "text/plain": [
       "Drawing 10000 posterior samples:   0%|          | 0/10000 [00:00<?, ?it/s]"
      ]
     },
     "metadata": {},
     "output_type": "display_data"
    },
    {
     "name": "stdout",
     "output_type": "stream",
     "text": [
      "Min RMSE is:  2.7116272142483377\n"
     ]
    },
    {
     "data": {
      "application/vnd.jupyter.widget-view+json": {
       "model_id": "b316378942174f4a8f236bd9c11fb244",
       "version_major": 2,
       "version_minor": 0
      },
      "text/plain": [
       "Drawing 1000 posterior samples:   0%|          | 0/1000 [00:00<?, ?it/s]"
      ]
     },
     "metadata": {},
     "output_type": "display_data"
    },
    {
     "data": {
      "application/vnd.jupyter.widget-view+json": {
       "model_id": "2b086351b0e340318f2eb0726b5b862c",
       "version_major": 2,
       "version_minor": 0
      },
      "text/plain": [
       "Drawing 10000 posterior samples:   0%|          | 0/10000 [00:00<?, ?it/s]"
      ]
     },
     "metadata": {},
     "output_type": "display_data"
    },
    {
     "name": "stdout",
     "output_type": "stream",
     "text": [
      "Min RMSE is:  3.3841611611536324\n"
     ]
    },
    {
     "data": {
      "application/vnd.jupyter.widget-view+json": {
       "model_id": "28256f3a41cb43e480e684880a9f84e7",
       "version_major": 2,
       "version_minor": 0
      },
      "text/plain": [
       "Drawing 1000 posterior samples:   0%|          | 0/1000 [00:00<?, ?it/s]"
      ]
     },
     "metadata": {},
     "output_type": "display_data"
    },
    {
     "data": {
      "application/vnd.jupyter.widget-view+json": {
       "model_id": "fe59960949bf480cb9b9df5ff81107bf",
       "version_major": 2,
       "version_minor": 0
      },
      "text/plain": [
       "Drawing 10000 posterior samples:   0%|          | 0/10000 [00:00<?, ?it/s]"
      ]
     },
     "metadata": {},
     "output_type": "display_data"
    },
    {
     "name": "stdout",
     "output_type": "stream",
     "text": [
      "Min RMSE is:  inf\n"
     ]
    },
    {
     "name": "stderr",
     "output_type": "stream",
     "text": [
      "/scratch/slurm_tmpdir/job_23845254/ipykernel_673672/234070513.py:60: RuntimeWarning: Mean of empty slice\n",
      "  mean_ar = np.nanmean(sim_apparent_resistivities, axis=0)\n",
      "/opt/bwhpc/common/jupyter/tensorflow/2023-10-10/lib/python3.9/site-packages/numpy/lib/function_base.py:520: RuntimeWarning: Mean of empty slice.\n",
      "  avg = a.mean(axis, **keepdims_kw)\n",
      "/opt/bwhpc/common/jupyter/tensorflow/2023-10-10/lib/python3.9/site-packages/numpy/core/_methods.py:129: RuntimeWarning: invalid value encountered in scalar divide\n",
      "  ret = ret.dtype.type(ret / rcount)\n"
     ]
    },
    {
     "data": {
      "application/vnd.jupyter.widget-view+json": {
       "model_id": "30e47ec943c14996a8c704c67c7111ea",
       "version_major": 2,
       "version_minor": 0
      },
      "text/plain": [
       "Drawing 1000 posterior samples:   0%|          | 0/1000 [00:00<?, ?it/s]"
      ]
     },
     "metadata": {},
     "output_type": "display_data"
    },
    {
     "data": {
      "application/vnd.jupyter.widget-view+json": {
       "model_id": "b56719448c6d4e9cbd358e7c8f3cc59c",
       "version_major": 2,
       "version_minor": 0
      },
      "text/plain": [
       "Drawing 10000 posterior samples:   0%|          | 0/10000 [00:00<?, ?it/s]"
      ]
     },
     "metadata": {},
     "output_type": "display_data"
    },
    {
     "name": "stdout",
     "output_type": "stream",
     "text": [
      "Min RMSE is:  2.7299407968007365\n"
     ]
    },
    {
     "data": {
      "application/vnd.jupyter.widget-view+json": {
       "model_id": "670309b60c2d498ba916da4ef9137511",
       "version_major": 2,
       "version_minor": 0
      },
      "text/plain": [
       "Drawing 1000 posterior samples:   0%|          | 0/1000 [00:00<?, ?it/s]"
      ]
     },
     "metadata": {},
     "output_type": "display_data"
    },
    {
     "data": {
      "application/vnd.jupyter.widget-view+json": {
       "model_id": "16017b7954c04296bd923b76f58bb101",
       "version_major": 2,
       "version_minor": 0
      },
      "text/plain": [
       "Drawing 10000 posterior samples:   0%|          | 0/10000 [00:00<?, ?it/s]"
      ]
     },
     "metadata": {},
     "output_type": "display_data"
    },
    {
     "name": "stdout",
     "output_type": "stream",
     "text": [
      "Min RMSE is:  2.9097174797630774\n"
     ]
    },
    {
     "data": {
      "application/vnd.jupyter.widget-view+json": {
       "model_id": "ab192162deb0439aba0d64d8414cff8a",
       "version_major": 2,
       "version_minor": 0
      },
      "text/plain": [
       "Drawing 1000 posterior samples:   0%|          | 0/1000 [00:00<?, ?it/s]"
      ]
     },
     "metadata": {},
     "output_type": "display_data"
    },
    {
     "data": {
      "application/vnd.jupyter.widget-view+json": {
       "model_id": "21de121838ba4644955288f7b099aa7f",
       "version_major": 2,
       "version_minor": 0
      },
      "text/plain": [
       "Drawing 10000 posterior samples:   0%|          | 0/10000 [00:00<?, ?it/s]"
      ]
     },
     "metadata": {},
     "output_type": "display_data"
    },
    {
     "name": "stdout",
     "output_type": "stream",
     "text": [
      "Min RMSE is:  6.503997579892688\n"
     ]
    },
    {
     "data": {
      "application/vnd.jupyter.widget-view+json": {
       "model_id": "82f4fe206bf346729282bfc5944c2ce7",
       "version_major": 2,
       "version_minor": 0
      },
      "text/plain": [
       "Drawing 1000 posterior samples:   0%|          | 0/1000 [00:00<?, ?it/s]"
      ]
     },
     "metadata": {},
     "output_type": "display_data"
    },
    {
     "data": {
      "application/vnd.jupyter.widget-view+json": {
       "model_id": "f2a4cad90ef54eb3ba7e2225c394d6c9",
       "version_major": 2,
       "version_minor": 0
      },
      "text/plain": [
       "Drawing 10000 posterior samples:   0%|          | 0/10000 [00:00<?, ?it/s]"
      ]
     },
     "metadata": {},
     "output_type": "display_data"
    },
    {
     "name": "stdout",
     "output_type": "stream",
     "text": [
      "Min RMSE is:  2.5684114858484004\n"
     ]
    },
    {
     "data": {
      "application/vnd.jupyter.widget-view+json": {
       "model_id": "d924f3dc295b4c6dad79227adeff254a",
       "version_major": 2,
       "version_minor": 0
      },
      "text/plain": [
       "Drawing 1000 posterior samples:   0%|          | 0/1000 [00:00<?, ?it/s]"
      ]
     },
     "metadata": {},
     "output_type": "display_data"
    }
   ],
   "source": [
    "# On Block Samples\n",
    "\n",
    "rmse_info_poly_on_block = []\n",
    "for sample, ar_sample in zip(prior_samples_block[1:], app_res_samples_block[1:]):\n",
    "    res_sample = block_sample_to_resistivity(sample)\n",
    "    (min_rmse_ar, min_rmse_res, mean_res, mean_ar, avg_rmse_param, avg_rmse_obs, map, map_app_res, map_rmse_res,\n",
    "     map_rmse_app_res) = compute_avg_rmse_and_map_rsme_from_poly_posterior_sammples(res_sample, ar_sample)\n",
    "    rmse_info_poly_on_block.append((min_rmse_ar, min_rmse_res, mean_res, mean_ar, avg_rmse_param, avg_rmse_obs, map,\n",
    "                                    map_app_res, map_rmse_res, map_rmse_app_res))\n",
    "\n"
   ]
  },
  {
   "cell_type": "code",
   "execution_count": 34,
   "id": "c637ee91-c186-428b-a002-1d6a2e587970",
   "metadata": {},
   "outputs": [
    {
     "name": "stdout",
     "output_type": "stream",
     "text": [
      "min_rsme_values_res 3.506435545563648\n",
      "min_rsme_values_app_res 123.7869615744539\n"
     ]
    }
   ],
   "source": [
    "min_rsme_values_res = [item[0] for item in rmse_info_poly_on_block]\n",
    "min_rsme_values_app_res = [item[1] for item in rmse_info_poly_on_block]\n",
    "\n",
    "# Filter out inf values\n",
    "filtered_min_rsme_values_res = [value for value in min_rsme_values_res if np.isfinite(value)]\n",
    "filtered_min_rsme_values_app_res = [value for value in min_rsme_values_app_res if np.isfinite(value)]\n",
    "\n",
    "average_res = np.average(filtered_min_rsme_values_res)\n",
    "average_app_res = np.average(filtered_min_rsme_values_app_res)\n",
    "\n",
    "print(\"min_rsme_values_res\", average_res)\n",
    "print(\"min_rsme_values_app_res\", average_app_res)"
   ]
  },
  {
   "cell_type": "code",
   "execution_count": 63,
   "id": "ab375629-0b4c-4277-8c26-9be2f249bb11",
   "metadata": {
    "scrolled": true
   },
   "outputs": [
    {
     "data": {
      "application/vnd.jupyter.widget-view+json": {
       "model_id": "9aeb665a2eb04af9b5aedbd4ef609bbd",
       "version_major": 2,
       "version_minor": 0
      },
      "text/plain": [
       "Drawing 10000 posterior samples:   0%|          | 0/10000 [00:00<?, ?it/s]"
      ]
     },
     "metadata": {},
     "output_type": "display_data"
    },
    {
     "name": "stdout",
     "output_type": "stream",
     "text": [
      "Min RMSE is:  9.239259770815378\n"
     ]
    },
    {
     "data": {
      "application/vnd.jupyter.widget-view+json": {
       "model_id": "c2566c3c36254ea6b1c5c30b8a3c81e7",
       "version_major": 2,
       "version_minor": 0
      },
      "text/plain": [
       "Drawing 1000 posterior samples:   0%|          | 0/1000 [00:00<?, ?it/s]"
      ]
     },
     "metadata": {},
     "output_type": "display_data"
    },
    {
     "data": {
      "application/vnd.jupyter.widget-view+json": {
       "model_id": "673c1739a3854d42abd54064156c9413",
       "version_major": 2,
       "version_minor": 0
      },
      "text/plain": [
       "Drawing 10000 posterior samples:   0%|          | 0/10000 [00:00<?, ?it/s]"
      ]
     },
     "metadata": {},
     "output_type": "display_data"
    },
    {
     "name": "stdout",
     "output_type": "stream",
     "text": [
      "Min RMSE is:  2.982997401082521\n"
     ]
    },
    {
     "data": {
      "application/vnd.jupyter.widget-view+json": {
       "model_id": "02344ef1dacf4502939f15ae93e3c859",
       "version_major": 2,
       "version_minor": 0
      },
      "text/plain": [
       "Drawing 1000 posterior samples:   0%|          | 0/1000 [00:00<?, ?it/s]"
      ]
     },
     "metadata": {},
     "output_type": "display_data"
    },
    {
     "data": {
      "application/vnd.jupyter.widget-view+json": {
       "model_id": "18d2fa76e66d401a8b1905154286c63b",
       "version_major": 2,
       "version_minor": 0
      },
      "text/plain": [
       "Drawing 10000 posterior samples:   0%|          | 0/10000 [00:00<?, ?it/s]"
      ]
     },
     "metadata": {},
     "output_type": "display_data"
    },
    {
     "name": "stdout",
     "output_type": "stream",
     "text": [
      "Min RMSE is:  11.93715955289278\n"
     ]
    },
    {
     "data": {
      "application/vnd.jupyter.widget-view+json": {
       "model_id": "85069ba4d820458ea579f79a6ab5c8a1",
       "version_major": 2,
       "version_minor": 0
      },
      "text/plain": [
       "Drawing 1000 posterior samples:   0%|          | 0/1000 [00:00<?, ?it/s]"
      ]
     },
     "metadata": {},
     "output_type": "display_data"
    },
    {
     "data": {
      "application/vnd.jupyter.widget-view+json": {
       "model_id": "b504da6f5d264d9d9ce8372485ceeb92",
       "version_major": 2,
       "version_minor": 0
      },
      "text/plain": [
       "Drawing 10000 posterior samples:   0%|          | 0/10000 [00:00<?, ?it/s]"
      ]
     },
     "metadata": {},
     "output_type": "display_data"
    },
    {
     "name": "stdout",
     "output_type": "stream",
     "text": [
      "Min RMSE is:  2.5944402899241568\n"
     ]
    },
    {
     "data": {
      "application/vnd.jupyter.widget-view+json": {
       "model_id": "913d48d211a14126b744056fc4a3e920",
       "version_major": 2,
       "version_minor": 0
      },
      "text/plain": [
       "Drawing 1000 posterior samples:   0%|          | 0/1000 [00:00<?, ?it/s]"
      ]
     },
     "metadata": {},
     "output_type": "display_data"
    },
    {
     "data": {
      "application/vnd.jupyter.widget-view+json": {
       "model_id": "17a980af329b40b0a0ccc04ccccb8ea5",
       "version_major": 2,
       "version_minor": 0
      },
      "text/plain": [
       "Drawing 10000 posterior samples:   0%|          | 0/10000 [00:00<?, ?it/s]"
      ]
     },
     "metadata": {},
     "output_type": "display_data"
    },
    {
     "name": "stdout",
     "output_type": "stream",
     "text": [
      "Min RMSE is:  9.019212162097949\n"
     ]
    },
    {
     "data": {
      "application/vnd.jupyter.widget-view+json": {
       "model_id": "5e657ca331604104bfb81bbca4409b07",
       "version_major": 2,
       "version_minor": 0
      },
      "text/plain": [
       "Drawing 1000 posterior samples:   0%|          | 0/1000 [00:00<?, ?it/s]"
      ]
     },
     "metadata": {},
     "output_type": "display_data"
    },
    {
     "data": {
      "application/vnd.jupyter.widget-view+json": {
       "model_id": "eb6276d2941248f8a0613bdb16dbd853",
       "version_major": 2,
       "version_minor": 0
      },
      "text/plain": [
       "Drawing 10000 posterior samples:   0%|          | 0/10000 [00:00<?, ?it/s]"
      ]
     },
     "metadata": {},
     "output_type": "display_data"
    },
    {
     "name": "stdout",
     "output_type": "stream",
     "text": [
      "Min RMSE is:  11.93162147631684\n"
     ]
    },
    {
     "data": {
      "application/vnd.jupyter.widget-view+json": {
       "model_id": "1cf309b73a744fca82d7155e85b8906d",
       "version_major": 2,
       "version_minor": 0
      },
      "text/plain": [
       "Drawing 1000 posterior samples:   0%|          | 0/1000 [00:00<?, ?it/s]"
      ]
     },
     "metadata": {},
     "output_type": "display_data"
    },
    {
     "data": {
      "application/vnd.jupyter.widget-view+json": {
       "model_id": "e31ddadb9b18475f948a22a815ae9b29",
       "version_major": 2,
       "version_minor": 0
      },
      "text/plain": [
       "Drawing 10000 posterior samples:   0%|          | 0/10000 [00:00<?, ?it/s]"
      ]
     },
     "metadata": {},
     "output_type": "display_data"
    },
    {
     "name": "stdout",
     "output_type": "stream",
     "text": [
      "Min RMSE is:  inf\n"
     ]
    },
    {
     "name": "stderr",
     "output_type": "stream",
     "text": [
      "/scratch/slurm_tmpdir/job_23845254/ipykernel_673672/234070513.py:60: RuntimeWarning: Mean of empty slice\n",
      "  mean_ar = np.nanmean(sim_apparent_resistivities, axis=0)\n",
      "/opt/bwhpc/common/jupyter/tensorflow/2023-10-10/lib/python3.9/site-packages/numpy/lib/function_base.py:520: RuntimeWarning: Mean of empty slice.\n",
      "  avg = a.mean(axis, **keepdims_kw)\n",
      "/opt/bwhpc/common/jupyter/tensorflow/2023-10-10/lib/python3.9/site-packages/numpy/core/_methods.py:129: RuntimeWarning: invalid value encountered in scalar divide\n",
      "  ret = ret.dtype.type(ret / rcount)\n"
     ]
    },
    {
     "data": {
      "application/vnd.jupyter.widget-view+json": {
       "model_id": "892dcd086b3b4dc2a09e81256c85ab0a",
       "version_major": 2,
       "version_minor": 0
      },
      "text/plain": [
       "Drawing 1000 posterior samples:   0%|          | 0/1000 [00:00<?, ?it/s]"
      ]
     },
     "metadata": {},
     "output_type": "display_data"
    },
    {
     "data": {
      "application/vnd.jupyter.widget-view+json": {
       "model_id": "535e9e2cdae54fd4a1c15b614b490a1a",
       "version_major": 2,
       "version_minor": 0
      },
      "text/plain": [
       "Drawing 10000 posterior samples:   0%|          | 0/10000 [00:00<?, ?it/s]"
      ]
     },
     "metadata": {},
     "output_type": "display_data"
    },
    {
     "name": "stdout",
     "output_type": "stream",
     "text": [
      "Min RMSE is:  2.3957981463459856\n"
     ]
    },
    {
     "data": {
      "application/vnd.jupyter.widget-view+json": {
       "model_id": "d990e766df074127b82fc30be401a19d",
       "version_major": 2,
       "version_minor": 0
      },
      "text/plain": [
       "Drawing 1000 posterior samples:   0%|          | 0/1000 [00:00<?, ?it/s]"
      ]
     },
     "metadata": {},
     "output_type": "display_data"
    },
    {
     "data": {
      "application/vnd.jupyter.widget-view+json": {
       "model_id": "e6c4cec6835f4dbd9c5dfa19984dd9fc",
       "version_major": 2,
       "version_minor": 0
      },
      "text/plain": [
       "Drawing 10000 posterior samples:   0%|          | 0/10000 [00:00<?, ?it/s]"
      ]
     },
     "metadata": {},
     "output_type": "display_data"
    },
    {
     "name": "stdout",
     "output_type": "stream",
     "text": [
      "Min RMSE is:  4.835089236381552\n"
     ]
    },
    {
     "data": {
      "application/vnd.jupyter.widget-view+json": {
       "model_id": "dd4d8a623240437eaffbcdc33578a49b",
       "version_major": 2,
       "version_minor": 0
      },
      "text/plain": [
       "Drawing 1000 posterior samples:   0%|          | 0/1000 [00:00<?, ?it/s]"
      ]
     },
     "metadata": {},
     "output_type": "display_data"
    }
   ],
   "source": [
    "# Polynomial Posterior on Independent Step Prior Samples\n",
    "valid_prior_samples = torch.cat([prior_samples_ind_step[:6], prior_samples_ind_step[7:]])\n",
    "valid_app_res_samples = torch.cat(\n",
    "    [torch.tensor(app_res_samples_ind_step)[:6], torch.tensor(app_res_samples_ind_step)[7:]])\n",
    "\n",
    "rmse_info_poly_on_ind_step = []\n",
    "for sample, ar_sample in zip(valid_prior_samples, valid_app_res_samples):\n",
    "    (min_rmse_ar, min_rmse_res, mean_res, mean_ar, avg_rmse_param, avg_rmse_obs, map, map_app_res, map_rmse_res,\n",
    "     map_rmse_app_res) = compute_avg_rmse_and_map_rsme_from_poly_posterior_sammples(sample, ar_sample)\n",
    "    rmse_info_poly_on_ind_step.append((min_rmse_ar, min_rmse_res, mean_res, mean_ar, avg_rmse_param, avg_rmse_obs, map,\n",
    "                                       map_app_res, map_rmse_res, map_rmse_app_res))"
   ]
  },
  {
   "cell_type": "code",
   "execution_count": 67,
   "id": "43b4182e-20cf-48ee-845d-0dc8bfd12cc7",
   "metadata": {},
   "outputs": [
    {
     "name": "stdout",
     "output_type": "stream",
     "text": [
      "min_rsme_values_res 6.866947254482145\n",
      "min_rsme_values_app_res 338.19755347616865\n"
     ]
    }
   ],
   "source": [
    "min_rsme_values_res = [item[0] for item in rmse_info_poly_on_ind_step]\n",
    "min_rsme_values_app_res = [item[1] for item in rmse_info_poly_on_ind_step]\n",
    "\n",
    "# Filter out inf values\n",
    "filtered_min_rsme_values_res = [value for value in min_rsme_values_res if np.isfinite(value)]\n",
    "filtered_min_rsme_values_app_res = [value for value in min_rsme_values_app_res if np.isfinite(value)]\n",
    "\n",
    "average_res = np.average(filtered_min_rsme_values_res)\n",
    "average_app_res = np.average(filtered_min_rsme_values_app_res)\n",
    "\n",
    "print(\"min_rsme_values_res\", np.average(average_res))\n",
    "print(\"min_rsme_values_app_res\", np.average(average_app_res))"
   ]
  },
  {
   "cell_type": "code",
   "execution_count": null,
   "id": "4e682c08-9037-41f5-9c98-b006e263d3c9",
   "metadata": {},
   "outputs": [],
   "source": [
    "pickle_objects([rmse_info_poly_on_step, rmse_info_poly_on_poly, rmse_info_poly_on_block, rmse_info_poly_on_ind_step],\n",
    "               filename='data/error metrics/errors_poly_on_priors.pkl')"
   ]
  },
  {
   "cell_type": "markdown",
   "id": "16fe6b88-93fe-4b74-8b26-60dd39feb6a0",
   "metadata": {
    "jp-MarkdownHeadingCollapsed": true
   },
   "source": [
    "### Independent Step model "
   ]
  },
  {
   "cell_type": "code",
   "execution_count": 15,
   "id": "5837efb4-a029-4d9d-89f7-2ec2d7f034f5",
   "metadata": {
    "scrolled": true
   },
   "outputs": [
    {
     "data": {
      "application/vnd.jupyter.widget-view+json": {
       "model_id": "b8f39eaff84d497ebd947ff2a25cbeed",
       "version_major": 2,
       "version_minor": 0
      },
      "text/plain": [
       "Drawing 10000 posterior samples:   0%|          | 0/10000 [00:00<?, ?it/s]"
      ]
     },
     "metadata": {},
     "output_type": "display_data"
    },
    {
     "name": "stdout",
     "output_type": "stream",
     "text": [
      "Min RMSE is:  7.849544389778869\n"
     ]
    },
    {
     "data": {
      "application/vnd.jupyter.widget-view+json": {
       "model_id": "42c38e23daf644e38519fe5ac2ca542f",
       "version_major": 2,
       "version_minor": 0
      },
      "text/plain": [
       "Drawing 1000 posterior samples:   0%|          | 0/1000 [00:00<?, ?it/s]"
      ]
     },
     "metadata": {},
     "output_type": "display_data"
    },
    {
     "name": "stderr",
     "output_type": "stream",
     "text": [
      "WARNING:root:Only 0.962% proposal samples are\n",
      "                    accepted. It may take a long time to collect the remaining\n",
      "                    798 samples. Consider interrupting (Ctrl-C) and switching to\n",
      "                    `build_posterior(..., sample_with='mcmc')`.\n"
     ]
    },
    {
     "data": {
      "application/vnd.jupyter.widget-view+json": {
       "model_id": "26b65ecebafe49f4a125b68b5b3972e8",
       "version_major": 2,
       "version_minor": 0
      },
      "text/plain": [
       "Drawing 10000 posterior samples:   0%|          | 0/10000 [00:00<?, ?it/s]"
      ]
     },
     "metadata": {},
     "output_type": "display_data"
    },
    {
     "name": "stdout",
     "output_type": "stream",
     "text": [
      "Min RMSE is:  3.0818366043311487\n"
     ]
    },
    {
     "data": {
      "application/vnd.jupyter.widget-view+json": {
       "model_id": "f2f4e61885324161bfa7f5f1179f63c3",
       "version_major": 2,
       "version_minor": 0
      },
      "text/plain": [
       "Drawing 1000 posterior samples:   0%|          | 0/1000 [00:00<?, ?it/s]"
      ]
     },
     "metadata": {},
     "output_type": "display_data"
    },
    {
     "data": {
      "application/vnd.jupyter.widget-view+json": {
       "model_id": "57d9a6385d444e92869321a299b99b8b",
       "version_major": 2,
       "version_minor": 0
      },
      "text/plain": [
       "Drawing 10000 posterior samples:   0%|          | 0/10000 [00:00<?, ?it/s]"
      ]
     },
     "metadata": {},
     "output_type": "display_data"
    },
    {
     "name": "stderr",
     "output_type": "stream",
     "text": [
      "WARNING:root:Only 0.740% proposal samples are\n",
      "                    accepted. It may take a long time to collect the remaining\n",
      "                    9926 samples. Consider interrupting (Ctrl-C) and switching to\n",
      "                    `build_posterior(..., sample_with='mcmc')`.\n"
     ]
    },
    {
     "name": "stdout",
     "output_type": "stream",
     "text": [
      "Min RMSE is:  40.55687440582326\n"
     ]
    },
    {
     "data": {
      "application/vnd.jupyter.widget-view+json": {
       "model_id": "7c2492ea98d8442ab136f9759f30fbaa",
       "version_major": 2,
       "version_minor": 0
      },
      "text/plain": [
       "Drawing 1000 posterior samples:   0%|          | 0/1000 [00:00<?, ?it/s]"
      ]
     },
     "metadata": {},
     "output_type": "display_data"
    },
    {
     "name": "stderr",
     "output_type": "stream",
     "text": [
      "WARNING:root:Only 0.800% proposal samples are\n",
      "                    accepted. It may take a long time to collect the remaining\n",
      "                    912 samples. Consider interrupting (Ctrl-C) and switching to\n",
      "                    `build_posterior(..., sample_with='mcmc')`.\n"
     ]
    },
    {
     "data": {
      "application/vnd.jupyter.widget-view+json": {
       "model_id": "a3f72c8b414a49c5be3f24ed1a52c54c",
       "version_major": 2,
       "version_minor": 0
      },
      "text/plain": [
       "Drawing 10000 posterior samples:   0%|          | 0/10000 [00:00<?, ?it/s]"
      ]
     },
     "metadata": {},
     "output_type": "display_data"
    },
    {
     "name": "stdout",
     "output_type": "stream",
     "text": [
      "Min RMSE is:  3.196860872949637\n"
     ]
    },
    {
     "data": {
      "application/vnd.jupyter.widget-view+json": {
       "model_id": "950fbe6efe8d4be3a7a2f53bd8bd731e",
       "version_major": 2,
       "version_minor": 0
      },
      "text/plain": [
       "Drawing 1000 posterior samples:   0%|          | 0/1000 [00:00<?, ?it/s]"
      ]
     },
     "metadata": {},
     "output_type": "display_data"
    },
    {
     "data": {
      "application/vnd.jupyter.widget-view+json": {
       "model_id": "3295dd8cc2bf4b0587a35dc232eb4164",
       "version_major": 2,
       "version_minor": 0
      },
      "text/plain": [
       "Drawing 10000 posterior samples:   0%|          | 0/10000 [00:00<?, ?it/s]"
      ]
     },
     "metadata": {},
     "output_type": "display_data"
    },
    {
     "name": "stdout",
     "output_type": "stream",
     "text": [
      "Min RMSE is:  3.4885947329513955\n"
     ]
    },
    {
     "data": {
      "application/vnd.jupyter.widget-view+json": {
       "model_id": "85e6a48d576f4fd084187ea90d08544a",
       "version_major": 2,
       "version_minor": 0
      },
      "text/plain": [
       "Drawing 1000 posterior samples:   0%|          | 0/1000 [00:00<?, ?it/s]"
      ]
     },
     "metadata": {},
     "output_type": "display_data"
    },
    {
     "data": {
      "application/vnd.jupyter.widget-view+json": {
       "model_id": "8063e043ebe34e76a82a6393724684f5",
       "version_major": 2,
       "version_minor": 0
      },
      "text/plain": [
       "Drawing 10000 posterior samples:   0%|          | 0/10000 [00:00<?, ?it/s]"
      ]
     },
     "metadata": {},
     "output_type": "display_data"
    },
    {
     "name": "stdout",
     "output_type": "stream",
     "text": [
      "Min RMSE is:  8.391294153942065\n"
     ]
    },
    {
     "data": {
      "application/vnd.jupyter.widget-view+json": {
       "model_id": "a26ccd9d4b24442c8a7b31d91dad08d4",
       "version_major": 2,
       "version_minor": 0
      },
      "text/plain": [
       "Drawing 1000 posterior samples:   0%|          | 0/1000 [00:00<?, ?it/s]"
      ]
     },
     "metadata": {},
     "output_type": "display_data"
    },
    {
     "data": {
      "application/vnd.jupyter.widget-view+json": {
       "model_id": "55bd9ae7023d419e88b80f603c73e5a4",
       "version_major": 2,
       "version_minor": 0
      },
      "text/plain": [
       "Drawing 10000 posterior samples:   0%|          | 0/10000 [00:00<?, ?it/s]"
      ]
     },
     "metadata": {},
     "output_type": "display_data"
    },
    {
     "name": "stdout",
     "output_type": "stream",
     "text": [
      "Min RMSE is:  3.1454137537448577\n"
     ]
    },
    {
     "data": {
      "application/vnd.jupyter.widget-view+json": {
       "model_id": "496b682f87f349dcbc547d995dbb8289",
       "version_major": 2,
       "version_minor": 0
      },
      "text/plain": [
       "Drawing 1000 posterior samples:   0%|          | 0/1000 [00:00<?, ?it/s]"
      ]
     },
     "metadata": {},
     "output_type": "display_data"
    },
    {
     "data": {
      "application/vnd.jupyter.widget-view+json": {
       "model_id": "c39868f572ef45f8ad4a918b1fd907bf",
       "version_major": 2,
       "version_minor": 0
      },
      "text/plain": [
       "Drawing 10000 posterior samples:   0%|          | 0/10000 [00:00<?, ?it/s]"
      ]
     },
     "metadata": {},
     "output_type": "display_data"
    },
    {
     "name": "stderr",
     "output_type": "stream",
     "text": [
      "WARNING:root:Only 0.780% proposal samples are\n",
      "                    accepted. It may take a long time to collect the remaining\n",
      "                    9922 samples. Consider interrupting (Ctrl-C) and switching to\n",
      "                    `build_posterior(..., sample_with='mcmc')`.\n"
     ]
    },
    {
     "name": "stdout",
     "output_type": "stream",
     "text": [
      "Min RMSE is:  3.746225223249066\n"
     ]
    },
    {
     "data": {
      "application/vnd.jupyter.widget-view+json": {
       "model_id": "dcd189824ad94883ab2fe4e0c3b963f1",
       "version_major": 2,
       "version_minor": 0
      },
      "text/plain": [
       "Drawing 1000 posterior samples:   0%|          | 0/1000 [00:00<?, ?it/s]"
      ]
     },
     "metadata": {},
     "output_type": "display_data"
    },
    {
     "name": "stderr",
     "output_type": "stream",
     "text": [
      "WARNING:root:Only 0.855% proposal samples are\n",
      "                    accepted. It may take a long time to collect the remaining\n",
      "                    906 samples. Consider interrupting (Ctrl-C) and switching to\n",
      "                    `build_posterior(..., sample_with='mcmc')`.\n"
     ]
    },
    {
     "data": {
      "application/vnd.jupyter.widget-view+json": {
       "model_id": "7b4cd39ee27f48bca39989c93494a93e",
       "version_major": 2,
       "version_minor": 0
      },
      "text/plain": [
       "Drawing 10000 posterior samples:   0%|          | 0/10000 [00:00<?, ?it/s]"
      ]
     },
     "metadata": {},
     "output_type": "display_data"
    },
    {
     "name": "stdout",
     "output_type": "stream",
     "text": [
      "Min RMSE is:  2.594455129422203\n"
     ]
    },
    {
     "data": {
      "application/vnd.jupyter.widget-view+json": {
       "model_id": "41ddba1bf10446fcb78ac7875178a7bb",
       "version_major": 2,
       "version_minor": 0
      },
      "text/plain": [
       "Drawing 1000 posterior samples:   0%|          | 0/1000 [00:00<?, ?it/s]"
      ]
     },
     "metadata": {},
     "output_type": "display_data"
    }
   ],
   "source": [
    "# On Step Samples\n",
    "valid_prior_samples = torch.cat([prior_samples_step[:1], prior_samples_step[2:]])\n",
    "valid_app_res_samples = torch.cat([torch.tensor(app_res_samples_step)[:1], torch.tensor(app_res_samples_step)[2:]])\n",
    "\n",
    "rmse_info_ind_step_on_step = []\n",
    "for sample, ar_sample in zip(valid_prior_samples, valid_app_res_samples):\n",
    "    (min_rmse_ar, min_rmse_res, mean_res, mean_ar, avg_rmse_param, avg_rmse_obs, map, map_app_res, map_rmse_res,\n",
    "     map_rmse_app_res) = compute_avg_rmse_and_map_rsme_from_ind_step_posterior_sammples(sample, ar_sample)\n",
    "    rmse_info_ind_step_on_step.append((min_rmse_ar, min_rmse_res, mean_res, mean_ar, avg_rmse_param, avg_rmse_obs, map,\n",
    "                                       map_app_res, map_rmse_res, map_rmse_app_res))"
   ]
  },
  {
   "cell_type": "code",
   "execution_count": 17,
   "id": "26e8a282-5460-4fc4-9a62-bf7191366095",
   "metadata": {},
   "outputs": [
    {
     "name": "stdout",
     "output_type": "stream",
     "text": [
      "min_rsme_values_res 8.450122140688055\n",
      "min_rsme_values_app_res 223.77444\n"
     ]
    }
   ],
   "source": [
    "min_rsme_values_res = [item[0] for item in rmse_info_ind_step_on_step]\n",
    "min_rsme_values_app_res = [item[1] for item in rmse_info_ind_step_on_step]\n",
    "print(\"min_rsme_values_res\", np.average(min_rsme_values_res))\n",
    "print(\"min_rsme_values_app_res\", np.average(min_rsme_values_app_res))"
   ]
  },
  {
   "cell_type": "code",
   "execution_count": 14,
   "id": "55b13e2a-17a2-408d-9cd3-afe0286ae40d",
   "metadata": {
    "scrolled": true
   },
   "outputs": [
    {
     "data": {
      "application/vnd.jupyter.widget-view+json": {
       "model_id": "d215218370f740979f87145f7294b998",
       "version_major": 2,
       "version_minor": 0
      },
      "text/plain": [
       "Drawing 2000 posterior samples:   0%|          | 0/2000 [00:00<?, ?it/s]"
      ]
     },
     "metadata": {},
     "output_type": "display_data"
    },
    {
     "name": "stderr",
     "output_type": "stream",
     "text": [
      "WARNING:root:Only 0.700% proposal samples are\n",
      "                    accepted. It may take a long time to collect the remaining\n",
      "                    1986 samples. Consider interrupting (Ctrl-C) and switching to\n",
      "                    `build_posterior(..., sample_with='mcmc')`.\n"
     ]
    },
    {
     "name": "stdout",
     "output_type": "stream",
     "text": [
      "Min RMSE is:  29.408758442821153\n"
     ]
    },
    {
     "data": {
      "application/vnd.jupyter.widget-view+json": {
       "model_id": "a6f0100aec3947ba9837548105e8fd63",
       "version_major": 2,
       "version_minor": 0
      },
      "text/plain": [
       "Drawing 1000 posterior samples:   0%|          | 0/1000 [00:00<?, ?it/s]"
      ]
     },
     "metadata": {},
     "output_type": "display_data"
    },
    {
     "name": "stderr",
     "output_type": "stream",
     "text": [
      "WARNING:root:Only 0.218% proposal samples are\n",
      "                    accepted. It may take a long time to collect the remaining\n",
      "                    976 samples. Consider interrupting (Ctrl-C) and switching to\n",
      "                    `build_posterior(..., sample_with='mcmc')`.\n"
     ]
    },
    {
     "data": {
      "application/vnd.jupyter.widget-view+json": {
       "model_id": "d0af565413974622a27ffedd68dd7cc7",
       "version_major": 2,
       "version_minor": 0
      },
      "text/plain": [
       "Drawing 2000 posterior samples:   0%|          | 0/2000 [00:00<?, ?it/s]"
      ]
     },
     "metadata": {},
     "output_type": "display_data"
    },
    {
     "name": "stdout",
     "output_type": "stream",
     "text": [
      "Min RMSE is:  3.6236240471669303\n"
     ]
    },
    {
     "data": {
      "application/vnd.jupyter.widget-view+json": {
       "model_id": "ea4f0fb0ecbf43b6897ef61dba1aaf33",
       "version_major": 2,
       "version_minor": 0
      },
      "text/plain": [
       "Drawing 1000 posterior samples:   0%|          | 0/1000 [00:00<?, ?it/s]"
      ]
     },
     "metadata": {},
     "output_type": "display_data"
    },
    {
     "data": {
      "application/vnd.jupyter.widget-view+json": {
       "model_id": "c8803aa43f9d4dd38c2d90f194094d95",
       "version_major": 2,
       "version_minor": 0
      },
      "text/plain": [
       "Drawing 2000 posterior samples:   0%|          | 0/2000 [00:00<?, ?it/s]"
      ]
     },
     "metadata": {},
     "output_type": "display_data"
    },
    {
     "name": "stdout",
     "output_type": "stream",
     "text": [
      "Min RMSE is:  7.383151271026054\n"
     ]
    },
    {
     "data": {
      "application/vnd.jupyter.widget-view+json": {
       "model_id": "1f023e294b924766bb3b178cc016a310",
       "version_major": 2,
       "version_minor": 0
      },
      "text/plain": [
       "Drawing 1000 posterior samples:   0%|          | 0/1000 [00:00<?, ?it/s]"
      ]
     },
     "metadata": {},
     "output_type": "display_data"
    },
    {
     "data": {
      "application/vnd.jupyter.widget-view+json": {
       "model_id": "fad4b629d9cd4d13b14d100b6d188e0c",
       "version_major": 2,
       "version_minor": 0
      },
      "text/plain": [
       "Drawing 2000 posterior samples:   0%|          | 0/2000 [00:00<?, ?it/s]"
      ]
     },
     "metadata": {},
     "output_type": "display_data"
    },
    {
     "name": "stdout",
     "output_type": "stream",
     "text": [
      "Min RMSE is:  2.8745755542828744\n"
     ]
    },
    {
     "data": {
      "application/vnd.jupyter.widget-view+json": {
       "model_id": "4ed60efffc5c4f35b86eb07cca6d1851",
       "version_major": 2,
       "version_minor": 0
      },
      "text/plain": [
       "Drawing 1000 posterior samples:   0%|          | 0/1000 [00:00<?, ?it/s]"
      ]
     },
     "metadata": {},
     "output_type": "display_data"
    },
    {
     "data": {
      "application/vnd.jupyter.widget-view+json": {
       "model_id": "094f6b3841da4d0bbe1421354b563af2",
       "version_major": 2,
       "version_minor": 0
      },
      "text/plain": [
       "Drawing 2000 posterior samples:   0%|          | 0/2000 [00:00<?, ?it/s]"
      ]
     },
     "metadata": {},
     "output_type": "display_data"
    },
    {
     "name": "stdout",
     "output_type": "stream",
     "text": [
      "Min RMSE is:  3.5139689119320208\n"
     ]
    },
    {
     "data": {
      "application/vnd.jupyter.widget-view+json": {
       "model_id": "894144ecd2ed48158fd981340f243938",
       "version_major": 2,
       "version_minor": 0
      },
      "text/plain": [
       "Drawing 1000 posterior samples:   0%|          | 0/1000 [00:00<?, ?it/s]"
      ]
     },
     "metadata": {},
     "output_type": "display_data"
    },
    {
     "data": {
      "application/vnd.jupyter.widget-view+json": {
       "model_id": "760acc1f932a43cea2074210a83b906d",
       "version_major": 2,
       "version_minor": 0
      },
      "text/plain": [
       "Drawing 2000 posterior samples:   0%|          | 0/2000 [00:00<?, ?it/s]"
      ]
     },
     "metadata": {},
     "output_type": "display_data"
    },
    {
     "name": "stderr",
     "output_type": "stream",
     "text": [
      "WARNING:root:Only 0.100% proposal samples are\n",
      "                    accepted. It may take a long time to collect the remaining\n",
      "                    1998 samples. Consider interrupting (Ctrl-C) and switching to\n",
      "                    `build_posterior(..., sample_with='mcmc')`.\n"
     ]
    },
    {
     "name": "stdout",
     "output_type": "stream",
     "text": [
      "Min RMSE is:  19.585607281698245\n"
     ]
    },
    {
     "data": {
      "application/vnd.jupyter.widget-view+json": {
       "model_id": "a0b1888dd90d4d788be5af03fe40f770",
       "version_major": 2,
       "version_minor": 0
      },
      "text/plain": [
       "Drawing 1000 posterior samples:   0%|          | 0/1000 [00:00<?, ?it/s]"
      ]
     },
     "metadata": {},
     "output_type": "display_data"
    },
    {
     "name": "stderr",
     "output_type": "stream",
     "text": [
      "WARNING:root:Only 0.073% proposal samples are\n",
      "                    accepted. It may take a long time to collect the remaining\n",
      "                    992 samples. Consider interrupting (Ctrl-C) and switching to\n",
      "                    `build_posterior(..., sample_with='mcmc')`.\n"
     ]
    },
    {
     "data": {
      "application/vnd.jupyter.widget-view+json": {
       "model_id": "72a9236182d740009d1bcb341bb4bebd",
       "version_major": 2,
       "version_minor": 0
      },
      "text/plain": [
       "Drawing 2000 posterior samples:   0%|          | 0/2000 [00:00<?, ?it/s]"
      ]
     },
     "metadata": {},
     "output_type": "display_data"
    },
    {
     "name": "stderr",
     "output_type": "stream",
     "text": [
      "WARNING:root:Only 0.300% proposal samples are\n",
      "                    accepted. It may take a long time to collect the remaining\n",
      "                    1994 samples. Consider interrupting (Ctrl-C) and switching to\n",
      "                    `build_posterior(..., sample_with='mcmc')`.\n"
     ]
    },
    {
     "name": "stdout",
     "output_type": "stream",
     "text": [
      "Min RMSE is:  4.023008024981194\n"
     ]
    },
    {
     "data": {
      "application/vnd.jupyter.widget-view+json": {
       "model_id": "f0375b91f3c840bdb02bdbbb92a1e48e",
       "version_major": 2,
       "version_minor": 0
      },
      "text/plain": [
       "Drawing 1000 posterior samples:   0%|          | 0/1000 [00:00<?, ?it/s]"
      ]
     },
     "metadata": {},
     "output_type": "display_data"
    },
    {
     "name": "stderr",
     "output_type": "stream",
     "text": [
      "WARNING:root:Only 0.345% proposal samples are\n",
      "                    accepted. It may take a long time to collect the remaining\n",
      "                    962 samples. Consider interrupting (Ctrl-C) and switching to\n",
      "                    `build_posterior(..., sample_with='mcmc')`.\n"
     ]
    },
    {
     "data": {
      "application/vnd.jupyter.widget-view+json": {
       "model_id": "904b2759e0354b4a981660847149bc9d",
       "version_major": 2,
       "version_minor": 0
      },
      "text/plain": [
       "Drawing 2000 posterior samples:   0%|          | 0/2000 [00:00<?, ?it/s]"
      ]
     },
     "metadata": {},
     "output_type": "display_data"
    },
    {
     "name": "stdout",
     "output_type": "stream",
     "text": [
      "Min RMSE is:  2.98018646220598\n"
     ]
    },
    {
     "data": {
      "application/vnd.jupyter.widget-view+json": {
       "model_id": "b1992f1647f3400b8ccb7d41f1dc8e96",
       "version_major": 2,
       "version_minor": 0
      },
      "text/plain": [
       "Drawing 1000 posterior samples:   0%|          | 0/1000 [00:00<?, ?it/s]"
      ]
     },
     "metadata": {},
     "output_type": "display_data"
    },
    {
     "data": {
      "application/vnd.jupyter.widget-view+json": {
       "model_id": "1e4e0bd75a734acaad0250c7a0456e2b",
       "version_major": 2,
       "version_minor": 0
      },
      "text/plain": [
       "Drawing 2000 posterior samples:   0%|          | 0/2000 [00:00<?, ?it/s]"
      ]
     },
     "metadata": {},
     "output_type": "display_data"
    },
    {
     "name": "stdout",
     "output_type": "stream",
     "text": [
      "Min RMSE is:  3.667742017140337\n"
     ]
    },
    {
     "data": {
      "application/vnd.jupyter.widget-view+json": {
       "model_id": "2dbfff3369a941d08660edb00716e9bc",
       "version_major": 2,
       "version_minor": 0
      },
      "text/plain": [
       "Drawing 1000 posterior samples:   0%|          | 0/1000 [00:00<?, ?it/s]"
      ]
     },
     "metadata": {},
     "output_type": "display_data"
    },
    {
     "data": {
      "application/vnd.jupyter.widget-view+json": {
       "model_id": "bdde0a45d0454435b6b9eaa59923a48f",
       "version_major": 2,
       "version_minor": 0
      },
      "text/plain": [
       "Drawing 2000 posterior samples:   0%|          | 0/2000 [00:00<?, ?it/s]"
      ]
     },
     "metadata": {},
     "output_type": "display_data"
    },
    {
     "name": "stdout",
     "output_type": "stream",
     "text": [
      "Min RMSE is:  2.7576516248165595\n"
     ]
    },
    {
     "data": {
      "application/vnd.jupyter.widget-view+json": {
       "model_id": "ef23ffc981c845b883a832506a0969d8",
       "version_major": 2,
       "version_minor": 0
      },
      "text/plain": [
       "Drawing 1000 posterior samples:   0%|          | 0/1000 [00:00<?, ?it/s]"
      ]
     },
     "metadata": {},
     "output_type": "display_data"
    }
   ],
   "source": [
    "# On Poly Samples\n",
    "\n",
    "rmse_info_ind_step_on_poly = []\n",
    "for sample, ar_sample in zip(prior_samples_poly, app_res_samples_poly):\n",
    "    res_sample = polynomial.coefficients_to_resistivity(sample)\n",
    "\n",
    "    (min_rmse_ar, min_rmse_res, mean_res, mean_ar, avg_rmse_param, avg_rmse_obs, map, map_app_res, map_rmse_res,\n",
    "     map_rmse_app_res) = compute_avg_rmse_and_map_rsme_from_ind_step_posterior_sammples(res_sample, ar_sample)\n",
    "    rmse_info_ind_step_on_poly.append((min_rmse_ar, min_rmse_res, mean_res, mean_ar, avg_rmse_param, avg_rmse_obs, map,\n",
    "                                       map_app_res, map_rmse_res, map_rmse_app_res))\n",
    "\n"
   ]
  },
  {
   "cell_type": "code",
   "execution_count": 15,
   "id": "81a69043-bc82-4c49-b57c-bd2d7a9d8196",
   "metadata": {},
   "outputs": [
    {
     "name": "stdout",
     "output_type": "stream",
     "text": [
      "min_rsme_values_res 7.981827363807135\n",
      "min_rsme_values_app_res 272.08384924798116\n"
     ]
    }
   ],
   "source": [
    "min_rsme_values_res = [item[0] for item in rmse_info_ind_step_on_poly]\n",
    "min_rsme_values_app_res = [item[1] for item in rmse_info_ind_step_on_poly]\n",
    "print(\"min_rsme_values_res\", np.average(min_rsme_values_res))\n",
    "print(\"min_rsme_values_app_res\", np.average(min_rsme_values_app_res))"
   ]
  },
  {
   "cell_type": "code",
   "execution_count": 42,
   "id": "ce56eb0a-1321-4f7e-b6b6-3fb60e78a48d",
   "metadata": {
    "scrolled": true
   },
   "outputs": [
    {
     "data": {
      "application/vnd.jupyter.widget-view+json": {
       "model_id": "adf7990e7b6541f688916bb639c4d9d8",
       "version_major": 2,
       "version_minor": 0
      },
      "text/plain": [
       "Drawing 2000 posterior samples:   0%|          | 0/2000 [00:00<?, ?it/s]"
      ]
     },
     "metadata": {},
     "output_type": "display_data"
    },
    {
     "name": "stderr",
     "output_type": "stream",
     "text": [
      "WARNING:root:Only 0.700% proposal samples are\n",
      "                    accepted. It may take a long time to collect the remaining\n",
      "                    1986 samples. Consider interrupting (Ctrl-C) and switching to\n",
      "                    `build_posterior(..., sample_with='mcmc')`.\n"
     ]
    },
    {
     "name": "stdout",
     "output_type": "stream",
     "text": [
      "Min RMSE is:  9.70564613746275\n"
     ]
    },
    {
     "data": {
      "application/vnd.jupyter.widget-view+json": {
       "model_id": "94514dcc8fc149418fa91fd7828e767a",
       "version_major": 2,
       "version_minor": 0
      },
      "text/plain": [
       "Drawing 1000 posterior samples:   0%|          | 0/1000 [00:00<?, ?it/s]"
      ]
     },
     "metadata": {},
     "output_type": "display_data"
    },
    {
     "name": "stderr",
     "output_type": "stream",
     "text": [
      "WARNING:root:Only 0.855% proposal samples are\n",
      "                    accepted. It may take a long time to collect the remaining\n",
      "                    906 samples. Consider interrupting (Ctrl-C) and switching to\n",
      "                    `build_posterior(..., sample_with='mcmc')`.\n"
     ]
    },
    {
     "data": {
      "application/vnd.jupyter.widget-view+json": {
       "model_id": "3b1a6b6764594814b2c6012efc5deda3",
       "version_major": 2,
       "version_minor": 0
      },
      "text/plain": [
       "Drawing 2000 posterior samples:   0%|          | 0/2000 [00:00<?, ?it/s]"
      ]
     },
     "metadata": {},
     "output_type": "display_data"
    },
    {
     "name": "stdout",
     "output_type": "stream",
     "text": [
      "Min RMSE is:  3.0904364593795957\n"
     ]
    },
    {
     "data": {
      "application/vnd.jupyter.widget-view+json": {
       "model_id": "6294dd8bb8e84fe99553ba197eb3ec09",
       "version_major": 2,
       "version_minor": 0
      },
      "text/plain": [
       "Drawing 1000 posterior samples:   0%|          | 0/1000 [00:00<?, ?it/s]"
      ]
     },
     "metadata": {},
     "output_type": "display_data"
    },
    {
     "data": {
      "application/vnd.jupyter.widget-view+json": {
       "model_id": "72d6ab75567646dab7792648905c4658",
       "version_major": 2,
       "version_minor": 0
      },
      "text/plain": [
       "Drawing 2000 posterior samples:   0%|          | 0/2000 [00:00<?, ?it/s]"
      ]
     },
     "metadata": {},
     "output_type": "display_data"
    },
    {
     "name": "stderr",
     "output_type": "stream",
     "text": [
      "WARNING:root:Only 0.650% proposal samples are\n",
      "                    accepted. It may take a long time to collect the remaining\n",
      "                    1987 samples. Consider interrupting (Ctrl-C) and switching to\n",
      "                    `build_posterior(..., sample_with='mcmc')`.\n"
     ]
    },
    {
     "name": "stdout",
     "output_type": "stream",
     "text": [
      "Min RMSE is:  6.118993550896161\n"
     ]
    },
    {
     "data": {
      "application/vnd.jupyter.widget-view+json": {
       "model_id": "12736bc569d34a27aab3c80f8c198610",
       "version_major": 2,
       "version_minor": 0
      },
      "text/plain": [
       "Drawing 1000 posterior samples:   0%|          | 0/1000 [00:00<?, ?it/s]"
      ]
     },
     "metadata": {},
     "output_type": "display_data"
    },
    {
     "name": "stderr",
     "output_type": "stream",
     "text": [
      "WARNING:root:Only 0.718% proposal samples are\n",
      "                    accepted. It may take a long time to collect the remaining\n",
      "                    921 samples. Consider interrupting (Ctrl-C) and switching to\n",
      "                    `build_posterior(..., sample_with='mcmc')`.\n"
     ]
    },
    {
     "data": {
      "application/vnd.jupyter.widget-view+json": {
       "model_id": "9a557ed2ed4e446b8471a2e94e979d05",
       "version_major": 2,
       "version_minor": 0
      },
      "text/plain": [
       "Drawing 2000 posterior samples:   0%|          | 0/2000 [00:00<?, ?it/s]"
      ]
     },
     "metadata": {},
     "output_type": "display_data"
    },
    {
     "name": "stderr",
     "output_type": "stream",
     "text": [
      "WARNING:root:Only 0.050% proposal samples are\n",
      "                    accepted. It may take a long time to collect the remaining\n",
      "                    1999 samples. Consider interrupting (Ctrl-C) and switching to\n",
      "                    `build_posterior(..., sample_with='mcmc')`.\n"
     ]
    },
    {
     "name": "stdout",
     "output_type": "stream",
     "text": [
      "Min RMSE is:  14.10201839923027\n"
     ]
    },
    {
     "data": {
      "application/vnd.jupyter.widget-view+json": {
       "model_id": "97238872dac44f36a8c069db57d1ec11",
       "version_major": 2,
       "version_minor": 0
      },
      "text/plain": [
       "Drawing 1000 posterior samples:   0%|          | 0/1000 [00:00<?, ?it/s]"
      ]
     },
     "metadata": {},
     "output_type": "display_data"
    },
    {
     "name": "stderr",
     "output_type": "stream",
     "text": [
      "WARNING:root:Only 0.318% proposal samples are\n",
      "                    accepted. It may take a long time to collect the remaining\n",
      "                    965 samples. Consider interrupting (Ctrl-C) and switching to\n",
      "                    `build_posterior(..., sample_with='mcmc')`.\n"
     ]
    },
    {
     "data": {
      "application/vnd.jupyter.widget-view+json": {
       "model_id": "cb743e0fbc684d4ab154e02ad163934e",
       "version_major": 2,
       "version_minor": 0
      },
      "text/plain": [
       "Drawing 2000 posterior samples:   0%|          | 0/2000 [00:00<?, ?it/s]"
      ]
     },
     "metadata": {},
     "output_type": "display_data"
    },
    {
     "name": "stderr",
     "output_type": "stream",
     "text": [
      "WARNING:root:Only 0.600% proposal samples are\n",
      "                    accepted. It may take a long time to collect the remaining\n",
      "                    1988 samples. Consider interrupting (Ctrl-C) and switching to\n",
      "                    `build_posterior(..., sample_with='mcmc')`.\n"
     ]
    },
    {
     "name": "stdout",
     "output_type": "stream",
     "text": [
      "Min RMSE is:  4.715699514155946\n"
     ]
    },
    {
     "data": {
      "application/vnd.jupyter.widget-view+json": {
       "model_id": "dab856b2f60b4b88bb06eab1178fafd4",
       "version_major": 2,
       "version_minor": 0
      },
      "text/plain": [
       "Drawing 1000 posterior samples:   0%|          | 0/1000 [00:00<?, ?it/s]"
      ]
     },
     "metadata": {},
     "output_type": "display_data"
    },
    {
     "name": "stderr",
     "output_type": "stream",
     "text": [
      "WARNING:root:Only 0.491% proposal samples are\n",
      "                    accepted. It may take a long time to collect the remaining\n",
      "                    946 samples. Consider interrupting (Ctrl-C) and switching to\n",
      "                    `build_posterior(..., sample_with='mcmc')`.\n"
     ]
    },
    {
     "data": {
      "application/vnd.jupyter.widget-view+json": {
       "model_id": "2628296df1804f2bb5d183ce486ef4ea",
       "version_major": 2,
       "version_minor": 0
      },
      "text/plain": [
       "Drawing 2000 posterior samples:   0%|          | 0/2000 [00:00<?, ?it/s]"
      ]
     },
     "metadata": {},
     "output_type": "display_data"
    },
    {
     "name": "stdout",
     "output_type": "stream",
     "text": [
      "Min RMSE is:  3.1016290495305974\n"
     ]
    },
    {
     "data": {
      "application/vnd.jupyter.widget-view+json": {
       "model_id": "538a2ccf53f248f88f47e9b6208bf4ff",
       "version_major": 2,
       "version_minor": 0
      },
      "text/plain": [
       "Drawing 1000 posterior samples:   0%|          | 0/1000 [00:00<?, ?it/s]"
      ]
     },
     "metadata": {},
     "output_type": "display_data"
    },
    {
     "data": {
      "application/vnd.jupyter.widget-view+json": {
       "model_id": "95c0b9c41b8c434aa96ba23859b7546d",
       "version_major": 2,
       "version_minor": 0
      },
      "text/plain": [
       "Drawing 2000 posterior samples:   0%|          | 0/2000 [00:00<?, ?it/s]"
      ]
     },
     "metadata": {},
     "output_type": "display_data"
    },
    {
     "name": "stdout",
     "output_type": "stream",
     "text": [
      "Min RMSE is:  3.448198944311309\n"
     ]
    },
    {
     "data": {
      "application/vnd.jupyter.widget-view+json": {
       "model_id": "5fd415b8280540f5ba91306bd1d92c01",
       "version_major": 2,
       "version_minor": 0
      },
      "text/plain": [
       "Drawing 1000 posterior samples:   0%|          | 0/1000 [00:00<?, ?it/s]"
      ]
     },
     "metadata": {},
     "output_type": "display_data"
    }
   ],
   "source": [
    "# On Block Samples\n",
    "valid_prior_samples = torch.cat([prior_samples_block[1:2], prior_samples_block[3:8], prior_samples_block[9:]])\n",
    "valid_app_res_samples = torch.cat([torch.tensor(app_res_samples_block)[1:2], torch.tensor(app_res_samples_block)[3:8],\n",
    "                                   torch.tensor(app_res_samples_block[9:])])\n",
    "\n",
    "rmse_info_ind_step_on_block = []\n",
    "for sample, ar_sample in zip(valid_prior_samples, valid_app_res_samples):\n",
    "    res_sample = block_sample_to_resistivity(sample)\n",
    "    (min_rmse_ar, min_rmse_res, mean_res, mean_ar, avg_rmse_param, avg_rmse_obs, map, map_app_res, map_rmse_res,\n",
    "     map_rmse_app_res) = compute_avg_rmse_and_map_rsme_from_ind_step_posterior_sammples(res_sample, ar_sample)\n",
    "    rmse_info_ind_step_on_block.append((min_rmse_ar, min_rmse_res, mean_res, mean_ar, avg_rmse_param, avg_rmse_obs, map,\n",
    "                                        map_app_res, map_rmse_res, map_rmse_app_res))"
   ]
  },
  {
   "cell_type": "code",
   "execution_count": 43,
   "id": "7fddc24c-e251-46d2-a549-da72d6f0c9e9",
   "metadata": {},
   "outputs": [
    {
     "name": "stdout",
     "output_type": "stream",
     "text": [
      "min_rsme_values_res 6.326088864995233\n",
      "min_rsme_values_app_res 286.38997998893234\n"
     ]
    }
   ],
   "source": [
    "min_rsme_values_res = [item[0] for item in rmse_info_ind_step_on_block]\n",
    "min_rsme_values_app_res = [item[1] for item in rmse_info_ind_step_on_block]\n",
    "print(\"min_rsme_values_res\", np.average(min_rsme_values_res))\n",
    "print(\"min_rsme_values_app_res\", np.average(min_rsme_values_app_res))"
   ]
  },
  {
   "cell_type": "code",
   "execution_count": 29,
   "id": "da47ff54-3213-48a7-b248-e60f573be1b4",
   "metadata": {
    "scrolled": true
   },
   "outputs": [
    {
     "data": {
      "application/vnd.jupyter.widget-view+json": {
       "model_id": "58345f4a18da4a8da70ef6e2123ddf9d",
       "version_major": 2,
       "version_minor": 0
      },
      "text/plain": [
       "Drawing 2000 posterior samples:   0%|          | 0/2000 [00:00<?, ?it/s]"
      ]
     },
     "metadata": {},
     "output_type": "display_data"
    },
    {
     "name": "stdout",
     "output_type": "stream",
     "text": [
      "Min RMSE is:  2.9024632049080994\n"
     ]
    },
    {
     "data": {
      "application/vnd.jupyter.widget-view+json": {
       "model_id": "9779d5b1c9034731be7dae494ac5c170",
       "version_major": 2,
       "version_minor": 0
      },
      "text/plain": [
       "Drawing 1000 posterior samples:   0%|          | 0/1000 [00:00<?, ?it/s]"
      ]
     },
     "metadata": {},
     "output_type": "display_data"
    },
    {
     "data": {
      "application/vnd.jupyter.widget-view+json": {
       "model_id": "5d5baa1759e3428eac1ec698192e02c7",
       "version_major": 2,
       "version_minor": 0
      },
      "text/plain": [
       "Drawing 2000 posterior samples:   0%|          | 0/2000 [00:00<?, ?it/s]"
      ]
     },
     "metadata": {},
     "output_type": "display_data"
    },
    {
     "name": "stdout",
     "output_type": "stream",
     "text": [
      "Min RMSE is:  2.667670029501797\n"
     ]
    },
    {
     "data": {
      "application/vnd.jupyter.widget-view+json": {
       "model_id": "c69f76ee05c94ee38183d1dc41005dd4",
       "version_major": 2,
       "version_minor": 0
      },
      "text/plain": [
       "Drawing 1000 posterior samples:   0%|          | 0/1000 [00:00<?, ?it/s]"
      ]
     },
     "metadata": {},
     "output_type": "display_data"
    },
    {
     "data": {
      "application/vnd.jupyter.widget-view+json": {
       "model_id": "97b3b18abb6c44d88e18618486074d14",
       "version_major": 2,
       "version_minor": 0
      },
      "text/plain": [
       "Drawing 2000 posterior samples:   0%|          | 0/2000 [00:00<?, ?it/s]"
      ]
     },
     "metadata": {},
     "output_type": "display_data"
    },
    {
     "name": "stdout",
     "output_type": "stream",
     "text": [
      "Min RMSE is:  3.945683614966707\n"
     ]
    },
    {
     "data": {
      "application/vnd.jupyter.widget-view+json": {
       "model_id": "10359266b6c94096a6a022a58e8f8e10",
       "version_major": 2,
       "version_minor": 0
      },
      "text/plain": [
       "Drawing 1000 posterior samples:   0%|          | 0/1000 [00:00<?, ?it/s]"
      ]
     },
     "metadata": {},
     "output_type": "display_data"
    },
    {
     "data": {
      "application/vnd.jupyter.widget-view+json": {
       "model_id": "b5042be1350849a5bbac9f175659de41",
       "version_major": 2,
       "version_minor": 0
      },
      "text/plain": [
       "Drawing 2000 posterior samples:   0%|          | 0/2000 [00:00<?, ?it/s]"
      ]
     },
     "metadata": {},
     "output_type": "display_data"
    },
    {
     "name": "stdout",
     "output_type": "stream",
     "text": [
      "Min RMSE is:  2.7216716047674954\n"
     ]
    },
    {
     "data": {
      "application/vnd.jupyter.widget-view+json": {
       "model_id": "1141758f0c304158bcc750ca28fdfb05",
       "version_major": 2,
       "version_minor": 0
      },
      "text/plain": [
       "Drawing 1000 posterior samples:   0%|          | 0/1000 [00:00<?, ?it/s]"
      ]
     },
     "metadata": {},
     "output_type": "display_data"
    },
    {
     "data": {
      "application/vnd.jupyter.widget-view+json": {
       "model_id": "08d3aafc0dc6480991ab42333259a70b",
       "version_major": 2,
       "version_minor": 0
      },
      "text/plain": [
       "Drawing 2000 posterior samples:   0%|          | 0/2000 [00:00<?, ?it/s]"
      ]
     },
     "metadata": {},
     "output_type": "display_data"
    },
    {
     "name": "stdout",
     "output_type": "stream",
     "text": [
      "Min RMSE is:  2.9741286071990025\n"
     ]
    },
    {
     "data": {
      "application/vnd.jupyter.widget-view+json": {
       "model_id": "72f5f4abce4f45909784ce3293be268d",
       "version_major": 2,
       "version_minor": 0
      },
      "text/plain": [
       "Drawing 1000 posterior samples:   0%|          | 0/1000 [00:00<?, ?it/s]"
      ]
     },
     "metadata": {},
     "output_type": "display_data"
    },
    {
     "data": {
      "application/vnd.jupyter.widget-view+json": {
       "model_id": "9c8a9bb29be1442bb84b133266c43b38",
       "version_major": 2,
       "version_minor": 0
      },
      "text/plain": [
       "Drawing 2000 posterior samples:   0%|          | 0/2000 [00:00<?, ?it/s]"
      ]
     },
     "metadata": {},
     "output_type": "display_data"
    },
    {
     "name": "stdout",
     "output_type": "stream",
     "text": [
      "Min RMSE is:  3.2909319730587185\n"
     ]
    },
    {
     "data": {
      "application/vnd.jupyter.widget-view+json": {
       "model_id": "c9ad58166b934b54b041c33c098f52ce",
       "version_major": 2,
       "version_minor": 0
      },
      "text/plain": [
       "Drawing 1000 posterior samples:   0%|          | 0/1000 [00:00<?, ?it/s]"
      ]
     },
     "metadata": {},
     "output_type": "display_data"
    },
    {
     "data": {
      "application/vnd.jupyter.widget-view+json": {
       "model_id": "bc332c37625a4eefb7e5b3a00a99a0bc",
       "version_major": 2,
       "version_minor": 0
      },
      "text/plain": [
       "Drawing 2000 posterior samples:   0%|          | 0/2000 [00:00<?, ?it/s]"
      ]
     },
     "metadata": {},
     "output_type": "display_data"
    },
    {
     "name": "stdout",
     "output_type": "stream",
     "text": [
      "Min RMSE is:  2.675721655905369\n"
     ]
    },
    {
     "data": {
      "application/vnd.jupyter.widget-view+json": {
       "model_id": "c8d8b290fcb44625ac3e1156ba0c06ca",
       "version_major": 2,
       "version_minor": 0
      },
      "text/plain": [
       "Drawing 1000 posterior samples:   0%|          | 0/1000 [00:00<?, ?it/s]"
      ]
     },
     "metadata": {},
     "output_type": "display_data"
    },
    {
     "data": {
      "application/vnd.jupyter.widget-view+json": {
       "model_id": "ce1bcf5238b04b458ef961d8241ae49f",
       "version_major": 2,
       "version_minor": 0
      },
      "text/plain": [
       "Drawing 2000 posterior samples:   0%|          | 0/2000 [00:00<?, ?it/s]"
      ]
     },
     "metadata": {},
     "output_type": "display_data"
    },
    {
     "name": "stderr",
     "output_type": "stream",
     "text": [
      "WARNING:root:Only 0.883% proposal samples are\n",
      "                    accepted. It may take a long time to collect the remaining\n",
      "                    1894 samples. Consider interrupting (Ctrl-C) and switching to\n",
      "                    `build_posterior(..., sample_with='mcmc')`.\n"
     ]
    },
    {
     "name": "stdout",
     "output_type": "stream",
     "text": [
      "Min RMSE is:  4.093343386574633\n"
     ]
    },
    {
     "data": {
      "application/vnd.jupyter.widget-view+json": {
       "model_id": "28c4894fbded43d2b75a444442e5a5f7",
       "version_major": 2,
       "version_minor": 0
      },
      "text/plain": [
       "Drawing 1000 posterior samples:   0%|          | 0/1000 [00:00<?, ?it/s]"
      ]
     },
     "metadata": {},
     "output_type": "display_data"
    },
    {
     "name": "stderr",
     "output_type": "stream",
     "text": [
      "WARNING:root:Only 0.983% proposal samples are\n",
      "                    accepted. It may take a long time to collect the remaining\n",
      "                    597 samples. Consider interrupting (Ctrl-C) and switching to\n",
      "                    `build_posterior(..., sample_with='mcmc')`.\n"
     ]
    },
    {
     "data": {
      "application/vnd.jupyter.widget-view+json": {
       "model_id": "e1194b69dd5244e2a50190e9b3a5ec09",
       "version_major": 2,
       "version_minor": 0
      },
      "text/plain": [
       "Drawing 2000 posterior samples:   0%|          | 0/2000 [00:00<?, ?it/s]"
      ]
     },
     "metadata": {},
     "output_type": "display_data"
    },
    {
     "name": "stdout",
     "output_type": "stream",
     "text": [
      "Min RMSE is:  2.6915365905785147\n"
     ]
    },
    {
     "data": {
      "application/vnd.jupyter.widget-view+json": {
       "model_id": "48272832c5614046816cceeedf01126c",
       "version_major": 2,
       "version_minor": 0
      },
      "text/plain": [
       "Drawing 1000 posterior samples:   0%|          | 0/1000 [00:00<?, ?it/s]"
      ]
     },
     "metadata": {},
     "output_type": "display_data"
    },
    {
     "data": {
      "application/vnd.jupyter.widget-view+json": {
       "model_id": "0de1ecf51a1d43d681996d2f01980e1a",
       "version_major": 2,
       "version_minor": 0
      },
      "text/plain": [
       "Drawing 2000 posterior samples:   0%|          | 0/2000 [00:00<?, ?it/s]"
      ]
     },
     "metadata": {},
     "output_type": "display_data"
    },
    {
     "name": "stdout",
     "output_type": "stream",
     "text": [
      "Min RMSE is:  3.9742653331027946\n"
     ]
    },
    {
     "data": {
      "application/vnd.jupyter.widget-view+json": {
       "model_id": "24c37581c12c45348478de1d8890aaf5",
       "version_major": 2,
       "version_minor": 0
      },
      "text/plain": [
       "Drawing 1000 posterior samples:   0%|          | 0/1000 [00:00<?, ?it/s]"
      ]
     },
     "metadata": {},
     "output_type": "display_data"
    }
   ],
   "source": [
    "# On Ind. Step Samples\n",
    "\n",
    "rmse_info_ind_step_ind_step = []\n",
    "for sample, ar_sample in zip(prior_samples_ind_step, app_res_samples_ind_step):\n",
    "    (min_rmse_ar, min_rmse_res, mean_res, mean_ar, avg_rmse_param, avg_rmse_obs, map, map_app_res, map_rmse_res,\n",
    "     map_rmse_app_res) = compute_avg_rmse_and_map_rsme_from_ind_step_posterior_sammples(sample, ar_sample)\n",
    "    rmse_info_ind_step_ind_step.append((min_rmse_ar, min_rmse_res, mean_res, mean_ar, avg_rmse_param, avg_rmse_obs, map,\n",
    "                                        map_app_res, map_rmse_res, map_rmse_app_res))"
   ]
  },
  {
   "cell_type": "code",
   "execution_count": 30,
   "id": "e08cd03a-45fe-445e-b509-29154b228d97",
   "metadata": {},
   "outputs": [
    {
     "name": "stdout",
     "output_type": "stream",
     "text": [
      "min_rsme_values_res 3.1937416000563132\n",
      "min_rsme_values_app_res 353.29193\n"
     ]
    }
   ],
   "source": [
    "min_rsme_values_res = [item[0] for item in rmse_info_ind_step_ind_step]\n",
    "min_rsme_values_app_res = [item[1] for item in rmse_info_ind_step_ind_step]\n",
    "print(\"min_rsme_values_res\", np.average(min_rsme_values_res))\n",
    "print(\"min_rsme_values_app_res\", np.average(min_rsme_values_app_res))"
   ]
  },
  {
   "cell_type": "code",
   "execution_count": null,
   "id": "f3d378d0-1fc5-4b93-b5a6-46bc77778235",
   "metadata": {},
   "outputs": [],
   "source": [
    "pickle_objects(\n",
    "    [rmse_info_ind_step_on_step, rmse_info_ind_step_on_poly, rmse_info_ind_step_on_block, rmse_info_ind_step_ind_step],\n",
    "    filename='data/error metrics/errors_ind_step_on_priors.pkl')"
   ]
  },
  {
   "cell_type": "markdown",
   "id": "e3877e79-fc79-4777-b425-95dcc8eb17f8",
   "metadata": {
    "jp-MarkdownHeadingCollapsed": true
   },
   "source": [
    "### Block model "
   ]
  },
  {
   "cell_type": "code",
   "execution_count": 43,
   "id": "cf647126-0c7c-4c5b-b64e-47240124e38f",
   "metadata": {
    "scrolled": true
   },
   "outputs": [
    {
     "data": {
      "application/vnd.jupyter.widget-view+json": {
       "model_id": "30d260d94f514f80b7f70361fb9fd5dc",
       "version_major": 2,
       "version_minor": 0
      },
      "text/plain": [
       "Drawing 10000 posterior samples:   0%|          | 0/10000 [00:00<?, ?it/s]"
      ]
     },
     "metadata": {},
     "output_type": "display_data"
    },
    {
     "name": "stdout",
     "output_type": "stream",
     "text": [
      "Min RMSE is:  2.9516167575715953\n"
     ]
    },
    {
     "data": {
      "application/vnd.jupyter.widget-view+json": {
       "model_id": "d5fa1846168247de889d46b1ba08b84b",
       "version_major": 2,
       "version_minor": 0
      },
      "text/plain": [
       "Drawing 1000 posterior samples:   0%|          | 0/1000 [00:00<?, ?it/s]"
      ]
     },
     "metadata": {},
     "output_type": "display_data"
    },
    {
     "data": {
      "application/vnd.jupyter.widget-view+json": {
       "model_id": "5f623c4207e64d0db54c7860d33f29d5",
       "version_major": 2,
       "version_minor": 0
      },
      "text/plain": [
       "Drawing 10000 posterior samples:   0%|          | 0/10000 [00:00<?, ?it/s]"
      ]
     },
     "metadata": {},
     "output_type": "display_data"
    },
    {
     "name": "stdout",
     "output_type": "stream",
     "text": [
      "Min RMSE is:  6.603228813510669\n"
     ]
    },
    {
     "data": {
      "application/vnd.jupyter.widget-view+json": {
       "model_id": "f4ee0eeb530148e4ba0b7fea719a5acf",
       "version_major": 2,
       "version_minor": 0
      },
      "text/plain": [
       "Drawing 1000 posterior samples:   0%|          | 0/1000 [00:00<?, ?it/s]"
      ]
     },
     "metadata": {},
     "output_type": "display_data"
    },
    {
     "data": {
      "application/vnd.jupyter.widget-view+json": {
       "model_id": "f99f6ec5596741a3aea4c47cfe1454ec",
       "version_major": 2,
       "version_minor": 0
      },
      "text/plain": [
       "Drawing 10000 posterior samples:   0%|          | 0/10000 [00:00<?, ?it/s]"
      ]
     },
     "metadata": {},
     "output_type": "display_data"
    },
    {
     "name": "stdout",
     "output_type": "stream",
     "text": [
      "Min RMSE is:  2.7801253528894914\n"
     ]
    },
    {
     "data": {
      "application/vnd.jupyter.widget-view+json": {
       "model_id": "a388bde4c60d490e8cfa88ae7462b682",
       "version_major": 2,
       "version_minor": 0
      },
      "text/plain": [
       "Drawing 1000 posterior samples:   0%|          | 0/1000 [00:00<?, ?it/s]"
      ]
     },
     "metadata": {},
     "output_type": "display_data"
    },
    {
     "data": {
      "application/vnd.jupyter.widget-view+json": {
       "model_id": "6b681dacc4c6418bbf42033a429735cf",
       "version_major": 2,
       "version_minor": 0
      },
      "text/plain": [
       "Drawing 10000 posterior samples:   0%|          | 0/10000 [00:00<?, ?it/s]"
      ]
     },
     "metadata": {},
     "output_type": "display_data"
    },
    {
     "name": "stdout",
     "output_type": "stream",
     "text": [
      "Min RMSE is:  3.618397214001534\n"
     ]
    },
    {
     "data": {
      "application/vnd.jupyter.widget-view+json": {
       "model_id": "72fed20aec574a1ca8a5822be22e6642",
       "version_major": 2,
       "version_minor": 0
      },
      "text/plain": [
       "Drawing 1000 posterior samples:   0%|          | 0/1000 [00:00<?, ?it/s]"
      ]
     },
     "metadata": {},
     "output_type": "display_data"
    },
    {
     "data": {
      "application/vnd.jupyter.widget-view+json": {
       "model_id": "00f536badce74c2eb3de3f20e323a217",
       "version_major": 2,
       "version_minor": 0
      },
      "text/plain": [
       "Drawing 10000 posterior samples:   0%|          | 0/10000 [00:00<?, ?it/s]"
      ]
     },
     "metadata": {},
     "output_type": "display_data"
    },
    {
     "name": "stdout",
     "output_type": "stream",
     "text": [
      "Min RMSE is:  2.945507580881936\n"
     ]
    },
    {
     "data": {
      "application/vnd.jupyter.widget-view+json": {
       "model_id": "1587767c87854ea48ef937293f90ed07",
       "version_major": 2,
       "version_minor": 0
      },
      "text/plain": [
       "Drawing 1000 posterior samples:   0%|          | 0/1000 [00:00<?, ?it/s]"
      ]
     },
     "metadata": {},
     "output_type": "display_data"
    },
    {
     "data": {
      "application/vnd.jupyter.widget-view+json": {
       "model_id": "37246c76b20c44f2a6e6fe9c0687a59e",
       "version_major": 2,
       "version_minor": 0
      },
      "text/plain": [
       "Drawing 10000 posterior samples:   0%|          | 0/10000 [00:00<?, ?it/s]"
      ]
     },
     "metadata": {},
     "output_type": "display_data"
    },
    {
     "name": "stdout",
     "output_type": "stream",
     "text": [
      "Min RMSE is:  3.3719616490704705\n"
     ]
    },
    {
     "data": {
      "application/vnd.jupyter.widget-view+json": {
       "model_id": "10ccf7a63d8742e4a7bef9a40f24b2e2",
       "version_major": 2,
       "version_minor": 0
      },
      "text/plain": [
       "Drawing 1000 posterior samples:   0%|          | 0/1000 [00:00<?, ?it/s]"
      ]
     },
     "metadata": {},
     "output_type": "display_data"
    },
    {
     "data": {
      "application/vnd.jupyter.widget-view+json": {
       "model_id": "58889c2c8bc0469d85407a4724b09396",
       "version_major": 2,
       "version_minor": 0
      },
      "text/plain": [
       "Drawing 10000 posterior samples:   0%|          | 0/10000 [00:00<?, ?it/s]"
      ]
     },
     "metadata": {},
     "output_type": "display_data"
    },
    {
     "name": "stdout",
     "output_type": "stream",
     "text": [
      "Min RMSE is:  2.9252975459271875\n"
     ]
    },
    {
     "data": {
      "application/vnd.jupyter.widget-view+json": {
       "model_id": "6a67e02205f04a9cbc4286d6df868180",
       "version_major": 2,
       "version_minor": 0
      },
      "text/plain": [
       "Drawing 1000 posterior samples:   0%|          | 0/1000 [00:00<?, ?it/s]"
      ]
     },
     "metadata": {},
     "output_type": "display_data"
    },
    {
     "data": {
      "application/vnd.jupyter.widget-view+json": {
       "model_id": "41be1d0fd3a64ceca39cb1302eadd2d4",
       "version_major": 2,
       "version_minor": 0
      },
      "text/plain": [
       "Drawing 10000 posterior samples:   0%|          | 0/10000 [00:00<?, ?it/s]"
      ]
     },
     "metadata": {},
     "output_type": "display_data"
    },
    {
     "name": "stdout",
     "output_type": "stream",
     "text": [
      "Min RMSE is:  3.5265910354970234\n"
     ]
    },
    {
     "data": {
      "application/vnd.jupyter.widget-view+json": {
       "model_id": "3eb94704d0ef487f88f2c068ad298485",
       "version_major": 2,
       "version_minor": 0
      },
      "text/plain": [
       "Drawing 1000 posterior samples:   0%|          | 0/1000 [00:00<?, ?it/s]"
      ]
     },
     "metadata": {},
     "output_type": "display_data"
    },
    {
     "data": {
      "application/vnd.jupyter.widget-view+json": {
       "model_id": "06c789ebbb224e15955cb8ec2868d3d7",
       "version_major": 2,
       "version_minor": 0
      },
      "text/plain": [
       "Drawing 10000 posterior samples:   0%|          | 0/10000 [00:00<?, ?it/s]"
      ]
     },
     "metadata": {},
     "output_type": "display_data"
    },
    {
     "name": "stdout",
     "output_type": "stream",
     "text": [
      "Min RMSE is:  2.9167194608700315\n"
     ]
    },
    {
     "data": {
      "application/vnd.jupyter.widget-view+json": {
       "model_id": "4af6dd4b8f7c45dbb70f451b9797adaf",
       "version_major": 2,
       "version_minor": 0
      },
      "text/plain": [
       "Drawing 1000 posterior samples:   0%|          | 0/1000 [00:00<?, ?it/s]"
      ]
     },
     "metadata": {},
     "output_type": "display_data"
    },
    {
     "data": {
      "application/vnd.jupyter.widget-view+json": {
       "model_id": "af8ca76a78584cbcae7d0357adc6c3b0",
       "version_major": 2,
       "version_minor": 0
      },
      "text/plain": [
       "Drawing 10000 posterior samples:   0%|          | 0/10000 [00:00<?, ?it/s]"
      ]
     },
     "metadata": {},
     "output_type": "display_data"
    },
    {
     "name": "stdout",
     "output_type": "stream",
     "text": [
      "Min RMSE is:  5.969925061037695\n"
     ]
    },
    {
     "data": {
      "application/vnd.jupyter.widget-view+json": {
       "model_id": "2acc5760f25b4eedb49ce2bb26172201",
       "version_major": 2,
       "version_minor": 0
      },
      "text/plain": [
       "Drawing 1000 posterior samples:   0%|          | 0/1000 [00:00<?, ?it/s]"
      ]
     },
     "metadata": {},
     "output_type": "display_data"
    }
   ],
   "source": [
    "# On Step Samples\n",
    "rmse_info_block_on_step = []\n",
    "for sample, ar_sample in zip(prior_samples_step, app_res_samples_step):\n",
    "    (min_rmse_ar, min_rmse_res, mean_res, mean_ar, avg_rmse_param, avg_rmse_obs, map, map_app_res, map_rmse_res,\n",
    "     map_rmse_app_res) = compute_avg_rmse_and_map_rsme_from_block_posterior_sammples(sample, ar_sample)\n",
    "    rmse_info_block_on_step.append((min_rmse_ar, min_rmse_res, mean_res, mean_ar, avg_rmse_param, avg_rmse_obs, map,\n",
    "                                    map_app_res, map_rmse_res, map_rmse_app_res))"
   ]
  },
  {
   "cell_type": "code",
   "execution_count": 51,
   "id": "7d7acce7-3e38-43c8-bb45-5ccc4b14c311",
   "metadata": {},
   "outputs": [
    {
     "name": "stdout",
     "output_type": "stream",
     "text": [
      "min_rsme_values_res 3.7609370471257635\n",
      "min_rsme_values_app_res 89.01716894259746\n"
     ]
    }
   ],
   "source": [
    "min_rsme_values_res = [item[0] for item in rmse_info_block_on_step]\n",
    "min_rsme_values_app_res = [item[1] for item in rmse_info_block_on_step]\n",
    "print(\"min_rsme_values_res\", np.average(min_rsme_values_res))\n",
    "print(\"min_rsme_values_app_res\", np.average(min_rsme_values_app_res))"
   ]
  },
  {
   "cell_type": "code",
   "execution_count": 66,
   "id": "2edd47e6-a506-4050-8b01-ed7b1cfc1847",
   "metadata": {
    "scrolled": true
   },
   "outputs": [
    {
     "data": {
      "application/vnd.jupyter.widget-view+json": {
       "model_id": "252f8776c671469ba8abcf0009af69e8",
       "version_major": 2,
       "version_minor": 0
      },
      "text/plain": [
       "Drawing 10000 posterior samples:   0%|          | 0/10000 [00:00<?, ?it/s]"
      ]
     },
     "metadata": {},
     "output_type": "display_data"
    },
    {
     "name": "stdout",
     "output_type": "stream",
     "text": [
      "Min RMSE is:  3.2756799443464564\n"
     ]
    },
    {
     "data": {
      "application/vnd.jupyter.widget-view+json": {
       "model_id": "fc17a52b522f4b6d8a463f1ba79c0a3b",
       "version_major": 2,
       "version_minor": 0
      },
      "text/plain": [
       "Drawing 1000 posterior samples:   0%|          | 0/1000 [00:00<?, ?it/s]"
      ]
     },
     "metadata": {},
     "output_type": "display_data"
    },
    {
     "data": {
      "application/vnd.jupyter.widget-view+json": {
       "model_id": "e3e55244f89944849da423c65d9b16a4",
       "version_major": 2,
       "version_minor": 0
      },
      "text/plain": [
       "Drawing 10000 posterior samples:   0%|          | 0/10000 [00:00<?, ?it/s]"
      ]
     },
     "metadata": {},
     "output_type": "display_data"
    },
    {
     "name": "stdout",
     "output_type": "stream",
     "text": [
      "Min RMSE is:  4.423874470572068\n"
     ]
    },
    {
     "data": {
      "application/vnd.jupyter.widget-view+json": {
       "model_id": "3828658e100942cd98f06c8278266091",
       "version_major": 2,
       "version_minor": 0
      },
      "text/plain": [
       "Drawing 1000 posterior samples:   0%|          | 0/1000 [00:00<?, ?it/s]"
      ]
     },
     "metadata": {},
     "output_type": "display_data"
    },
    {
     "data": {
      "application/vnd.jupyter.widget-view+json": {
       "model_id": "d7a53b8cf42b40359fd62af4292409e8",
       "version_major": 2,
       "version_minor": 0
      },
      "text/plain": [
       "Drawing 10000 posterior samples:   0%|          | 0/10000 [00:00<?, ?it/s]"
      ]
     },
     "metadata": {},
     "output_type": "display_data"
    },
    {
     "name": "stdout",
     "output_type": "stream",
     "text": [
      "Min RMSE is:  2.9757639777322473\n"
     ]
    },
    {
     "data": {
      "application/vnd.jupyter.widget-view+json": {
       "model_id": "44f66a1fbe6c4d9888748a3f55777c6a",
       "version_major": 2,
       "version_minor": 0
      },
      "text/plain": [
       "Drawing 1000 posterior samples:   0%|          | 0/1000 [00:00<?, ?it/s]"
      ]
     },
     "metadata": {},
     "output_type": "display_data"
    },
    {
     "data": {
      "application/vnd.jupyter.widget-view+json": {
       "model_id": "d361a56520d4444897e5dc8d6a47b943",
       "version_major": 2,
       "version_minor": 0
      },
      "text/plain": [
       "Drawing 10000 posterior samples:   0%|          | 0/10000 [00:00<?, ?it/s]"
      ]
     },
     "metadata": {},
     "output_type": "display_data"
    },
    {
     "name": "stdout",
     "output_type": "stream",
     "text": [
      "Min RMSE is:  2.6191207422450535\n"
     ]
    },
    {
     "data": {
      "application/vnd.jupyter.widget-view+json": {
       "model_id": "f785558da1e1446f87efde20f6b7f436",
       "version_major": 2,
       "version_minor": 0
      },
      "text/plain": [
       "Drawing 1000 posterior samples:   0%|          | 0/1000 [00:00<?, ?it/s]"
      ]
     },
     "metadata": {},
     "output_type": "display_data"
    },
    {
     "data": {
      "application/vnd.jupyter.widget-view+json": {
       "model_id": "2b6c8d1badb248c6a583336ccda4736e",
       "version_major": 2,
       "version_minor": 0
      },
      "text/plain": [
       "Drawing 10000 posterior samples:   0%|          | 0/10000 [00:00<?, ?it/s]"
      ]
     },
     "metadata": {},
     "output_type": "display_data"
    },
    {
     "name": "stdout",
     "output_type": "stream",
     "text": [
      "Min RMSE is:  4.067948882022317\n"
     ]
    },
    {
     "data": {
      "application/vnd.jupyter.widget-view+json": {
       "model_id": "cb552b7a64c145da9ab96cc0b3ae3f33",
       "version_major": 2,
       "version_minor": 0
      },
      "text/plain": [
       "Drawing 1000 posterior samples:   0%|          | 0/1000 [00:00<?, ?it/s]"
      ]
     },
     "metadata": {},
     "output_type": "display_data"
    },
    {
     "data": {
      "application/vnd.jupyter.widget-view+json": {
       "model_id": "67f95f0bc41d464385d86b2aee0a5399",
       "version_major": 2,
       "version_minor": 0
      },
      "text/plain": [
       "Drawing 10000 posterior samples:   0%|          | 0/10000 [00:00<?, ?it/s]"
      ]
     },
     "metadata": {},
     "output_type": "display_data"
    },
    {
     "name": "stdout",
     "output_type": "stream",
     "text": [
      "Min RMSE is:  2.6985411157317967\n"
     ]
    },
    {
     "data": {
      "application/vnd.jupyter.widget-view+json": {
       "model_id": "87fab151decb4d2e952c653096c6be31",
       "version_major": 2,
       "version_minor": 0
      },
      "text/plain": [
       "Drawing 1000 posterior samples:   0%|          | 0/1000 [00:00<?, ?it/s]"
      ]
     },
     "metadata": {},
     "output_type": "display_data"
    },
    {
     "data": {
      "application/vnd.jupyter.widget-view+json": {
       "model_id": "1897987a00c1435ea9fc616527d80da7",
       "version_major": 2,
       "version_minor": 0
      },
      "text/plain": [
       "Drawing 10000 posterior samples:   0%|          | 0/10000 [00:00<?, ?it/s]"
      ]
     },
     "metadata": {},
     "output_type": "display_data"
    },
    {
     "name": "stdout",
     "output_type": "stream",
     "text": [
      "Min RMSE is:  3.969961942006819\n"
     ]
    },
    {
     "data": {
      "application/vnd.jupyter.widget-view+json": {
       "model_id": "175bbe4509484614a9e90de1043ba299",
       "version_major": 2,
       "version_minor": 0
      },
      "text/plain": [
       "Drawing 1000 posterior samples:   0%|          | 0/1000 [00:00<?, ?it/s]"
      ]
     },
     "metadata": {},
     "output_type": "display_data"
    },
    {
     "data": {
      "application/vnd.jupyter.widget-view+json": {
       "model_id": "9170fea32c444ee8b05af5c97fdd90c1",
       "version_major": 2,
       "version_minor": 0
      },
      "text/plain": [
       "Drawing 10000 posterior samples:   0%|          | 0/10000 [00:00<?, ?it/s]"
      ]
     },
     "metadata": {},
     "output_type": "display_data"
    },
    {
     "name": "stdout",
     "output_type": "stream",
     "text": [
      "Min RMSE is:  3.4781752786163658\n"
     ]
    },
    {
     "data": {
      "application/vnd.jupyter.widget-view+json": {
       "model_id": "a92337da60104f53a4b21ed2a2b7b02d",
       "version_major": 2,
       "version_minor": 0
      },
      "text/plain": [
       "Drawing 1000 posterior samples:   0%|          | 0/1000 [00:00<?, ?it/s]"
      ]
     },
     "metadata": {},
     "output_type": "display_data"
    },
    {
     "data": {
      "application/vnd.jupyter.widget-view+json": {
       "model_id": "8031c5a0d741484ea436045635988763",
       "version_major": 2,
       "version_minor": 0
      },
      "text/plain": [
       "Drawing 10000 posterior samples:   0%|          | 0/10000 [00:00<?, ?it/s]"
      ]
     },
     "metadata": {},
     "output_type": "display_data"
    },
    {
     "name": "stdout",
     "output_type": "stream",
     "text": [
      "Min RMSE is:  2.8556023302612434\n"
     ]
    },
    {
     "data": {
      "application/vnd.jupyter.widget-view+json": {
       "model_id": "c80f8b4047c7473883b6cda8441be677",
       "version_major": 2,
       "version_minor": 0
      },
      "text/plain": [
       "Drawing 1000 posterior samples:   0%|          | 0/1000 [00:00<?, ?it/s]"
      ]
     },
     "metadata": {},
     "output_type": "display_data"
    },
    {
     "data": {
      "application/vnd.jupyter.widget-view+json": {
       "model_id": "86275f62dbd442d6bd0587e217885b30",
       "version_major": 2,
       "version_minor": 0
      },
      "text/plain": [
       "Drawing 10000 posterior samples:   0%|          | 0/10000 [00:00<?, ?it/s]"
      ]
     },
     "metadata": {},
     "output_type": "display_data"
    },
    {
     "name": "stdout",
     "output_type": "stream",
     "text": [
      "Min RMSE is:  6.090041292403803\n"
     ]
    },
    {
     "data": {
      "application/vnd.jupyter.widget-view+json": {
       "model_id": "d520287344a24628a78698505344ad77",
       "version_major": 2,
       "version_minor": 0
      },
      "text/plain": [
       "Drawing 1000 posterior samples:   0%|          | 0/1000 [00:00<?, ?it/s]"
      ]
     },
     "metadata": {},
     "output_type": "display_data"
    }
   ],
   "source": [
    "# On Poly Samples\n",
    "rmse_info_block_on_poly = []\n",
    "for sample, ar_sample in zip(prior_samples_poly, app_res_samples_poly):\n",
    "    res_sample = polynomial.coefficients_to_resistivity(sample)\n",
    "    if np.isnan(res_sample).all():\n",
    "        continue\n",
    "    (min_rmse_ar, min_rmse_res, mean_res, mean_ar, avg_rmse_param, avg_rmse_obs, map, map_app_res, map_rmse_res,\n",
    "     map_rmse_app_res) = compute_avg_rmse_and_map_rsme_from_block_posterior_sammples(res_sample, ar_sample)\n",
    "    rmse_info_block_on_poly.append((min_rmse_ar, min_rmse_res, mean_res, mean_ar, avg_rmse_param, avg_rmse_obs, map,\n",
    "                                    map_app_res, map_rmse_res, map_rmse_app_res))"
   ]
  },
  {
   "cell_type": "code",
   "execution_count": 68,
   "id": "3247a78d-1d38-4789-88f8-d4ebf5e38a99",
   "metadata": {},
   "outputs": [
    {
     "name": "stdout",
     "output_type": "stream",
     "text": [
      "min_rsme_values_res 3.6454709975938173\n",
      "min_rsme_values_app_res 123.59375411532582\n"
     ]
    }
   ],
   "source": [
    "min_rsme_values_res = [item[0] for item in rmse_info_block_on_poly]\n",
    "min_rsme_values_app_res = [item[1] for item in rmse_info_block_on_poly]\n",
    "print(\"min_rsme_values_res\", np.average(min_rsme_values_res))\n",
    "print(\"min_rsme_values_app_res\", np.average(min_rsme_values_app_res))"
   ]
  },
  {
   "cell_type": "code",
   "execution_count": 58,
   "id": "c2ac0480-1393-4fbf-90f6-380582016bbc",
   "metadata": {
    "scrolled": true
   },
   "outputs": [
    {
     "data": {
      "application/vnd.jupyter.widget-view+json": {
       "model_id": "992d2d5e91d94149812b5dfa7e6762a1",
       "version_major": 2,
       "version_minor": 0
      },
      "text/plain": [
       "Drawing 10000 posterior samples:   0%|          | 0/10000 [00:00<?, ?it/s]"
      ]
     },
     "metadata": {},
     "output_type": "display_data"
    },
    {
     "name": "stdout",
     "output_type": "stream",
     "text": [
      "Min RMSE is:  2.848925143737222\n"
     ]
    },
    {
     "data": {
      "application/vnd.jupyter.widget-view+json": {
       "model_id": "9b42d14e9d4a46b98025adf448af5705",
       "version_major": 2,
       "version_minor": 0
      },
      "text/plain": [
       "Drawing 1000 posterior samples:   0%|          | 0/1000 [00:00<?, ?it/s]"
      ]
     },
     "metadata": {},
     "output_type": "display_data"
    },
    {
     "data": {
      "application/vnd.jupyter.widget-view+json": {
       "model_id": "ff4e3347bd2e4842b4ff38d76486f561",
       "version_major": 2,
       "version_minor": 0
      },
      "text/plain": [
       "Drawing 10000 posterior samples:   0%|          | 0/10000 [00:00<?, ?it/s]"
      ]
     },
     "metadata": {},
     "output_type": "display_data"
    },
    {
     "name": "stdout",
     "output_type": "stream",
     "text": [
      "Min RMSE is:  2.251742716754679\n"
     ]
    },
    {
     "data": {
      "application/vnd.jupyter.widget-view+json": {
       "model_id": "01f3dfc1bac64efc864c48e6cd715c3b",
       "version_major": 2,
       "version_minor": 0
      },
      "text/plain": [
       "Drawing 1000 posterior samples:   0%|          | 0/1000 [00:00<?, ?it/s]"
      ]
     },
     "metadata": {},
     "output_type": "display_data"
    },
    {
     "data": {
      "application/vnd.jupyter.widget-view+json": {
       "model_id": "639ece78276d4255a20956306bede691",
       "version_major": 2,
       "version_minor": 0
      },
      "text/plain": [
       "Drawing 10000 posterior samples:   0%|          | 0/10000 [00:00<?, ?it/s]"
      ]
     },
     "metadata": {},
     "output_type": "display_data"
    },
    {
     "name": "stdout",
     "output_type": "stream",
     "text": [
      "Min RMSE is:  2.2199789815977993\n"
     ]
    },
    {
     "data": {
      "application/vnd.jupyter.widget-view+json": {
       "model_id": "7ac5e1315dad4e14bb53de714a4ac136",
       "version_major": 2,
       "version_minor": 0
      },
      "text/plain": [
       "Drawing 1000 posterior samples:   0%|          | 0/1000 [00:00<?, ?it/s]"
      ]
     },
     "metadata": {},
     "output_type": "display_data"
    },
    {
     "data": {
      "application/vnd.jupyter.widget-view+json": {
       "model_id": "bc3b8decb21f456cae35dedbc32157c1",
       "version_major": 2,
       "version_minor": 0
      },
      "text/plain": [
       "Drawing 10000 posterior samples:   0%|          | 0/10000 [00:00<?, ?it/s]"
      ]
     },
     "metadata": {},
     "output_type": "display_data"
    },
    {
     "name": "stdout",
     "output_type": "stream",
     "text": [
      "Min RMSE is:  2.5466788832623375\n"
     ]
    },
    {
     "data": {
      "application/vnd.jupyter.widget-view+json": {
       "model_id": "e4c7d037f7544deba0a03a5c4bee715d",
       "version_major": 2,
       "version_minor": 0
      },
      "text/plain": [
       "Drawing 1000 posterior samples:   0%|          | 0/1000 [00:00<?, ?it/s]"
      ]
     },
     "metadata": {},
     "output_type": "display_data"
    },
    {
     "data": {
      "application/vnd.jupyter.widget-view+json": {
       "model_id": "fa2a71cb24504973aac02acd017837c5",
       "version_major": 2,
       "version_minor": 0
      },
      "text/plain": [
       "Drawing 10000 posterior samples:   0%|          | 0/10000 [00:00<?, ?it/s]"
      ]
     },
     "metadata": {},
     "output_type": "display_data"
    },
    {
     "name": "stdout",
     "output_type": "stream",
     "text": [
      "Min RMSE is:  2.861679302061977\n"
     ]
    },
    {
     "data": {
      "application/vnd.jupyter.widget-view+json": {
       "model_id": "902c88459c76439897136dfbe6f46753",
       "version_major": 2,
       "version_minor": 0
      },
      "text/plain": [
       "Drawing 1000 posterior samples:   0%|          | 0/1000 [00:00<?, ?it/s]"
      ]
     },
     "metadata": {},
     "output_type": "display_data"
    },
    {
     "data": {
      "application/vnd.jupyter.widget-view+json": {
       "model_id": "ab369c95c21b44ab9eabea5facd42429",
       "version_major": 2,
       "version_minor": 0
      },
      "text/plain": [
       "Drawing 10000 posterior samples:   0%|          | 0/10000 [00:00<?, ?it/s]"
      ]
     },
     "metadata": {},
     "output_type": "display_data"
    },
    {
     "name": "stdout",
     "output_type": "stream",
     "text": [
      "Min RMSE is:  1.6971290212995223\n"
     ]
    },
    {
     "data": {
      "application/vnd.jupyter.widget-view+json": {
       "model_id": "25cbafcf55124e60a057cc9c7c87497d",
       "version_major": 2,
       "version_minor": 0
      },
      "text/plain": [
       "Drawing 1000 posterior samples:   0%|          | 0/1000 [00:00<?, ?it/s]"
      ]
     },
     "metadata": {},
     "output_type": "display_data"
    },
    {
     "data": {
      "application/vnd.jupyter.widget-view+json": {
       "model_id": "412809c5c1d8472aa3725c09a021b4d1",
       "version_major": 2,
       "version_minor": 0
      },
      "text/plain": [
       "Drawing 10000 posterior samples:   0%|          | 0/10000 [00:00<?, ?it/s]"
      ]
     },
     "metadata": {},
     "output_type": "display_data"
    },
    {
     "name": "stdout",
     "output_type": "stream",
     "text": [
      "Min RMSE is:  2.54663876841126\n"
     ]
    },
    {
     "data": {
      "application/vnd.jupyter.widget-view+json": {
       "model_id": "dc81a8d6847b444f9d9a237a2cb2711a",
       "version_major": 2,
       "version_minor": 0
      },
      "text/plain": [
       "Drawing 1000 posterior samples:   0%|          | 0/1000 [00:00<?, ?it/s]"
      ]
     },
     "metadata": {},
     "output_type": "display_data"
    },
    {
     "data": {
      "application/vnd.jupyter.widget-view+json": {
       "model_id": "5a9f982cd3a94c9aaddaad8de7486e85",
       "version_major": 2,
       "version_minor": 0
      },
      "text/plain": [
       "Drawing 10000 posterior samples:   0%|          | 0/10000 [00:00<?, ?it/s]"
      ]
     },
     "metadata": {},
     "output_type": "display_data"
    },
    {
     "name": "stdout",
     "output_type": "stream",
     "text": [
      "Min RMSE is:  2.8831184434934976\n"
     ]
    },
    {
     "data": {
      "application/vnd.jupyter.widget-view+json": {
       "model_id": "66a92986fc8f4a9ebd1a1d96c1443ea6",
       "version_major": 2,
       "version_minor": 0
      },
      "text/plain": [
       "Drawing 1000 posterior samples:   0%|          | 0/1000 [00:00<?, ?it/s]"
      ]
     },
     "metadata": {},
     "output_type": "display_data"
    },
    {
     "data": {
      "application/vnd.jupyter.widget-view+json": {
       "model_id": "e35ca1dc0fe54ca6827ccbc686b01097",
       "version_major": 2,
       "version_minor": 0
      },
      "text/plain": [
       "Drawing 10000 posterior samples:   0%|          | 0/10000 [00:00<?, ?it/s]"
      ]
     },
     "metadata": {},
     "output_type": "display_data"
    },
    {
     "name": "stdout",
     "output_type": "stream",
     "text": [
      "Min RMSE is:  2.554595339730582\n"
     ]
    },
    {
     "data": {
      "application/vnd.jupyter.widget-view+json": {
       "model_id": "86357fa43e5a4805b5a8e40237ffa41c",
       "version_major": 2,
       "version_minor": 0
      },
      "text/plain": [
       "Drawing 1000 posterior samples:   0%|          | 0/1000 [00:00<?, ?it/s]"
      ]
     },
     "metadata": {},
     "output_type": "display_data"
    },
    {
     "data": {
      "application/vnd.jupyter.widget-view+json": {
       "model_id": "8f7de0d088104c04a20449e9112b9a02",
       "version_major": 2,
       "version_minor": 0
      },
      "text/plain": [
       "Drawing 10000 posterior samples:   0%|          | 0/10000 [00:00<?, ?it/s]"
      ]
     },
     "metadata": {},
     "output_type": "display_data"
    },
    {
     "name": "stdout",
     "output_type": "stream",
     "text": [
      "Min RMSE is:  2.520642850442397\n"
     ]
    },
    {
     "data": {
      "application/vnd.jupyter.widget-view+json": {
       "model_id": "60da06fc5b664e3094187bbd11861e47",
       "version_major": 2,
       "version_minor": 0
      },
      "text/plain": [
       "Drawing 1000 posterior samples:   0%|          | 0/1000 [00:00<?, ?it/s]"
      ]
     },
     "metadata": {},
     "output_type": "display_data"
    }
   ],
   "source": [
    "# On Block Samples\n",
    "\n",
    "rmse_info_block_on_block = []\n",
    "for sample, ar_sample in zip(prior_samples_block, app_res_samples_block):\n",
    "    res_sample = block_sample_to_resistivity(sample)\n",
    "    (min_rmse_ar, min_rmse_res, mean_res, mean_ar, avg_rmse_param, avg_rmse_obs, map, map_app_res, map_rmse_res,\n",
    "     map_rmse_app_res) = compute_avg_rmse_and_map_rsme_from_block_posterior_sammples(res_sample, ar_sample)\n",
    "    rmse_info_block_on_block.append((min_rmse_ar, min_rmse_res, mean_res, mean_ar, avg_rmse_param, avg_rmse_obs, map,\n",
    "                                     map_app_res, map_rmse_res, map_rmse_app_res))"
   ]
  },
  {
   "cell_type": "code",
   "execution_count": 59,
   "id": "0c6fbc52-8040-486a-ad23-d3a03590a6de",
   "metadata": {},
   "outputs": [
    {
     "name": "stdout",
     "output_type": "stream",
     "text": [
      "min_rsme_values_res 2.4931129450791274\n",
      "min_rsme_values_app_res 77.59322627536916\n"
     ]
    }
   ],
   "source": [
    "min_rsme_values_res = [item[0] for item in rmse_info_block_on_block]\n",
    "min_rsme_values_app_res = [item[1] for item in rmse_info_block_on_block]\n",
    "print(\"min_rsme_values_res\", np.average(min_rsme_values_res))\n",
    "print(\"min_rsme_values_app_res\", np.average(min_rsme_values_app_res))"
   ]
  },
  {
   "cell_type": "code",
   "execution_count": 61,
   "id": "0a60fa00-b157-410b-bf69-2306494cad8b",
   "metadata": {
    "scrolled": true
   },
   "outputs": [
    {
     "data": {
      "application/vnd.jupyter.widget-view+json": {
       "model_id": "106135e38e924586bf541ea2464ea066",
       "version_major": 2,
       "version_minor": 0
      },
      "text/plain": [
       "Drawing 10000 posterior samples:   0%|          | 0/10000 [00:00<?, ?it/s]"
      ]
     },
     "metadata": {},
     "output_type": "display_data"
    },
    {
     "name": "stdout",
     "output_type": "stream",
     "text": [
      "Min RMSE is:  3.157172948450546\n"
     ]
    },
    {
     "data": {
      "application/vnd.jupyter.widget-view+json": {
       "model_id": "5222b4ade1014ebe8cc61970965a7300",
       "version_major": 2,
       "version_minor": 0
      },
      "text/plain": [
       "Drawing 1000 posterior samples:   0%|          | 0/1000 [00:00<?, ?it/s]"
      ]
     },
     "metadata": {},
     "output_type": "display_data"
    },
    {
     "data": {
      "application/vnd.jupyter.widget-view+json": {
       "model_id": "d561feb39a41437d8ef290b3e0abd42e",
       "version_major": 2,
       "version_minor": 0
      },
      "text/plain": [
       "Drawing 10000 posterior samples:   0%|          | 0/10000 [00:00<?, ?it/s]"
      ]
     },
     "metadata": {},
     "output_type": "display_data"
    },
    {
     "name": "stdout",
     "output_type": "stream",
     "text": [
      "Min RMSE is:  4.136704626422415\n"
     ]
    },
    {
     "data": {
      "application/vnd.jupyter.widget-view+json": {
       "model_id": "6661764d5b45452e89589f6d07f6bd3c",
       "version_major": 2,
       "version_minor": 0
      },
      "text/plain": [
       "Drawing 1000 posterior samples:   0%|          | 0/1000 [00:00<?, ?it/s]"
      ]
     },
     "metadata": {},
     "output_type": "display_data"
    },
    {
     "data": {
      "application/vnd.jupyter.widget-view+json": {
       "model_id": "b493de6f4e8c456b8d0b78559d96d6f4",
       "version_major": 2,
       "version_minor": 0
      },
      "text/plain": [
       "Drawing 10000 posterior samples:   0%|          | 0/10000 [00:00<?, ?it/s]"
      ]
     },
     "metadata": {},
     "output_type": "display_data"
    },
    {
     "name": "stdout",
     "output_type": "stream",
     "text": [
      "Min RMSE is:  16.704076622501788\n"
     ]
    },
    {
     "data": {
      "application/vnd.jupyter.widget-view+json": {
       "model_id": "d2807b379c5a4389a14f64f7fd6f37ed",
       "version_major": 2,
       "version_minor": 0
      },
      "text/plain": [
       "Drawing 1000 posterior samples:   0%|          | 0/1000 [00:00<?, ?it/s]"
      ]
     },
     "metadata": {},
     "output_type": "display_data"
    },
    {
     "data": {
      "application/vnd.jupyter.widget-view+json": {
       "model_id": "43f86a7b12d0413a840005f1033edacf",
       "version_major": 2,
       "version_minor": 0
      },
      "text/plain": [
       "Drawing 10000 posterior samples:   0%|          | 0/10000 [00:00<?, ?it/s]"
      ]
     },
     "metadata": {},
     "output_type": "display_data"
    },
    {
     "name": "stdout",
     "output_type": "stream",
     "text": [
      "Min RMSE is:  2.707851949209353\n"
     ]
    },
    {
     "data": {
      "application/vnd.jupyter.widget-view+json": {
       "model_id": "1ca1a06c51f2493fa9c1107b7793079e",
       "version_major": 2,
       "version_minor": 0
      },
      "text/plain": [
       "Drawing 1000 posterior samples:   0%|          | 0/1000 [00:00<?, ?it/s]"
      ]
     },
     "metadata": {},
     "output_type": "display_data"
    },
    {
     "data": {
      "application/vnd.jupyter.widget-view+json": {
       "model_id": "7a6a985ab48e4174a81cdd29d3b6e2d9",
       "version_major": 2,
       "version_minor": 0
      },
      "text/plain": [
       "Drawing 10000 posterior samples:   0%|          | 0/10000 [00:00<?, ?it/s]"
      ]
     },
     "metadata": {},
     "output_type": "display_data"
    },
    {
     "name": "stdout",
     "output_type": "stream",
     "text": [
      "Min RMSE is:  9.644215443120125\n"
     ]
    },
    {
     "data": {
      "application/vnd.jupyter.widget-view+json": {
       "model_id": "92622a26d46a41438fd7fadca0b144b2",
       "version_major": 2,
       "version_minor": 0
      },
      "text/plain": [
       "Drawing 1000 posterior samples:   0%|          | 0/1000 [00:00<?, ?it/s]"
      ]
     },
     "metadata": {},
     "output_type": "display_data"
    },
    {
     "data": {
      "application/vnd.jupyter.widget-view+json": {
       "model_id": "4342740167b044afa511a941fdff86fb",
       "version_major": 2,
       "version_minor": 0
      },
      "text/plain": [
       "Drawing 10000 posterior samples:   0%|          | 0/10000 [00:00<?, ?it/s]"
      ]
     },
     "metadata": {},
     "output_type": "display_data"
    },
    {
     "name": "stdout",
     "output_type": "stream",
     "text": [
      "Min RMSE is:  7.514948576959756\n"
     ]
    },
    {
     "data": {
      "application/vnd.jupyter.widget-view+json": {
       "model_id": "201db58eacd1429495213595f998e709",
       "version_major": 2,
       "version_minor": 0
      },
      "text/plain": [
       "Drawing 1000 posterior samples:   0%|          | 0/1000 [00:00<?, ?it/s]"
      ]
     },
     "metadata": {},
     "output_type": "display_data"
    },
    {
     "data": {
      "application/vnd.jupyter.widget-view+json": {
       "model_id": "078d6932aa74469387971a502a43ab27",
       "version_major": 2,
       "version_minor": 0
      },
      "text/plain": [
       "Drawing 10000 posterior samples:   0%|          | 0/10000 [00:00<?, ?it/s]"
      ]
     },
     "metadata": {},
     "output_type": "display_data"
    },
    {
     "name": "stdout",
     "output_type": "stream",
     "text": [
      "Min RMSE is:  14.346921275791694\n"
     ]
    },
    {
     "data": {
      "application/vnd.jupyter.widget-view+json": {
       "model_id": "bf6d51b3ea27449eae6e42e55f8c84c6",
       "version_major": 2,
       "version_minor": 0
      },
      "text/plain": [
       "Drawing 1000 posterior samples:   0%|          | 0/1000 [00:00<?, ?it/s]"
      ]
     },
     "metadata": {},
     "output_type": "display_data"
    },
    {
     "data": {
      "application/vnd.jupyter.widget-view+json": {
       "model_id": "97b9a6072a1e4a0393500e92916ef2f5",
       "version_major": 2,
       "version_minor": 0
      },
      "text/plain": [
       "Drawing 10000 posterior samples:   0%|          | 0/10000 [00:00<?, ?it/s]"
      ]
     },
     "metadata": {},
     "output_type": "display_data"
    },
    {
     "name": "stdout",
     "output_type": "stream",
     "text": [
      "Min RMSE is:  7.810803094980074\n"
     ]
    },
    {
     "data": {
      "application/vnd.jupyter.widget-view+json": {
       "model_id": "e7d9d3fa1f5944f894c8e8bf74aad472",
       "version_major": 2,
       "version_minor": 0
      },
      "text/plain": [
       "Drawing 1000 posterior samples:   0%|          | 0/1000 [00:00<?, ?it/s]"
      ]
     },
     "metadata": {},
     "output_type": "display_data"
    },
    {
     "data": {
      "application/vnd.jupyter.widget-view+json": {
       "model_id": "6e0b3de319eb4cf398235214f6202cf1",
       "version_major": 2,
       "version_minor": 0
      },
      "text/plain": [
       "Drawing 10000 posterior samples:   0%|          | 0/10000 [00:00<?, ?it/s]"
      ]
     },
     "metadata": {},
     "output_type": "display_data"
    },
    {
     "name": "stdout",
     "output_type": "stream",
     "text": [
      "Min RMSE is:  2.4313318298576494\n"
     ]
    },
    {
     "data": {
      "application/vnd.jupyter.widget-view+json": {
       "model_id": "6db543382e844a868d72f7f9e7de5543",
       "version_major": 2,
       "version_minor": 0
      },
      "text/plain": [
       "Drawing 1000 posterior samples:   0%|          | 0/1000 [00:00<?, ?it/s]"
      ]
     },
     "metadata": {},
     "output_type": "display_data"
    },
    {
     "data": {
      "application/vnd.jupyter.widget-view+json": {
       "model_id": "c283cd7ba787441491a04525f0fd84cc",
       "version_major": 2,
       "version_minor": 0
      },
      "text/plain": [
       "Drawing 10000 posterior samples:   0%|          | 0/10000 [00:00<?, ?it/s]"
      ]
     },
     "metadata": {},
     "output_type": "display_data"
    },
    {
     "name": "stdout",
     "output_type": "stream",
     "text": [
      "Min RMSE is:  6.155211913719567\n"
     ]
    },
    {
     "data": {
      "application/vnd.jupyter.widget-view+json": {
       "model_id": "af97a02b07e24e8c9b5b8e2d86509dbb",
       "version_major": 2,
       "version_minor": 0
      },
      "text/plain": [
       "Drawing 1000 posterior samples:   0%|          | 0/1000 [00:00<?, ?it/s]"
      ]
     },
     "metadata": {},
     "output_type": "display_data"
    }
   ],
   "source": [
    "# On Ind. Step Samples\n",
    "\n",
    "rmse_info_block_on_ind_step = []\n",
    "for sample, ar_sample in zip(prior_samples_ind_step, app_res_samples_ind_step):\n",
    "    (min_rmse_ar, min_rmse_res, mean_res, mean_ar, avg_rmse_param, avg_rmse_obs, map, map_app_res, map_rmse_res,\n",
    "     map_rmse_app_res) = compute_avg_rmse_and_map_rsme_from_block_posterior_sammples(sample, ar_sample)\n",
    "    rmse_info_block_on_ind_step.append((min_rmse_ar, min_rmse_res, mean_res, mean_ar, avg_rmse_param, avg_rmse_obs, map,\n",
    "                                        map_app_res, map_rmse_res, map_rmse_app_res))"
   ]
  },
  {
   "cell_type": "code",
   "execution_count": 62,
   "id": "09ca622c-b03e-48da-ba78-2b62c7181911",
   "metadata": {},
   "outputs": [
    {
     "name": "stdout",
     "output_type": "stream",
     "text": [
      "min_rsme_values_res 7.460923828101296\n",
      "min_rsme_values_app_res 335.06598124415814\n"
     ]
    }
   ],
   "source": [
    "min_rsme_values_res = [item[0] for item in rmse_info_block_on_ind_step]\n",
    "min_rsme_values_app_res = [item[1] for item in rmse_info_block_on_ind_step]\n",
    "print(\"min_rsme_values_res\", np.average(min_rsme_values_res))\n",
    "print(\"min_rsme_values_app_res\", np.average(min_rsme_values_app_res))"
   ]
  },
  {
   "cell_type": "code",
   "execution_count": null,
   "id": "4c9aad2b-3007-4c76-869b-161cb3e8b246",
   "metadata": {},
   "outputs": [],
   "source": [
    "pickle_objects(\n",
    "    [rmse_info_block_on_step, rmse_info_block_on_poly, rmse_info_block_on_block, rmse_info_block_on_ind_step],\n",
    "    filename='data/error metrics/errors_block_on_priors.pkl')"
   ]
  }
 ],
 "metadata": {
  "kernelspec": {
   "display_name": "python venv",
   "language": "python",
   "name": "venv"
  },
  "language_info": {
   "codemirror_mode": {
    "name": "ipython",
    "version": 3
   },
   "file_extension": ".py",
   "mimetype": "text/x-python",
   "name": "python",
   "nbconvert_exporter": "python",
   "pygments_lexer": "ipython3",
   "version": "3.9.16"
  }
 },
 "nbformat": 4,
 "nbformat_minor": 5
}
