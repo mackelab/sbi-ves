{
 "cells": [
  {
   "cell_type": "code",
   "execution_count": 1,
   "id": "43171561-b365-4e82-a7a9-724578fbafa8",
   "metadata": {},
   "outputs": [
    {
     "name": "stderr",
     "output_type": "stream",
     "text": [
      "2024-08-06 16:36:40.284907: I tensorflow/core/util/port.cc:111] oneDNN custom operations are on. You may see slightly different numerical results due to floating-point round-off errors from different computation orders. To turn them off, set the environment variable `TF_ENABLE_ONEDNN_OPTS=0`.\n",
      "2024-08-06 16:36:40.324865: E tensorflow/compiler/xla/stream_executor/cuda/cuda_dnn.cc:9342] Unable to register cuDNN factory: Attempting to register factory for plugin cuDNN when one has already been registered\n",
      "2024-08-06 16:36:40.324907: E tensorflow/compiler/xla/stream_executor/cuda/cuda_fft.cc:609] Unable to register cuFFT factory: Attempting to register factory for plugin cuFFT when one has already been registered\n",
      "2024-08-06 16:36:40.324930: E tensorflow/compiler/xla/stream_executor/cuda/cuda_blas.cc:1518] Unable to register cuBLAS factory: Attempting to register factory for plugin cuBLAS when one has already been registered\n",
      "2024-08-06 16:36:40.333315: I tensorflow/core/platform/cpu_feature_guard.cc:182] This TensorFlow binary is optimized to use available CPU instructions in performance-critical operations.\n",
      "To enable the following instructions: AVX2 AVX512F AVX512_VNNI FMA, in other operations, rebuild TensorFlow with the appropriate compiler flags.\n",
      "2024-08-06 16:36:41.577894: W tensorflow/compiler/tf2tensorrt/utils/py_utils.cc:38] TF-TRT Warning: Could not find TensorRT\n"
     ]
    }
   ],
   "source": [
    "%load_ext autoreload\n",
    "%autoreload 2\n",
    "\n",
    "import numpy as np\n",
    "import matplotlib.pyplot as plt\n",
    "import matplotlib.font_manager\n",
    "import pandas as pd\n",
    "import torch\n",
    "import pickle\n",
    "import math\n",
    "import prior.CustomDistribution as custom\n",
    "import config\n",
    "import time\n",
    "import IPython.display as IPd\n",
    "import warnings\n",
    "\n",
    "from forward import Forward \n",
    "from survey import Survey\n",
    "\n",
    "from sbi import utils as utils\n",
    "from sbi.utils import user_input_checks as uic\n",
    "\n",
    "from util import *\n",
    "from block_utils import *\n",
    "from pygimli_utils import *\n",
    "from polynomials import *\n",
    "\n",
    "from sklearn.metrics import mean_squared_error\n",
    "\n",
    "\n",
    "_ = torch.manual_seed(0)"
   ]
  },
  {
   "cell_type": "code",
   "execution_count": 2,
   "id": "437c628f-d7d8-4dd2-a89a-fc70e667b2ef",
   "metadata": {},
   "outputs": [],
   "source": [
    "max_depth= 23.5\n",
    "step_size= 0.5\n",
    "num_points= int(max_depth/step_size) +1 \n",
    "max_resistivity = 1000\n",
    "min_resistivity = 1\n",
    "num_measurements = 23\n",
    "num_dim = 48\n",
    "\n",
    "depths = np.linspace(0, max_depth, num=num_dim)\n",
    "thicknesses = torch.ones(num_dim) * 0.5"
   ]
  },
  {
   "cell_type": "markdown",
   "id": "1fed3b01-d4f0-458e-bb2b-78fb5a234fc4",
   "metadata": {},
   "source": [
    "## Load all posterior models"
   ]
  },
  {
   "cell_type": "code",
   "execution_count": 3,
   "id": "31c3e00f-ffce-4152-b530-b9d04a1ccc19",
   "metadata": {},
   "outputs": [],
   "source": [
    "# **** Step prior\n",
    "filename_step_model = \"pickled_objects/steps_100k_1000_ohm_48points_new.pkl\"\n",
    "inference_step, posterior_step = unpickle_objects(filename_step_model)\n",
    "\n",
    "\n",
    "# **** Polynomial Prior\n",
    "filename_legendre_model = \"pickled_objects/legendre_100k_1000_ohm_48points_new.pkl\"\n",
    "inference_poly, posterior_poly = unpickle_objects(filename_legendre_model)\n",
    "\n",
    "# **** Independent Step Prior\n",
    "filename_ind_steps_model = \"pickled_objects/ind_steps_500k_1000_ohm_48points.pkl\"\n",
    "inference_ind_step, posterior_ind_step = unpickle_objects(filename_ind_steps_model)\n",
    "\n",
    "# **** Block Prior \n",
    "filename_block_model = \"pickled_objects/block_100k_1000_ohm_48points.pkl\"\n",
    "inference_block, posterior_block = unpickle_objects(filename_block_model)"
   ]
  },
  {
   "cell_type": "markdown",
   "id": "495292cd-e666-4d36-9658-0b686c771944",
   "metadata": {},
   "source": [
    "## Load the prior samples that were generated in the Synthetic Test Case Notebook"
   ]
  },
  {
   "cell_type": "code",
   "execution_count": 4,
   "id": "43961d53-a1ca-414b-9c18-fcfe120dcec4",
   "metadata": {},
   "outputs": [],
   "source": [
    "filename_step = 'data/prior_samples/step_samples.pkl'\n",
    "filename_poly = 'data/prior_samples/poly_samples.pkl'\n",
    "filename_block = 'data/prior_samples/block_samples.pkl'\n",
    "filename_ind_step = 'data/prior_samples/ind_step_samples.pkl'\n",
    "\n",
    "\n",
    "(app_res_samples_step, prior_samples_step) = unpickle_objects(filename_step)\n",
    "(app_res_samples_poly, prior_samples_poly) = unpickle_objects(filename_poly)\n",
    "(app_res_samples_block, prior_samples_block)= unpickle_objects(filename_block)\n",
    "(app_res_samples_ind_step, prior_samples_ind_step) = unpickle_objects(filename_ind_step)"
   ]
  },
  {
   "cell_type": "markdown",
   "id": "699391b0-84be-42eb-8396-56d9acc80328",
   "metadata": {},
   "source": [
    "## Pygimli Inversion"
   ]
  },
  {
   "cell_type": "code",
   "execution_count": 5,
   "id": "9918d005-a2d5-4025-b7aa-08f6c7249f64",
   "metadata": {},
   "outputs": [],
   "source": [
    "pygimili_inv_filename_steps = 'data/inversion/prior_samples/step-samples-{}-layer.pkl'\n",
    "pygimili_inv_filename_polys = 'data/inversion/prior_samples/poly-samples-{}-layer.pkl'\n",
    "pygimili_inv_filename_blocks = 'data/inversion/prior_samples/block-samples-{}-layer.pkl'\n",
    "pygimili_inv_filename_ind_steps = 'data/inversion/prior_samples/ind-step-samples-{}-layer.pkl'\n",
    "\n",
    "\n",
    "inv_results_step_4 = unpickle_objects(pygimili_inv_filename_steps.format(4))\n",
    "inv_results_step_5 = unpickle_objects(pygimili_inv_filename_steps.format(5))\n",
    "inv_results_step_48 = unpickle_objects(pygimili_inv_filename_steps.format(48))\n",
    "\n",
    "\n",
    "inv_results_poly_4 = unpickle_objects(pygimili_inv_filename_polys.format(4))\n",
    "inv_results_poly_5 = unpickle_objects(pygimili_inv_filename_polys.format(5))\n",
    "inv_results_poly_48 = unpickle_objects(pygimili_inv_filename_polys.format(48))\n",
    "\n",
    "\n",
    "\n",
    "inv_results_block_4 = unpickle_objects(pygimili_inv_filename_blocks.format(4))\n",
    "inv_results_block_5 = unpickle_objects(pygimili_inv_filename_blocks.format(5))\n",
    "inv_results_block_48 = unpickle_objects(pygimili_inv_filename_blocks.format(48))\n",
    "\n",
    "\n",
    "\n",
    "inv_results_ind_step_4 = unpickle_objects(pygimili_inv_filename_ind_steps.format(4))\n",
    "inv_results_ind_step_5 = unpickle_objects(pygimili_inv_filename_ind_steps.format(5))\n",
    "inv_results_ind_step_48 = unpickle_objects(pygimili_inv_filename_ind_steps.format(48))\n"
   ]
  },
  {
   "cell_type": "markdown",
   "id": "a194f5cc-de34-4fb3-b772-93ad1e91acef",
   "metadata": {},
   "source": [
    "#### Evaluation of step sample inversion"
   ]
  },
  {
   "cell_type": "code",
   "execution_count": 6,
   "id": "def3fb16-95f2-42b5-9ef4-6678cc24dc56",
   "metadata": {},
   "outputs": [
    {
     "name": "stdout",
     "output_type": "stream",
     "text": [
      "Avg RMSE parameter space 4 layers: 104.81828\n",
      "Avg RMSE observation space 4 layers: 5.7715082794419965\n"
     ]
    }
   ],
   "source": [
    "inv_step_models_4 = [r[0] for r in inv_results_step_4]\n",
    "inv_step_inv_response_4 = [r[1] for r in inv_results_step_4]\n",
    "processed_resistivity_inv_step_4 = [process_gimli_results(model) for model in inv_step_models_4]\n",
    "\n",
    "\n",
    "rmses_param_pygim_step_4  = [rmse(step_sample, res[:48]) for step_sample, res in zip(prior_samples_step, processed_resistivity_inv_step_4) ]\n",
    "print('Avg RMSE parameter space 4 layers:', np.average(rmses_param_pygim_step_4))\n",
    "rmses_obs_pygim_sep_4 = [rmse(app_res_prior, inv_response)   for app_res_prior, inv_response in zip(app_res_samples_step, inv_step_inv_response_4)] \n",
    "print('Avg RMSE observation space 4 layers:', np.average(rmses_obs_pygim_sep_4))"
   ]
  },
  {
   "cell_type": "code",
   "execution_count": 7,
   "id": "86be72fa-9b52-4db0-9fae-f963a32aeaa2",
   "metadata": {},
   "outputs": [
    {
     "name": "stdout",
     "output_type": "stream",
     "text": [
      "Avg RMSE parameter space 5 layers: 101.95918\n",
      "Avg RMSE observation space 5 layers: 3.759240397491728\n"
     ]
    }
   ],
   "source": [
    "inv_step_models_5 = [r[0] for r in inv_results_step_5]\n",
    "inv_step_inv_response_5 = [r[1] for r in inv_results_step_5]\n",
    "processed_resistivity_inv_step_5 = [process_gimli_results(model) for model in inv_step_models_5]\n",
    "\n",
    "\n",
    "rmses_param_pygim_step_5  = [rmse(step_sample, res[:48]) for step_sample, res in zip(prior_samples_step, processed_resistivity_inv_step_5) ]\n",
    "print('Avg RMSE parameter space 5 layers:', np.average(rmses_param_pygim_step_5))\n",
    "rmses_obs_pygim_sep_5 = [rmse(app_res_prior, inv_response)   for app_res_prior, inv_response in zip(app_res_samples_step, inv_step_inv_response_5)] \n",
    "print('Avg RMSE observation space 5 layers:', np.average(rmses_obs_pygim_sep_5))"
   ]
  },
  {
   "cell_type": "code",
   "execution_count": 8,
   "id": "4148c564-7189-4c2b-bc63-3f4fc59de5e7",
   "metadata": {},
   "outputs": [
    {
     "name": "stdout",
     "output_type": "stream",
     "text": [
      "Avg RMSE parameter space 48 layers: 84.881065\n",
      "Avg RMSE observation space 48 layers: 3.9289012174240114\n"
     ]
    }
   ],
   "source": [
    "inv_step_models_48 = [r[0] for r in inv_results_step_48]\n",
    "inv_step_inv_response_48 = [r[1] for r in inv_results_step_48]\n",
    "processed_resistivity_inv_step_48 = [process_gimli_results(model) for model in inv_step_models_48]\n",
    "\n",
    "rmses_param_pygim_step_48  = [rmse(step_sample, res[:48]) for step_sample, res in zip(prior_samples_step, processed_resistivity_inv_step_48) ]\n",
    "print('Avg RMSE parameter space 48 layers:', np.average(rmses_param_pygim_step_48))\n",
    "rmses_obs_pygim_sep_48 = [rmse(app_res_prior, inv_response)   for app_res_prior, inv_response in zip(app_res_samples_step, inv_step_inv_response_48)] \n",
    "print('Avg RMSE observation space 48 layers:', np.average(rmses_obs_pygim_sep_48))"
   ]
  },
  {
   "cell_type": "markdown",
   "id": "4cf5ffc2-e182-4e96-84a8-7764fcbabe02",
   "metadata": {},
   "source": [
    "#### Evaluation of Poly sample inversion"
   ]
  },
  {
   "cell_type": "code",
   "execution_count": 9,
   "id": "00151c3c-ed21-4535-8140-6f231ba4b09a",
   "metadata": {},
   "outputs": [],
   "source": [
    "polynomial = Polynomial(max_depth=max_depth, num_dim=num_dim, max_res=max_resistivity, num_measurements=num_measurements)"
   ]
  },
  {
   "cell_type": "code",
   "execution_count": 10,
   "id": "7b76901e-0208-4bf8-b1d8-9c2af26628d8",
   "metadata": {},
   "outputs": [
    {
     "name": "stdout",
     "output_type": "stream",
     "text": [
      "Avg RMSE parameter space 4 layers: 103.15662906802763\n",
      "Avg RMSE observation space 4 layers: 5.219796773822577\n"
     ]
    }
   ],
   "source": [
    "inv_poly_models_4 = [r[0] for r in inv_results_poly_4]\n",
    "inv_poly_inv_response_4 = [r[1] for r in inv_results_poly_4]\n",
    "processed_resistivity_inv_poly_4 = [process_gimli_results(model) for model in inv_poly_models_4]\n",
    "\n",
    "rmses_param_pygim_poly_4  = [rmse(polynomial.coefficients_to_resistivity(poly_sample), res[:48]) for poly_sample, res in zip(prior_samples_poly, processed_resistivity_inv_poly_4) ]\n",
    "print('Avg RMSE parameter space 4 layers:', np.average(rmses_param_pygim_poly_4))\n",
    "rmses_obs_pygim_poly_4 = [rmse(app_res_prior, inv_response)   for app_res_prior, inv_response in zip(app_res_samples_poly, inv_poly_inv_response_4)] \n",
    "print('Avg RMSE observation space 4 layers:', np.average(rmses_obs_pygim_poly_4))"
   ]
  },
  {
   "cell_type": "code",
   "execution_count": 11,
   "id": "0ac78654-3122-4fc4-b5ed-0f077b5fcc71",
   "metadata": {},
   "outputs": [
    {
     "name": "stdout",
     "output_type": "stream",
     "text": [
      "Avg RMSE parameter space 5 layers: 118.21289992993422\n",
      "Avg RMSE observation space 5 layers: 3.339443419346934\n"
     ]
    }
   ],
   "source": [
    "inv_poly_models_5 = [r[0] for r in inv_results_poly_5]\n",
    "inv_poly_inv_response_5 = [r[1] for r in inv_results_poly_5]\n",
    "processed_resistivity_inv_poly_5 = [process_gimli_results(model) for model in inv_poly_models_5]\n",
    "\n",
    "\n",
    "rmses_param_pygim_poly_5  = [rmse(polynomial.coefficients_to_resistivity(poly_sample), res[:48]) for poly_sample, res in zip(prior_samples_poly, processed_resistivity_inv_poly_5) ]\n",
    "print('Avg RMSE parameter space 5 layers:', np.average(rmses_param_pygim_poly_5))\n",
    "rmses_obs_pygim_poly_5 = [rmse(app_res_prior, inv_response)   for app_res_prior, inv_response in zip(app_res_samples_poly, inv_poly_inv_response_5)] \n",
    "print('Avg RMSE observation space 5 layers:', np.average(rmses_obs_pygim_poly_5))"
   ]
  },
  {
   "cell_type": "code",
   "execution_count": 12,
   "id": "25b3125b-f56b-4834-94a1-2e99ab494f87",
   "metadata": {},
   "outputs": [
    {
     "name": "stdout",
     "output_type": "stream",
     "text": [
      "Avg RMSE parameter space 48 layers: 113.50087488541362\n",
      "Avg RMSE observation space 48 layers: 4.469134235273012\n"
     ]
    }
   ],
   "source": [
    "inv_poly_models_48 = [r[0] for r in inv_results_poly_48]\n",
    "inv_poly_inv_response_48 = [r[1] for r in inv_results_poly_48]\n",
    "processed_resistivity_inv_poly_48 = [process_gimli_results(model) for model in inv_poly_models_48]\n",
    "\n",
    "\n",
    "rmses_param_pygim_poly_48  = [rmse(polynomial.coefficients_to_resistivity(poly_sample), res[:48]) for poly_sample, res in zip(prior_samples_poly, processed_resistivity_inv_poly_48) ]\n",
    "print('Avg RMSE parameter space 48 layers:', np.average(rmses_param_pygim_poly_48))\n",
    "rmses_obs_pygim_poly_48 = [rmse(app_res_prior, inv_response)   for app_res_prior, inv_response in zip(app_res_samples_poly, inv_poly_inv_response_48)] \n",
    "print('Avg RMSE observation space 48 layers:', np.average(rmses_obs_pygim_poly_48))"
   ]
  },
  {
   "cell_type": "markdown",
   "id": "f926e0e1-901f-4fcf-a126-3f3a38850ae9",
   "metadata": {},
   "source": [
    "#### Evaluation of Block sample inversion"
   ]
  },
  {
   "cell_type": "code",
   "execution_count": 13,
   "id": "9043092d-c6a0-4d0c-80b1-f1f193667d51",
   "metadata": {},
   "outputs": [],
   "source": [
    "def ensure_48_points(block_res):\n",
    "    '''    \n",
    "    Check if the depth profile has 48 values. If depth profile is too short, extend the last layers -> used for plotting\n",
    "    in case the model has 48 points it is not modified. If it has less, the resistivity values of the last layer are appenden to ensure 48 points.\n",
    "    \n",
    "    Return block resistivities\n",
    "    '''\n",
    "    \n",
    "    # Check if the array has less than 48 values\n",
    "    while len(block_res) < 48:\n",
    "        # Append the last value to the array until it has 48 values\n",
    "        block_res.append(block_res[-1])\n",
    "    return np.array(block_res)\n",
    "    \n",
    "\n",
    "\n",
    "def block_sample_to_resistivity(sample): \n",
    "    '''\n",
    "    Transforms a block prior or posterior sample into the resistivity depth profile.\n",
    "    The sample is splitted into layer thicknesses and resistivity values. \n",
    "    From this a depth profile of at least 48 steps is generated that representens the resistivities at small layer steps of 0.5m \n",
    "    to compare to other depth profiles of other priors or posteriors\n",
    "    \n",
    "    Returns the resistivity depth profile from a block sample. \n",
    "    '''\n",
    "    \n",
    "    inv_res_thick_depth, max_depth = transfrom_and_find_max_reached_depth([sample])\n",
    "    mapped_sample = map_resistivities_to_depth(inv_res_thick_depth, max_depth)\n",
    "    low_res_sample = transform_to_lower_res_samples(mapped_sample)[0]\n",
    "    return ensure_48_points(low_res_sample)\n"
   ]
  },
  {
   "cell_type": "code",
   "execution_count": 14,
   "id": "ffe99b86-8b0e-42b5-89a8-d326f8a29680",
   "metadata": {},
   "outputs": [
    {
     "name": "stdout",
     "output_type": "stream",
     "text": [
      "Avg RMSE parameter space 4 layers: 93.53353061009314\n",
      "Avg RMSE observation space 4 layers: 4.563220472856642\n"
     ]
    }
   ],
   "source": [
    "inv_block_models_4 = [r[0] for r in inv_results_block_4]\n",
    "inv_block_inv_response_4 = [r[1] for r in inv_results_block_4]\n",
    "processed_resistivity_inv_block_4 = [process_gimli_results(model) for model in inv_block_models_4]\n",
    "\n",
    "\n",
    "rmses_param_pygim_block_4  = [rmse(block_sample_to_resistivity(block_sample), res[:48]) for block_sample, res in zip(prior_samples_block, processed_resistivity_inv_block_4) ]\n",
    "print('Avg RMSE parameter space 4 layers:', np.average(rmses_param_pygim_block_4))\n",
    "rmses_obs_pygim_block_4 = [rmse(app_res_prior, inv_response)   for app_res_prior, inv_response in zip(app_res_samples_block, inv_block_inv_response_4)] \n",
    "print('Avg RMSE observation space 4 layers:', np.average(rmses_obs_pygim_block_4))"
   ]
  },
  {
   "cell_type": "code",
   "execution_count": 15,
   "id": "22b8afb3-8812-41ab-8196-2acab273d0dd",
   "metadata": {},
   "outputs": [
    {
     "name": "stdout",
     "output_type": "stream",
     "text": [
      "Avg RMSE parameter space 5 layers: 139.69246167362616\n",
      "Avg RMSE observation space 5 layers: 3.7821560277384476\n"
     ]
    }
   ],
   "source": [
    "inv_block_models_5 = [r[0] for r in inv_results_block_5]\n",
    "inv_block_inv_response_5 = [r[1] for r in inv_results_block_5]\n",
    "processed_resistivity_inv_block_5 = [process_gimli_results(model) for model in inv_block_models_5]\n",
    "\n",
    "\n",
    "rmses_param_pygim_block_5  = [rmse(block_sample_to_resistivity(block_sample), res[:48]) for block_sample, res in zip(prior_samples_block, processed_resistivity_inv_block_5) ]\n",
    "print('Avg RMSE parameter space 5 layers:', np.average(rmses_param_pygim_block_5))\n",
    "rmses_obs_pygim_block_5 = [rmse(app_res_prior, inv_response)   for app_res_prior, inv_response in zip(app_res_samples_block, inv_block_inv_response_5)] \n",
    "print('Avg RMSE observation space 5 layers:', np.average(rmses_obs_pygim_block_5))"
   ]
  },
  {
   "cell_type": "code",
   "execution_count": 16,
   "id": "5d956fa9-6db1-4044-9397-a70b8868c32a",
   "metadata": {},
   "outputs": [
    {
     "name": "stdout",
     "output_type": "stream",
     "text": [
      "Avg RMSE parameter space 48 layers: 118.74335785447855\n",
      "Avg RMSE observation space 48 layers: 4.309729593188939\n"
     ]
    }
   ],
   "source": [
    "inv_block_models_48 = [r[0] for r in inv_results_block_48]\n",
    "inv_block_inv_response_48 = [r[1] for r in inv_results_block_48]\n",
    "processed_resistivity_inv_block_48 = [process_gimli_results(model) for model in inv_block_models_48]\n",
    "\n",
    "\n",
    "rmses_param_pygim_block_48  = [rmse(block_sample_to_resistivity(block_sample), res[:48]) for block_sample, res in zip(prior_samples_block, processed_resistivity_inv_block_48) ]\n",
    "print('Avg RMSE parameter space 48 layers:', np.average(rmses_param_pygim_block_48))\n",
    "rmses_obs_pygim_block_48 = [rmse(app_res_prior, inv_response)   for app_res_prior, inv_response in zip(app_res_samples_block, inv_block_inv_response_48)] \n",
    "print('Avg RMSE observation space 48 layers:', np.average(rmses_obs_pygim_block_48))"
   ]
  },
  {
   "cell_type": "markdown",
   "id": "caac7d55-0b8b-4a02-b250-6a90754d626d",
   "metadata": {},
   "source": [
    "#### Evaluation of Ind Step sample inversion"
   ]
  },
  {
   "cell_type": "code",
   "execution_count": 17,
   "id": "9fd9f25b-c6bf-4552-8a70-ba97ae453971",
   "metadata": {},
   "outputs": [
    {
     "name": "stdout",
     "output_type": "stream",
     "text": [
      "Avg RMSE parameter space 4 layers: 320.49292\n",
      "Avg RMSE observation space 4 layers: 6.798597550498842\n"
     ]
    }
   ],
   "source": [
    "inv_ind_step_models_4 = [r[0] for r in inv_results_ind_step_4]\n",
    "inv_ind_step_inv_response_4 = [r[1] for r in inv_results_ind_step_4]\n",
    "processed_resistivity_inv_ind_step_4 = [process_gimli_results(model) for model in inv_ind_step_models_4]\n",
    "\n",
    "\n",
    "rmses_param_pygim_ind_step_4  = [rmse(ind_step_sample, res[:48]) for ind_step_sample, res in zip(prior_samples_ind_step, processed_resistivity_inv_ind_step_4) ]\n",
    "print('Avg RMSE parameter space 4 layers:', np.average(rmses_param_pygim_ind_step_4))\n",
    "rmses_obs_pygim_sep_4 = [rmse(app_res_prior, inv_response)   for app_res_prior, inv_response in zip(app_res_samples_ind_step, inv_ind_step_inv_response_4)] \n",
    "print('Avg RMSE observation space 4 layers:', np.average(rmses_obs_pygim_sep_4))"
   ]
  },
  {
   "cell_type": "code",
   "execution_count": 18,
   "id": "401e8e89-16e0-41d1-be6f-c398ed03e755",
   "metadata": {},
   "outputs": [
    {
     "name": "stdout",
     "output_type": "stream",
     "text": [
      "Avg RMSE parameter space 5 layers: 324.7596\n",
      "Avg RMSE observation space 5 layers: 4.852102298775273\n"
     ]
    }
   ],
   "source": [
    "inv_ind_step_models_5 = [r[0] for r in inv_results_ind_step_5]\n",
    "inv_ind_step_inv_response_5 = [r[1] for r in inv_results_ind_step_5]\n",
    "processed_resistivity_inv_ind_step_5 = [process_gimli_results(model) for model in inv_ind_step_models_5]\n",
    "\n",
    "\n",
    "rmses_param_pygim_ind_step_5  = [rmse(ind_step_sample, res[:48]) for ind_step_sample, res in zip(prior_samples_ind_step, processed_resistivity_inv_ind_step_5) ]\n",
    "print('Avg RMSE parameter space 5 layers:', np.average(rmses_param_pygim_ind_step_5))\n",
    "rmses_obs_pygim_sep_5 = [rmse(app_res_prior, inv_response)   for app_res_prior, inv_response in zip(app_res_samples_ind_step, inv_ind_step_inv_response_5)] \n",
    "print('Avg RMSE observation space 5 layers:', np.average(rmses_obs_pygim_sep_5))"
   ]
  },
  {
   "cell_type": "code",
   "execution_count": 19,
   "id": "221fed5b-d0f4-4833-947a-4beb88972c62",
   "metadata": {},
   "outputs": [
    {
     "name": "stdout",
     "output_type": "stream",
     "text": [
      "Avg RMSE parameter space 48 layers: 331.42914\n",
      "Avg RMSE observation space 48 layers: 4.9405356420362825\n"
     ]
    }
   ],
   "source": [
    "inv_ind_step_models_48 = [r[0] for r in inv_results_ind_step_48]\n",
    "inv_ind_step_inv_response_48 = [r[1] for r in inv_results_ind_step_48]\n",
    "processed_resistivity_inv_ind_step_48 = [process_gimli_results(model) for model in inv_ind_step_models_48]\n",
    "\n",
    "\n",
    "rmses_param_pygim_ind_step_48  = [rmse(ind_step_sample, res[:48]) for ind_step_sample, res in zip(prior_samples_ind_step, processed_resistivity_inv_ind_step_48) ]\n",
    "print('Avg RMSE parameter space 48 layers:', np.average(rmses_param_pygim_ind_step_48))\n",
    "rmses_obs_pygim_sep_48 = [rmse(app_res_prior, inv_response)   for app_res_prior, inv_response in zip(app_res_samples_ind_step, inv_ind_step_inv_response_48)] \n",
    "print('Avg RMSE observation space 48 layers:', np.average(rmses_obs_pygim_sep_48))"
   ]
  }
 ],
 "metadata": {
  "kernelspec": {
   "display_name": "subenv",
   "language": "python",
   "name": "subenv"
  },
  "language_info": {
   "codemirror_mode": {
    "name": "ipython",
    "version": 3
   },
   "file_extension": ".py",
   "mimetype": "text/x-python",
   "name": "python",
   "nbconvert_exporter": "python",
   "pygments_lexer": "ipython3",
   "version": "3.9.16"
  }
 },
 "nbformat": 4,
 "nbformat_minor": 5
}
